{
 "cells": [
  {
   "cell_type": "code",
   "execution_count": 1,
   "metadata": {},
   "outputs": [],
   "source": [
    "import sys\n",
    "sys.path.append(\"./function_scripts\")\n",
    "import data_cleaning_fns as dcfns\n",
    "\n",
    "import pandas as pd\n",
    "import re\n",
    "import pickle\n",
    "import datetime as dt"
   ]
  },
  {
   "cell_type": "markdown",
   "metadata": {},
   "source": [
    "#### Import 'dirty' kickstarter dataframes"
   ]
  },
  {
   "cell_type": "code",
   "execution_count": 2,
   "metadata": {},
   "outputs": [
    {
     "name": "stdout",
     "output_type": "stream",
     "text": [
      "(29740, 11)\n",
      "(14901, 11)\n",
      "(11237, 11)\n",
      "(55878, 11)\n"
     ]
    }
   ],
   "source": [
    "dirty_pickle_files = ['all_data_dirty_1_1999.pickle',\n",
    "                      'all_data_dirty_2000_2999.pickle',\n",
    "                      'all_data_dirty_3000_3751.pickle']\n",
    "with open(dirty_pickle_files[0], 'rb') as f:\n",
    "    project_df_0 = pickle.load(f)\n",
    "print(project_df_0.shape)\n",
    "with open(dirty_pickle_files[1], 'rb') as f:\n",
    "    project_df_1 = pickle.load(f)\n",
    "print(project_df_1.shape)\n",
    "with open(dirty_pickle_files[2], 'rb') as f:\n",
    "    project_df_2 = pickle.load(f)\n",
    "print(project_df_2.shape)\n",
    "\n",
    "project_df = pd.concat([project_df_0, project_df_1, project_df_2])\n",
    "print(project_df.shape)"
   ]
  },
  {
   "cell_type": "code",
   "execution_count": 3,
   "metadata": {},
   "outputs": [],
   "source": [
    "project_df.reset_index(inplace=True, drop=True)"
   ]
  },
  {
   "cell_type": "code",
   "execution_count": 4,
   "metadata": {},
   "outputs": [
    {
     "data": {
      "text/html": [
       "<div>\n",
       "<style scoped>\n",
       "    .dataframe tbody tr th:only-of-type {\n",
       "        vertical-align: middle;\n",
       "    }\n",
       "\n",
       "    .dataframe tbody tr th {\n",
       "        vertical-align: top;\n",
       "    }\n",
       "\n",
       "    .dataframe thead th {\n",
       "        text-align: right;\n",
       "    }\n",
       "</style>\n",
       "<table border=\"1\" class=\"dataframe\">\n",
       "  <thead>\n",
       "    <tr style=\"text-align: right;\">\n",
       "      <th></th>\n",
       "      <th>kickstarter_page</th>\n",
       "      <th>funding</th>\n",
       "      <th>campaign_dates</th>\n",
       "      <th>backers</th>\n",
       "      <th>category</th>\n",
       "      <th>description_length</th>\n",
       "      <th>n_pledges</th>\n",
       "      <th>pledge_level_min</th>\n",
       "      <th>pledge_level_max</th>\n",
       "      <th>pledge_level_stddev</th>\n",
       "      <th>currency</th>\n",
       "    </tr>\n",
       "  </thead>\n",
       "  <tbody>\n",
       "    <tr>\n",
       "      <th>48527</th>\n",
       "      <td>/projects/1553937149/gymnation-bringing-the-mu...</td>\n",
       "      <td>\\n\\t\\t\\t\\t\\tFunding: 20 of 15,000 (</td>\n",
       "      <td>\\n\\t\\t\\t\\t\\tCampaign Dates: February 20th -&gt; A...</td>\n",
       "      <td>\\n\\t\\t\\t\\t\\tBackers: 2</td>\n",
       "      <td>Games</td>\n",
       "      <td>622</td>\n",
       "      <td>7</td>\n",
       "      <td>10</td>\n",
       "      <td>8000</td>\n",
       "      <td>2681.582688</td>\n",
       "      <td>AU</td>\n",
       "    </tr>\n",
       "    <tr>\n",
       "      <th>13875</th>\n",
       "      <td>/projects/patriceregnier/the-terp-app-a-whole-...</td>\n",
       "      <td>\\n\\t\\t\\t\\t\\tFunding: 7,650 of 21,000 (</td>\n",
       "      <td>\\n\\t\\t\\t\\t\\tCampaign Dates: August 20th -&gt; Oct...</td>\n",
       "      <td>\\n\\t\\t\\t\\t\\tBackers: 67</td>\n",
       "      <td>Games</td>\n",
       "      <td>576</td>\n",
       "      <td>14</td>\n",
       "      <td>10</td>\n",
       "      <td>5000</td>\n",
       "      <td>1880.813064</td>\n",
       "      <td>$</td>\n",
       "    </tr>\n",
       "  </tbody>\n",
       "</table>\n",
       "</div>"
      ],
      "text/plain": [
       "                                        kickstarter_page  \\\n",
       "48527  /projects/1553937149/gymnation-bringing-the-mu...   \n",
       "13875  /projects/patriceregnier/the-terp-app-a-whole-...   \n",
       "\n",
       "                                      funding  \\\n",
       "48527     \\n\\t\\t\\t\\t\\tFunding: 20 of 15,000 (   \n",
       "13875  \\n\\t\\t\\t\\t\\tFunding: 7,650 of 21,000 (   \n",
       "\n",
       "                                          campaign_dates  \\\n",
       "48527  \\n\\t\\t\\t\\t\\tCampaign Dates: February 20th -> A...   \n",
       "13875  \\n\\t\\t\\t\\t\\tCampaign Dates: August 20th -> Oct...   \n",
       "\n",
       "                       backers category  description_length  n_pledges  \\\n",
       "48527   \\n\\t\\t\\t\\t\\tBackers: 2    Games                 622          7   \n",
       "13875  \\n\\t\\t\\t\\t\\tBackers: 67    Games                 576         14   \n",
       "\n",
       "       pledge_level_min  pledge_level_max  pledge_level_stddev currency  \n",
       "48527                10              8000          2681.582688      AU   \n",
       "13875                10              5000          1880.813064        $  "
      ]
     },
     "execution_count": 4,
     "metadata": {},
     "output_type": "execute_result"
    }
   ],
   "source": [
    "project_df.sample(2)"
   ]
  },
  {
   "cell_type": "markdown",
   "metadata": {},
   "source": [
    "#### Extract numerical data from text fields"
   ]
  },
  {
   "cell_type": "markdown",
   "metadata": {},
   "source": [
    "###### Initialize columns for cleaned data with base values"
   ]
  },
  {
   "cell_type": "code",
   "execution_count": 5,
   "metadata": {},
   "outputs": [],
   "source": [
    "project_df['funding_actual'] = 0\n",
    "project_df['funding_goal'] = 0\n",
    "project_df['n_backers'] = 0\n",
    "project_df['start_date'] = 0\n",
    "project_df['duration'] = 0"
   ]
  },
  {
   "cell_type": "markdown",
   "metadata": {},
   "source": [
    "###### Apply function to extract data from text"
   ]
  },
  {
   "cell_type": "code",
   "execution_count": 6,
   "metadata": {},
   "outputs": [
    {
     "data": {
      "text/html": [
       "<div>\n",
       "<style scoped>\n",
       "    .dataframe tbody tr th:only-of-type {\n",
       "        vertical-align: middle;\n",
       "    }\n",
       "\n",
       "    .dataframe tbody tr th {\n",
       "        vertical-align: top;\n",
       "    }\n",
       "\n",
       "    .dataframe thead th {\n",
       "        text-align: right;\n",
       "    }\n",
       "</style>\n",
       "<table border=\"1\" class=\"dataframe\">\n",
       "  <thead>\n",
       "    <tr style=\"text-align: right;\">\n",
       "      <th></th>\n",
       "      <th>kickstarter_page</th>\n",
       "      <th>funding</th>\n",
       "      <th>campaign_dates</th>\n",
       "      <th>backers</th>\n",
       "      <th>category</th>\n",
       "      <th>description_length</th>\n",
       "      <th>n_pledges</th>\n",
       "      <th>pledge_level_min</th>\n",
       "      <th>pledge_level_max</th>\n",
       "      <th>pledge_level_stddev</th>\n",
       "      <th>currency</th>\n",
       "      <th>funding_actual</th>\n",
       "      <th>funding_goal</th>\n",
       "      <th>n_backers</th>\n",
       "      <th>start_date</th>\n",
       "      <th>duration</th>\n",
       "    </tr>\n",
       "  </thead>\n",
       "  <tbody>\n",
       "    <tr>\n",
       "      <th>0</th>\n",
       "      <td>/projects/1063028485/good-art-guide/</td>\n",
       "      <td>\\n\\t\\t\\t\\t\\tFunding: £0 of £10,000 (</td>\n",
       "      <td>\\n\\t\\t\\t\\t\\tCampaign Dates: November 26th -&gt; J...</td>\n",
       "      <td>\\n\\t\\t\\t\\t\\tBackers: 0</td>\n",
       "      <td>Art</td>\n",
       "      <td>93</td>\n",
       "      <td>1</td>\n",
       "      <td>5</td>\n",
       "      <td>5</td>\n",
       "      <td>0.00000</td>\n",
       "      <td>£</td>\n",
       "      <td>0</td>\n",
       "      <td>10000</td>\n",
       "      <td>0</td>\n",
       "      <td>2014-11-26</td>\n",
       "      <td>60</td>\n",
       "    </tr>\n",
       "    <tr>\n",
       "      <th>1</th>\n",
       "      <td>/projects/spiderwebcitytx/katlynn-maries-horro...</td>\n",
       "      <td>\\n\\t\\t\\t\\t\\tFunding: 17 of 15,000 (</td>\n",
       "      <td>\\n\\t\\t\\t\\t\\tCampaign Dates: November 24th -&gt; J...</td>\n",
       "      <td>\\n\\t\\t\\t\\t\\tBackers: 3</td>\n",
       "      <td>Art</td>\n",
       "      <td>106</td>\n",
       "      <td>3</td>\n",
       "      <td>2</td>\n",
       "      <td>100</td>\n",
       "      <td>45.50702</td>\n",
       "      <td>$</td>\n",
       "      <td>17</td>\n",
       "      <td>15000</td>\n",
       "      <td>3</td>\n",
       "      <td>2014-11-24</td>\n",
       "      <td>60</td>\n",
       "    </tr>\n",
       "  </tbody>\n",
       "</table>\n",
       "</div>"
      ],
      "text/plain": [
       "                                    kickstarter_page  \\\n",
       "0               /projects/1063028485/good-art-guide/   \n",
       "1  /projects/spiderwebcitytx/katlynn-maries-horro...   \n",
       "\n",
       "                                funding  \\\n",
       "0  \\n\\t\\t\\t\\t\\tFunding: £0 of £10,000 (   \n",
       "1   \\n\\t\\t\\t\\t\\tFunding: 17 of 15,000 (   \n",
       "\n",
       "                                      campaign_dates                 backers  \\\n",
       "0  \\n\\t\\t\\t\\t\\tCampaign Dates: November 26th -> J...  \\n\\t\\t\\t\\t\\tBackers: 0   \n",
       "1  \\n\\t\\t\\t\\t\\tCampaign Dates: November 24th -> J...  \\n\\t\\t\\t\\t\\tBackers: 3   \n",
       "\n",
       "  category  description_length  n_pledges  pledge_level_min  pledge_level_max  \\\n",
       "0      Art                  93          1                 5                 5   \n",
       "1      Art                 106          3                 2               100   \n",
       "\n",
       "   pledge_level_stddev currency funding_actual funding_goal n_backers  \\\n",
       "0              0.00000        £              0        10000         0   \n",
       "1             45.50702        $             17        15000         3   \n",
       "\n",
       "   start_date  duration  \n",
       "0  2014-11-26        60  \n",
       "1  2014-11-24        60  "
      ]
     },
     "execution_count": 6,
     "metadata": {},
     "output_type": "execute_result"
    }
   ],
   "source": [
    "project_df = project_df.apply(dcfns.data_from_text, axis=1)\n",
    "project_df.head(2)"
   ]
  },
  {
   "cell_type": "markdown",
   "metadata": {},
   "source": [
    "###### Drop now-unnecessary text columns"
   ]
  },
  {
   "cell_type": "code",
   "execution_count": 7,
   "metadata": {},
   "outputs": [
    {
     "data": {
      "text/plain": [
       "Index(['kickstarter_page', 'category', 'description_length', 'n_pledges',\n",
       "       'pledge_level_min', 'pledge_level_max', 'pledge_level_stddev',\n",
       "       'currency', 'funding_actual', 'funding_goal', 'n_backers', 'start_date',\n",
       "       'duration'],\n",
       "      dtype='object')"
      ]
     },
     "execution_count": 7,
     "metadata": {},
     "output_type": "execute_result"
    }
   ],
   "source": [
    "project_df.drop(columns=['funding', 'campaign_dates', 'backers'], inplace=True)\n",
    "project_df.columns"
   ]
  },
  {
   "cell_type": "markdown",
   "metadata": {},
   "source": [
    "###### Save intermediate version of data"
   ]
  },
  {
   "cell_type": "code",
   "execution_count": 8,
   "metadata": {},
   "outputs": [],
   "source": [
    "with open('all_data_no_currency_conversion.pickle', 'wb') as f:\n",
    "    pickle.dump(project_df,f)"
   ]
  },
  {
   "cell_type": "markdown",
   "metadata": {},
   "source": [
    "#### Standardize Currencies"
   ]
  },
  {
   "cell_type": "code",
   "execution_count": 9,
   "metadata": {},
   "outputs": [
    {
     "data": {
      "text/plain": [
       "$       42249\n",
       "£        6861\n",
       "CA       3365\n",
       "AU       1807\n",
       "€         601\n",
       "US        599\n",
       "NZ        326\n",
       "SEK        26\n",
       "NOK        22\n",
       "DKK        22\n",
       "Name: currency, dtype: int64"
      ]
     },
     "execution_count": 9,
     "metadata": {},
     "output_type": "execute_result"
    }
   ],
   "source": [
    "project_df.currency.value_counts()"
   ]
  },
  {
   "cell_type": "markdown",
   "metadata": {},
   "source": [
    "###### After some spot-checking, I am pretty confident that \"US\" and \"$\" both refer to US currency. Let's set both to \"USD\". Furthermore, let's convert all our currency tags to those used by the European Central Bank. Furthermore, let's limit our observations to those in USD, GBP, CAD, AUD, EUR and NZD."
   ]
  },
  {
   "cell_type": "code",
   "execution_count": 10,
   "metadata": {},
   "outputs": [],
   "source": [
    "project_df.currency = project_df.currency.apply(lambda x: 'USD' if x=='$' or x=='US '\n",
    "                                                else ('GBP' if x=='£' else \n",
    "                                                      ('CAD' if x=='CA ' else\n",
    "                                                       ('AUD' if x=='AU ' else\n",
    "                                                       ('EUR' if x=='€' else\n",
    "                                                       ('NZD' if x=='NZ ' else x))))))"
   ]
  },
  {
   "cell_type": "code",
   "execution_count": 11,
   "metadata": {},
   "outputs": [
    {
     "data": {
      "text/plain": [
       "USD     42848\n",
       "GBP      6861\n",
       "CAD      3365\n",
       "AUD      1807\n",
       "EUR       601\n",
       "NZD       326\n",
       "SEK        26\n",
       "NOK        22\n",
       "DKK        22\n",
       "Name: currency, dtype: int64"
      ]
     },
     "execution_count": 11,
     "metadata": {},
     "output_type": "execute_result"
    }
   ],
   "source": [
    "project_df.currency.value_counts()"
   ]
  },
  {
   "cell_type": "markdown",
   "metadata": {},
   "source": [
    "###### Drop unwanted currencies"
   ]
  },
  {
   "cell_type": "code",
   "execution_count": 12,
   "metadata": {},
   "outputs": [
    {
     "data": {
      "text/plain": [
       "USD    42848\n",
       "GBP     6861\n",
       "CAD     3365\n",
       "AUD     1807\n",
       "EUR      601\n",
       "NZD      326\n",
       "Name: currency, dtype: int64"
      ]
     },
     "execution_count": 12,
     "metadata": {},
     "output_type": "execute_result"
    }
   ],
   "source": [
    "wanted_currency_mask = project_df.currency.isin(['USD', 'GBP', 'CAD', 'AUD', 'EUR', 'NZD'])\n",
    "project_df = project_df[wanted_currency_mask]\n",
    "project_df.currency.value_counts()\n",
    "#unwanted_currency_mask"
   ]
  },
  {
   "cell_type": "markdown",
   "metadata": {},
   "source": [
    "###### Convert currencies using python currency_converter with data from European Central Bank "
   ]
  },
  {
   "cell_type": "code",
   "execution_count": 13,
   "metadata": {},
   "outputs": [
    {
     "data": {
      "text/plain": [
       "(55808, 13)"
      ]
     },
     "execution_count": 13,
     "metadata": {},
     "output_type": "execute_result"
    }
   ],
   "source": [
    "project_df.shape"
   ]
  },
  {
   "cell_type": "code",
   "execution_count": 14,
   "metadata": {},
   "outputs": [
    {
     "data": {
      "text/html": [
       "<div>\n",
       "<style scoped>\n",
       "    .dataframe tbody tr th:only-of-type {\n",
       "        vertical-align: middle;\n",
       "    }\n",
       "\n",
       "    .dataframe tbody tr th {\n",
       "        vertical-align: top;\n",
       "    }\n",
       "\n",
       "    .dataframe thead th {\n",
       "        text-align: right;\n",
       "    }\n",
       "</style>\n",
       "<table border=\"1\" class=\"dataframe\">\n",
       "  <thead>\n",
       "    <tr style=\"text-align: right;\">\n",
       "      <th></th>\n",
       "      <th>kickstarter_page</th>\n",
       "      <th>category</th>\n",
       "      <th>description_length</th>\n",
       "      <th>n_pledges</th>\n",
       "      <th>pledge_level_min</th>\n",
       "      <th>pledge_level_max</th>\n",
       "      <th>pledge_level_stddev</th>\n",
       "      <th>funding_actual</th>\n",
       "      <th>funding_goal</th>\n",
       "      <th>n_backers</th>\n",
       "      <th>start_date</th>\n",
       "      <th>duration</th>\n",
       "    </tr>\n",
       "  </thead>\n",
       "  <tbody>\n",
       "    <tr>\n",
       "      <th>0</th>\n",
       "      <td>/projects/1063028485/good-art-guide/</td>\n",
       "      <td>Art</td>\n",
       "      <td>93</td>\n",
       "      <td>1</td>\n",
       "      <td>7.886086</td>\n",
       "      <td>7.886086</td>\n",
       "      <td>0.000000</td>\n",
       "      <td>0.0</td>\n",
       "      <td>15772.172704</td>\n",
       "      <td>0</td>\n",
       "      <td>2014-11-26</td>\n",
       "      <td>60</td>\n",
       "    </tr>\n",
       "    <tr>\n",
       "      <th>1</th>\n",
       "      <td>/projects/spiderwebcitytx/katlynn-maries-horro...</td>\n",
       "      <td>Art</td>\n",
       "      <td>106</td>\n",
       "      <td>3</td>\n",
       "      <td>2.000000</td>\n",
       "      <td>100.000000</td>\n",
       "      <td>45.507020</td>\n",
       "      <td>17.0</td>\n",
       "      <td>15000.000000</td>\n",
       "      <td>3</td>\n",
       "      <td>2014-11-24</td>\n",
       "      <td>60</td>\n",
       "    </tr>\n",
       "    <tr>\n",
       "      <th>2</th>\n",
       "      <td>/projects/mnassar/wwwparkinglocatorcomau/</td>\n",
       "      <td>Technology</td>\n",
       "      <td>46</td>\n",
       "      <td>1</td>\n",
       "      <td>8.712913</td>\n",
       "      <td>8.712913</td>\n",
       "      <td>0.000000</td>\n",
       "      <td>0.0</td>\n",
       "      <td>43564.564775</td>\n",
       "      <td>0</td>\n",
       "      <td>2014-11-21</td>\n",
       "      <td>60</td>\n",
       "    </tr>\n",
       "    <tr>\n",
       "      <th>3</th>\n",
       "      <td>/projects/1934089488/not-enough-fish/</td>\n",
       "      <td>Film &amp; Video</td>\n",
       "      <td>160</td>\n",
       "      <td>7</td>\n",
       "      <td>7.837804</td>\n",
       "      <td>783.780404</td>\n",
       "      <td>299.100883</td>\n",
       "      <td>0.0</td>\n",
       "      <td>1567.560808</td>\n",
       "      <td>0</td>\n",
       "      <td>2014-11-19</td>\n",
       "      <td>59</td>\n",
       "    </tr>\n",
       "    <tr>\n",
       "      <th>4</th>\n",
       "      <td>/projects/timodwyer/hurt-fate-feature-film/</td>\n",
       "      <td>Film &amp; Video</td>\n",
       "      <td>153</td>\n",
       "      <td>10</td>\n",
       "      <td>1.564151</td>\n",
       "      <td>7820.753536</td>\n",
       "      <td>2342.290924</td>\n",
       "      <td>0.0</td>\n",
       "      <td>93849.042433</td>\n",
       "      <td>0</td>\n",
       "      <td>2014-11-17</td>\n",
       "      <td>60</td>\n",
       "    </tr>\n",
       "  </tbody>\n",
       "</table>\n",
       "</div>"
      ],
      "text/plain": [
       "                                    kickstarter_page      category  \\\n",
       "0               /projects/1063028485/good-art-guide/           Art   \n",
       "1  /projects/spiderwebcitytx/katlynn-maries-horro...           Art   \n",
       "2          /projects/mnassar/wwwparkinglocatorcomau/    Technology   \n",
       "3              /projects/1934089488/not-enough-fish/  Film & Video   \n",
       "4        /projects/timodwyer/hurt-fate-feature-film/  Film & Video   \n",
       "\n",
       "   description_length  n_pledges  pledge_level_min  pledge_level_max  \\\n",
       "0                  93          1          7.886086          7.886086   \n",
       "1                 106          3          2.000000        100.000000   \n",
       "2                  46          1          8.712913          8.712913   \n",
       "3                 160          7          7.837804        783.780404   \n",
       "4                 153         10          1.564151       7820.753536   \n",
       "\n",
       "   pledge_level_stddev  funding_actual  funding_goal n_backers  start_date  \\\n",
       "0             0.000000             0.0  15772.172704         0  2014-11-26   \n",
       "1            45.507020            17.0  15000.000000         3  2014-11-24   \n",
       "2             0.000000             0.0  43564.564775         0  2014-11-21   \n",
       "3           299.100883             0.0   1567.560808         0  2014-11-19   \n",
       "4          2342.290924             0.0  93849.042433         0  2014-11-17   \n",
       "\n",
       "   duration  \n",
       "0        60  \n",
       "1        60  \n",
       "2        60  \n",
       "3        59  \n",
       "4        60  "
      ]
     },
     "execution_count": 14,
     "metadata": {},
     "output_type": "execute_result"
    }
   ],
   "source": [
    "project_df = project_df.apply(dcfns.currency_change, axis=1)\n",
    "project_df.drop(columns=['currency'], inplace=True)\n",
    "project_df.head()"
   ]
  },
  {
   "cell_type": "code",
   "execution_count": 15,
   "metadata": {},
   "outputs": [],
   "source": [
    "with open('all_data_clean_original.pickle', 'wb') as f:\n",
    "    pickle.dump(project_df,f)"
   ]
  },
  {
   "cell_type": "markdown",
   "metadata": {},
   "source": [
    "##### Get dummies from category\n",
    "###### Note that \"Art\" is dropped, so projects with all 0s in category columns are Art projects"
   ]
  },
  {
   "cell_type": "code",
   "execution_count": 34,
   "metadata": {},
   "outputs": [],
   "source": [
    "dummy_columns = pd.get_dummies(project_df.category, drop_first=True)"
   ]
  },
  {
   "cell_type": "code",
   "execution_count": 35,
   "metadata": {},
   "outputs": [],
   "source": [
    "df_full =pd.concat([project_df,dummy_columns], axis=1)\n",
    "df_full.drop(columns=['category'], inplace=True)"
   ]
  },
  {
   "cell_type": "code",
   "execution_count": 36,
   "metadata": {},
   "outputs": [
    {
     "data": {
      "text/html": [
       "<div>\n",
       "<style scoped>\n",
       "    .dataframe tbody tr th:only-of-type {\n",
       "        vertical-align: middle;\n",
       "    }\n",
       "\n",
       "    .dataframe tbody tr th {\n",
       "        vertical-align: top;\n",
       "    }\n",
       "\n",
       "    .dataframe thead th {\n",
       "        text-align: right;\n",
       "    }\n",
       "</style>\n",
       "<table border=\"1\" class=\"dataframe\">\n",
       "  <thead>\n",
       "    <tr style=\"text-align: right;\">\n",
       "      <th></th>\n",
       "      <th>kickstarter_page</th>\n",
       "      <th>description_length</th>\n",
       "      <th>n_pledges</th>\n",
       "      <th>pledge_level_min</th>\n",
       "      <th>pledge_level_max</th>\n",
       "      <th>pledge_level_stddev</th>\n",
       "      <th>funding_actual</th>\n",
       "      <th>funding_goal</th>\n",
       "      <th>n_backers</th>\n",
       "      <th>start_date</th>\n",
       "      <th>...</th>\n",
       "      <th>Film &amp; Video</th>\n",
       "      <th>Food</th>\n",
       "      <th>Games</th>\n",
       "      <th>Journalism</th>\n",
       "      <th>Music</th>\n",
       "      <th>Photography</th>\n",
       "      <th>Publishing</th>\n",
       "      <th>Sculpture</th>\n",
       "      <th>Technology</th>\n",
       "      <th>Theater</th>\n",
       "    </tr>\n",
       "  </thead>\n",
       "  <tbody>\n",
       "    <tr>\n",
       "      <th>13556</th>\n",
       "      <td>/projects/593066327/my-very-first-ever-art-show/</td>\n",
       "      <td>98</td>\n",
       "      <td>2</td>\n",
       "      <td>40.0</td>\n",
       "      <td>80.0</td>\n",
       "      <td>20.000000</td>\n",
       "      <td>721.0</td>\n",
       "      <td>700.0</td>\n",
       "      <td>6</td>\n",
       "      <td>2014-09-03</td>\n",
       "      <td>...</td>\n",
       "      <td>0</td>\n",
       "      <td>0</td>\n",
       "      <td>0</td>\n",
       "      <td>0</td>\n",
       "      <td>0</td>\n",
       "      <td>0</td>\n",
       "      <td>0</td>\n",
       "      <td>0</td>\n",
       "      <td>0</td>\n",
       "      <td>0</td>\n",
       "    </tr>\n",
       "    <tr>\n",
       "      <th>11517</th>\n",
       "      <td>/projects/callmemabey/peace-love-happiness/</td>\n",
       "      <td>159</td>\n",
       "      <td>5</td>\n",
       "      <td>5.0</td>\n",
       "      <td>100.0</td>\n",
       "      <td>34.727511</td>\n",
       "      <td>0.0</td>\n",
       "      <td>12500.0</td>\n",
       "      <td>0</td>\n",
       "      <td>2014-09-12</td>\n",
       "      <td>...</td>\n",
       "      <td>0</td>\n",
       "      <td>0</td>\n",
       "      <td>0</td>\n",
       "      <td>0</td>\n",
       "      <td>0</td>\n",
       "      <td>0</td>\n",
       "      <td>0</td>\n",
       "      <td>0</td>\n",
       "      <td>0</td>\n",
       "      <td>0</td>\n",
       "    </tr>\n",
       "  </tbody>\n",
       "</table>\n",
       "<p>2 rows × 26 columns</p>\n",
       "</div>"
      ],
      "text/plain": [
       "                                       kickstarter_page  description_length  \\\n",
       "13556  /projects/593066327/my-very-first-ever-art-show/                  98   \n",
       "11517       /projects/callmemabey/peace-love-happiness/                 159   \n",
       "\n",
       "       n_pledges  pledge_level_min  pledge_level_max  pledge_level_stddev  \\\n",
       "13556          2              40.0              80.0            20.000000   \n",
       "11517          5               5.0             100.0            34.727511   \n",
       "\n",
       "       funding_actual  funding_goal n_backers  start_date   ...     \\\n",
       "13556           721.0         700.0         6  2014-09-03   ...      \n",
       "11517             0.0       12500.0         0  2014-09-12   ...      \n",
       "\n",
       "       Film & Video  Food  Games  Journalism  Music  Photography  Publishing  \\\n",
       "13556             0     0      0           0      0            0           0   \n",
       "11517             0     0      0           0      0            0           0   \n",
       "\n",
       "       Sculpture  Technology  Theater  \n",
       "13556          0           0        0  \n",
       "11517          0           0        0  \n",
       "\n",
       "[2 rows x 26 columns]"
      ]
     },
     "execution_count": 36,
     "metadata": {},
     "output_type": "execute_result"
    }
   ],
   "source": [
    "df_full.sample(2)"
   ]
  },
  {
   "cell_type": "markdown",
   "metadata": {},
   "source": [
    "#### Add in funding % and get rid of columns we will not use in our models"
   ]
  },
  {
   "cell_type": "code",
   "execution_count": 37,
   "metadata": {},
   "outputs": [
    {
     "name": "stdout",
     "output_type": "stream",
     "text": [
      "<class 'pandas.core.frame.DataFrame'>\n",
      "Int64Index: 55808 entries, 0 to 55877\n",
      "Data columns (total 26 columns):\n",
      "kickstarter_page       55808 non-null object\n",
      "description_length     55808 non-null int64\n",
      "n_pledges              55808 non-null int64\n",
      "pledge_level_min       55808 non-null float64\n",
      "pledge_level_max       55808 non-null float64\n",
      "pledge_level_stddev    55808 non-null float64\n",
      "funding_actual         55808 non-null float64\n",
      "funding_goal           55808 non-null float64\n",
      "n_backers              55808 non-null object\n",
      "start_date             55808 non-null object\n",
      "duration               55808 non-null int64\n",
      "Comics                 55808 non-null uint8\n",
      "Crafts                 55808 non-null uint8\n",
      "Dance                  55808 non-null uint8\n",
      "Design                 55808 non-null uint8\n",
      "Fashion                55808 non-null uint8\n",
      "Film & Video           55808 non-null uint8\n",
      "Food                   55808 non-null uint8\n",
      "Games                  55808 non-null uint8\n",
      "Journalism             55808 non-null uint8\n",
      "Music                  55808 non-null uint8\n",
      "Photography            55808 non-null uint8\n",
      "Publishing             55808 non-null uint8\n",
      "Sculpture              55808 non-null uint8\n",
      "Technology             55808 non-null uint8\n",
      "Theater                55808 non-null uint8\n",
      "dtypes: float64(5), int64(3), object(3), uint8(15)\n",
      "memory usage: 5.9+ MB\n"
     ]
    }
   ],
   "source": [
    "df_full.info()"
   ]
  },
  {
   "cell_type": "code",
   "execution_count": 38,
   "metadata": {},
   "outputs": [],
   "source": [
    "df_to_model = df_full\n",
    "df_to_model.drop(columns=['kickstarter_page', 'start_date', 'n_backers'], inplace=True)"
   ]
  },
  {
   "cell_type": "code",
   "execution_count": 39,
   "metadata": {},
   "outputs": [
    {
     "data": {
      "text/html": [
       "<div>\n",
       "<style scoped>\n",
       "    .dataframe tbody tr th:only-of-type {\n",
       "        vertical-align: middle;\n",
       "    }\n",
       "\n",
       "    .dataframe tbody tr th {\n",
       "        vertical-align: top;\n",
       "    }\n",
       "\n",
       "    .dataframe thead th {\n",
       "        text-align: right;\n",
       "    }\n",
       "</style>\n",
       "<table border=\"1\" class=\"dataframe\">\n",
       "  <thead>\n",
       "    <tr style=\"text-align: right;\">\n",
       "      <th></th>\n",
       "      <th>description_length</th>\n",
       "      <th>n_pledges</th>\n",
       "      <th>pledge_level_min</th>\n",
       "      <th>pledge_level_max</th>\n",
       "      <th>pledge_level_stddev</th>\n",
       "      <th>funding_goal</th>\n",
       "      <th>duration</th>\n",
       "      <th>Comics</th>\n",
       "      <th>Crafts</th>\n",
       "      <th>Dance</th>\n",
       "      <th>...</th>\n",
       "      <th>Food</th>\n",
       "      <th>Games</th>\n",
       "      <th>Journalism</th>\n",
       "      <th>Music</th>\n",
       "      <th>Photography</th>\n",
       "      <th>Publishing</th>\n",
       "      <th>Sculpture</th>\n",
       "      <th>Technology</th>\n",
       "      <th>Theater</th>\n",
       "      <th>funding_percent</th>\n",
       "    </tr>\n",
       "  </thead>\n",
       "  <tbody>\n",
       "    <tr>\n",
       "      <th>0</th>\n",
       "      <td>93</td>\n",
       "      <td>1</td>\n",
       "      <td>7.886086</td>\n",
       "      <td>7.886086</td>\n",
       "      <td>0.000000</td>\n",
       "      <td>15772.172704</td>\n",
       "      <td>60</td>\n",
       "      <td>0</td>\n",
       "      <td>0</td>\n",
       "      <td>0</td>\n",
       "      <td>...</td>\n",
       "      <td>0</td>\n",
       "      <td>0</td>\n",
       "      <td>0</td>\n",
       "      <td>0</td>\n",
       "      <td>0</td>\n",
       "      <td>0</td>\n",
       "      <td>0</td>\n",
       "      <td>0</td>\n",
       "      <td>0</td>\n",
       "      <td>0.000000</td>\n",
       "    </tr>\n",
       "    <tr>\n",
       "      <th>1</th>\n",
       "      <td>106</td>\n",
       "      <td>3</td>\n",
       "      <td>2.000000</td>\n",
       "      <td>100.000000</td>\n",
       "      <td>45.507020</td>\n",
       "      <td>15000.000000</td>\n",
       "      <td>60</td>\n",
       "      <td>0</td>\n",
       "      <td>0</td>\n",
       "      <td>0</td>\n",
       "      <td>...</td>\n",
       "      <td>0</td>\n",
       "      <td>0</td>\n",
       "      <td>0</td>\n",
       "      <td>0</td>\n",
       "      <td>0</td>\n",
       "      <td>0</td>\n",
       "      <td>0</td>\n",
       "      <td>0</td>\n",
       "      <td>0</td>\n",
       "      <td>0.001133</td>\n",
       "    </tr>\n",
       "    <tr>\n",
       "      <th>2</th>\n",
       "      <td>46</td>\n",
       "      <td>1</td>\n",
       "      <td>8.712913</td>\n",
       "      <td>8.712913</td>\n",
       "      <td>0.000000</td>\n",
       "      <td>43564.564775</td>\n",
       "      <td>60</td>\n",
       "      <td>0</td>\n",
       "      <td>0</td>\n",
       "      <td>0</td>\n",
       "      <td>...</td>\n",
       "      <td>0</td>\n",
       "      <td>0</td>\n",
       "      <td>0</td>\n",
       "      <td>0</td>\n",
       "      <td>0</td>\n",
       "      <td>0</td>\n",
       "      <td>0</td>\n",
       "      <td>1</td>\n",
       "      <td>0</td>\n",
       "      <td>0.000000</td>\n",
       "    </tr>\n",
       "    <tr>\n",
       "      <th>3</th>\n",
       "      <td>160</td>\n",
       "      <td>7</td>\n",
       "      <td>7.837804</td>\n",
       "      <td>783.780404</td>\n",
       "      <td>299.100883</td>\n",
       "      <td>1567.560808</td>\n",
       "      <td>59</td>\n",
       "      <td>0</td>\n",
       "      <td>0</td>\n",
       "      <td>0</td>\n",
       "      <td>...</td>\n",
       "      <td>0</td>\n",
       "      <td>0</td>\n",
       "      <td>0</td>\n",
       "      <td>0</td>\n",
       "      <td>0</td>\n",
       "      <td>0</td>\n",
       "      <td>0</td>\n",
       "      <td>0</td>\n",
       "      <td>0</td>\n",
       "      <td>0.000000</td>\n",
       "    </tr>\n",
       "    <tr>\n",
       "      <th>4</th>\n",
       "      <td>153</td>\n",
       "      <td>10</td>\n",
       "      <td>1.564151</td>\n",
       "      <td>7820.753536</td>\n",
       "      <td>2342.290924</td>\n",
       "      <td>93849.042433</td>\n",
       "      <td>60</td>\n",
       "      <td>0</td>\n",
       "      <td>0</td>\n",
       "      <td>0</td>\n",
       "      <td>...</td>\n",
       "      <td>0</td>\n",
       "      <td>0</td>\n",
       "      <td>0</td>\n",
       "      <td>0</td>\n",
       "      <td>0</td>\n",
       "      <td>0</td>\n",
       "      <td>0</td>\n",
       "      <td>0</td>\n",
       "      <td>0</td>\n",
       "      <td>0.000000</td>\n",
       "    </tr>\n",
       "  </tbody>\n",
       "</table>\n",
       "<p>5 rows × 23 columns</p>\n",
       "</div>"
      ],
      "text/plain": [
       "   description_length  n_pledges  pledge_level_min  pledge_level_max  \\\n",
       "0                  93          1          7.886086          7.886086   \n",
       "1                 106          3          2.000000        100.000000   \n",
       "2                  46          1          8.712913          8.712913   \n",
       "3                 160          7          7.837804        783.780404   \n",
       "4                 153         10          1.564151       7820.753536   \n",
       "\n",
       "   pledge_level_stddev  funding_goal  duration  Comics  Crafts  Dance  \\\n",
       "0             0.000000  15772.172704        60       0       0      0   \n",
       "1            45.507020  15000.000000        60       0       0      0   \n",
       "2             0.000000  43564.564775        60       0       0      0   \n",
       "3           299.100883   1567.560808        59       0       0      0   \n",
       "4          2342.290924  93849.042433        60       0       0      0   \n",
       "\n",
       "        ...         Food  Games  Journalism  Music  Photography  Publishing  \\\n",
       "0       ...            0      0           0      0            0           0   \n",
       "1       ...            0      0           0      0            0           0   \n",
       "2       ...            0      0           0      0            0           0   \n",
       "3       ...            0      0           0      0            0           0   \n",
       "4       ...            0      0           0      0            0           0   \n",
       "\n",
       "   Sculpture  Technology  Theater  funding_percent  \n",
       "0          0           0        0         0.000000  \n",
       "1          0           0        0         0.001133  \n",
       "2          0           1        0         0.000000  \n",
       "3          0           0        0         0.000000  \n",
       "4          0           0        0         0.000000  \n",
       "\n",
       "[5 rows x 23 columns]"
      ]
     },
     "execution_count": 39,
     "metadata": {},
     "output_type": "execute_result"
    }
   ],
   "source": [
    "df_to_model['funding_percent'] = df_to_model.funding_actual / df_to_model.funding_goal\n",
    "df_to_model.drop(columns=['funding_actual'], inplace=True)\n",
    "df_to_model.head()"
   ]
  },
  {
   "cell_type": "code",
   "execution_count": 40,
   "metadata": {},
   "outputs": [],
   "source": [
    "with open('all_data_to_model.pickle', 'wb') as f:\n",
    "    pickle.dump(df_full,f)"
   ]
  }
 ],
 "metadata": {
  "kernelspec": {
   "display_name": "Python 3",
   "language": "python",
   "name": "python3"
  },
  "language_info": {
   "codemirror_mode": {
    "name": "ipython",
    "version": 3
   },
   "file_extension": ".py",
   "mimetype": "text/x-python",
   "name": "python",
   "nbconvert_exporter": "python",
   "pygments_lexer": "ipython3",
   "version": "3.6.4"
  }
 },
 "nbformat": 4,
 "nbformat_minor": 2
}
