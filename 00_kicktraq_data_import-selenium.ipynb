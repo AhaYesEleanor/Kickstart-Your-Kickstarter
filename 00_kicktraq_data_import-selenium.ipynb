{
 "cells": [
  {
   "cell_type": "code",
   "execution_count": 30,
   "metadata": {},
   "outputs": [],
   "source": [
    "import os\n",
    "import requests\n",
    "import time\n",
    "import re\n",
    "import pandas as pd\n",
    "import numpy as np\n",
    "import random\n",
    "import pickle\n",
    "import time\n",
    "import os\n",
    "\n",
    "from bs4 import BeautifulSoup\n",
    "\n",
    "from selenium import webdriver\n",
    "from selenium.webdriver.common.keys import Keys\n",
    "from selenium.webdriver.common.by import By\n",
    "from selenium.webdriver.support.ui import WebDriverWait\n",
    "from selenium.webdriver.support import expected_conditions as EC \n",
    "\n",
    "from glob import glob\n"
   ]
  },
  {
   "cell_type": "code",
   "execution_count": 31,
   "metadata": {},
   "outputs": [],
   "source": [
    "#projects=pd.DataFrame(columns=['kickstarter_page','funding', 'campaign_dates', 'backers', 'category'])"
   ]
  },
  {
   "cell_type": "code",
   "execution_count": 32,
   "metadata": {},
   "outputs": [],
   "source": [
    "#setting up Selenium\n",
    "chrome_options = webdriver.ChromeOptions()\n",
    "chrome_options.add_argument('--no-sandbox')\n",
    "chrome_options.binary_location = '/usr/bin/google-chrome'\n",
    "\n",
    "chromedriver = \"/bin/chromedriver\"\n",
    "os.environ[\"webdriver.chrome.driver\"] = chromedriver\n",
    "\n",
    "\n",
    "driver = webdriver.Chrome(\"/usr/lib/chromium-browser/chromedriver\")\n"
   ]
  },
  {
   "cell_type": "code",
   "execution_count": 33,
   "metadata": {},
   "outputs": [
    {
     "name": "stdout",
     "output_type": "stream",
     "text": [
      "url is https://www.kicktraq.com/archive/?page=7888\n"
     ]
    },
    {
     "ename": "TimeoutException",
     "evalue": "Message: \n",
     "output_type": "error",
     "traceback": [
      "\u001b[0;31m---------------------------------------------------------------------------\u001b[0m",
      "\u001b[0;31mTimeoutException\u001b[0m                          Traceback (most recent call last)",
      "\u001b[0;32m<ipython-input-33-3de787d34aa3>\u001b[0m in \u001b[0;36m<module>\u001b[0;34m()\u001b[0m\n\u001b[1;32m     22\u001b[0m     \u001b[0mnext_button_xpath\u001b[0m \u001b[0;34m=\u001b[0m \u001b[0;34m'//*[@title=\"go to page {}\"]'\u001b[0m\u001b[0;34m.\u001b[0m\u001b[0mformat\u001b[0m\u001b[0;34m(\u001b[0m\u001b[0mstr\u001b[0m\u001b[0;34m(\u001b[0m\u001b[0mpage_num\u001b[0m\u001b[0;34m+\u001b[0m\u001b[0;36m1\u001b[0m\u001b[0;34m)\u001b[0m\u001b[0;34m)\u001b[0m\u001b[0;34m\u001b[0m\u001b[0m\n\u001b[1;32m     23\u001b[0m     \u001b[0mwait\u001b[0m \u001b[0;34m=\u001b[0m \u001b[0mWebDriverWait\u001b[0m\u001b[0;34m(\u001b[0m\u001b[0mdriver\u001b[0m\u001b[0;34m,\u001b[0m \u001b[0;36m10\u001b[0m\u001b[0;34m)\u001b[0m\u001b[0;34m\u001b[0m\u001b[0m\n\u001b[0;32m---> 24\u001b[0;31m     \u001b[0mwait\u001b[0m\u001b[0;34m.\u001b[0m\u001b[0muntil\u001b[0m\u001b[0;34m(\u001b[0m\u001b[0mEC\u001b[0m\u001b[0;34m.\u001b[0m\u001b[0mpresence_of_element_located\u001b[0m\u001b[0;34m(\u001b[0m\u001b[0;34m(\u001b[0m\u001b[0mBy\u001b[0m\u001b[0;34m.\u001b[0m\u001b[0mXPATH\u001b[0m\u001b[0;34m,\u001b[0m \u001b[0mnext_button_xpath\u001b[0m\u001b[0;34m)\u001b[0m\u001b[0;34m)\u001b[0m\u001b[0;34m)\u001b[0m\u001b[0;34m\u001b[0m\u001b[0m\n\u001b[0m\u001b[1;32m     25\u001b[0m \u001b[0;34m\u001b[0m\u001b[0m\n\u001b[1;32m     26\u001b[0m     \u001b[0;31m#get html from Selenium into Beautiful Soup\u001b[0m\u001b[0;34m\u001b[0m\u001b[0;34m\u001b[0m\u001b[0m\n",
      "\u001b[0;32m~/anaconda3/lib/python3.6/site-packages/selenium/webdriver/support/wait.py\u001b[0m in \u001b[0;36muntil\u001b[0;34m(self, method, message)\u001b[0m\n\u001b[1;32m     78\u001b[0m             \u001b[0;32mif\u001b[0m \u001b[0mtime\u001b[0m\u001b[0;34m.\u001b[0m\u001b[0mtime\u001b[0m\u001b[0;34m(\u001b[0m\u001b[0;34m)\u001b[0m \u001b[0;34m>\u001b[0m \u001b[0mend_time\u001b[0m\u001b[0;34m:\u001b[0m\u001b[0;34m\u001b[0m\u001b[0m\n\u001b[1;32m     79\u001b[0m                 \u001b[0;32mbreak\u001b[0m\u001b[0;34m\u001b[0m\u001b[0m\n\u001b[0;32m---> 80\u001b[0;31m         \u001b[0;32mraise\u001b[0m \u001b[0mTimeoutException\u001b[0m\u001b[0;34m(\u001b[0m\u001b[0mmessage\u001b[0m\u001b[0;34m,\u001b[0m \u001b[0mscreen\u001b[0m\u001b[0;34m,\u001b[0m \u001b[0mstacktrace\u001b[0m\u001b[0;34m)\u001b[0m\u001b[0;34m\u001b[0m\u001b[0m\n\u001b[0m\u001b[1;32m     81\u001b[0m \u001b[0;34m\u001b[0m\u001b[0m\n\u001b[1;32m     82\u001b[0m     \u001b[0;32mdef\u001b[0m \u001b[0muntil_not\u001b[0m\u001b[0;34m(\u001b[0m\u001b[0mself\u001b[0m\u001b[0;34m,\u001b[0m \u001b[0mmethod\u001b[0m\u001b[0;34m,\u001b[0m \u001b[0mmessage\u001b[0m\u001b[0;34m=\u001b[0m\u001b[0;34m''\u001b[0m\u001b[0;34m)\u001b[0m\u001b[0;34m:\u001b[0m\u001b[0;34m\u001b[0m\u001b[0m\n",
      "\u001b[0;31mTimeoutException\u001b[0m: Message: \n"
     ]
    }
   ],
   "source": [
    "#kicktraq archive page numbers 1-8000 are available\n",
    "page_numbers = range(7888,8001)\n",
    "\n",
    "for page_num in page_numbers:\n",
    "    #test if file for this page already exists\n",
    "    filename = 'kicktraq_files/kicktraq_page_num' + str(page_num)\n",
    "    if os.path.isfile(filename):\n",
    "        continue\n",
    "    \n",
    "    url = 'https://www.kicktraq.com/archive/?page=' + str(page_num)\n",
    "    print('url is ' + url)\n",
    "    \n",
    "    kickstarter_page = []\n",
    "    funding = []\n",
    "    campaign_dates = []\n",
    "    backers = []\n",
    "    categories = []\n",
    "    \n",
    "    driver.get(url)\n",
    "    \n",
    "    #define condition to wait for: 'next page' button title should be 'go to pagenum+1'\n",
    "    next_button_xpath = '//*[@title=\"go to page {}\"]'.format(str(page_num+1))\n",
    "    wait = WebDriverWait(driver, 10)\n",
    "    wait.until(EC.presence_of_element_located((By.XPATH, next_button_xpath)))\n",
    "    \n",
    "    #get html from Selenium into Beautiful Soup\n",
    "    soup = BeautifulSoup(driver.page_source, 'html.parser')\n",
    "    \n",
    "    \n",
    "    all_projects_on_page = soup.find_all(class_=\"project first odd closed\")\n",
    "    all_projects_on_page = all_projects_on_page + soup.find_all(class_=\"project odd closed\")\n",
    "    all_projects_on_page = all_projects_on_page + soup.find_all(class_=\"project closed\")\n",
    "\n",
    "    for project in all_projects_on_page: \n",
    "        #if statement tests to see if funding info is available. If it is, we include the project. If not, we don't!\n",
    "        funding_info = project.find(class_='project-details').find(text=re.compile('Funding: .\\d*.\\d* of .\\d*.\\d*'))\n",
    "        if funding_info != None:\n",
    "            funding.append(str(funding_info).replace('$',''))\n",
    "\n",
    "            kickstarter_page.append(str(project.find('h2').find('a')['href']))\n",
    "            campaign_dates.append(str(project.find(class_='project-details').find(text=re.compile('Dates: \\w* \\d*\\w* \\-\\> \\w* \\d*\\w* \\(\\d*\\)'))))\n",
    "            backers.append(str(project.find(class_='project-details').find(text=re.compile('Backers: \\d*'))))\n",
    "            categories.append(str(project.find(class_='project-cat').find('a').text))\n",
    "            d = {'kickstarter_page': kickstarter_page,'funding': funding,\n",
    "                 'campaign_dates': campaign_dates, 'backers': backers,\n",
    "                 'category': categories}\n",
    "            page_df = pd.DataFrame(d)\n",
    "    \n",
    "    page_df.to_csv(filename,index=False, encoding='utf-8')\n",
    "    \n",
    "    #projects = pd.concat([projects, page_df])\n",
    "    \n",
    "    \n",
    "    \n",
    "    time.sleep(10)\n",
    "\n",
    "driver.close()\n"
   ]
  },
  {
   "cell_type": "code",
   "execution_count": null,
   "metadata": {},
   "outputs": [],
   "source": [
    "#ensure column types are string\n",
    "#col_types = {'kickstarter_page': 'str','funding': 'str', 'campaign_dates': 'str', 'backers': 'str', 'category': 'str'}\n",
    "#projects = projects.astype(col_types, copy=False, errors='raise', encoding='utf-8')"
   ]
  },
  {
   "cell_type": "code",
   "execution_count": null,
   "metadata": {},
   "outputs": [],
   "source": [
    "#projects.to_csv('kicktraq_data.csv', index=False)"
   ]
  },
  {
   "cell_type": "code",
   "execution_count": null,
   "metadata": {},
   "outputs": [],
   "source": [
    "#with open('kicktraq_data.pickle', 'wb') as f:\n",
    "#    pickle.dump(projects,f)"
   ]
  },
  {
   "cell_type": "code",
   "execution_count": null,
   "metadata": {},
   "outputs": [],
   "source": [
    "#convert df to numpy array and save in hdf5 format\n",
    "#proj2 = np.array(proj2)\n",
    "#h_file = h5py.File('kicktraq_data.h5', 'w')\n",
    "#h_file.create_dataset('projects_array', data=proj2)\n",
    "#hf.close()"
   ]
  },
  {
   "cell_type": "code",
   "execution_count": null,
   "metadata": {},
   "outputs": [],
   "source": []
  },
  {
   "cell_type": "code",
   "execution_count": null,
   "metadata": {},
   "outputs": [],
   "source": []
  },
  {
   "cell_type": "code",
   "execution_count": null,
   "metadata": {},
   "outputs": [],
   "source": []
  }
 ],
 "metadata": {
  "kernelspec": {
   "display_name": "Python 3",
   "language": "python",
   "name": "python3"
  },
  "language_info": {
   "codemirror_mode": {
    "name": "ipython",
    "version": 3
   },
   "file_extension": ".py",
   "mimetype": "text/x-python",
   "name": "python",
   "nbconvert_exporter": "python",
   "pygments_lexer": "ipython3",
   "version": "3.6.4"
  }
 },
 "nbformat": 4,
 "nbformat_minor": 2
}
