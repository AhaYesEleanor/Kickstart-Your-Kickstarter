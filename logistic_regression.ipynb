{
 "cells": [
  {
   "cell_type": "code",
   "execution_count": 59,
   "metadata": {},
   "outputs": [],
   "source": [
    "import pandas as pd\n",
    "import pickle\n",
    "import numpy as np\n",
    "import matplotlib.pyplot as plt\n",
    "\n",
    "from sklearn.preprocessing import StandardScaler\n",
    "from sklearn.linear_model import LogisticRegression\n",
    "from sklearn.metrics import confusion_matrix, roc_auc_score\n",
    "from sklearn import model_selection\n",
    "%matplotlib inline"
   ]
  },
  {
   "cell_type": "code",
   "execution_count": 60,
   "metadata": {},
   "outputs": [],
   "source": [
    "random_state = 69"
   ]
  },
  {
   "cell_type": "code",
   "execution_count": 61,
   "metadata": {},
   "outputs": [],
   "source": [
    "with open('all_data_to_model.pickle', 'rb') as f:\n",
    "    project_df = pickle.load(f)"
   ]
  },
  {
   "cell_type": "code",
   "execution_count": 62,
   "metadata": {},
   "outputs": [
    {
     "data": {
      "text/html": [
       "<div>\n",
       "<style scoped>\n",
       "    .dataframe tbody tr th:only-of-type {\n",
       "        vertical-align: middle;\n",
       "    }\n",
       "\n",
       "    .dataframe tbody tr th {\n",
       "        vertical-align: top;\n",
       "    }\n",
       "\n",
       "    .dataframe thead th {\n",
       "        text-align: right;\n",
       "    }\n",
       "</style>\n",
       "<table border=\"1\" class=\"dataframe\">\n",
       "  <thead>\n",
       "    <tr style=\"text-align: right;\">\n",
       "      <th></th>\n",
       "      <th>description_length</th>\n",
       "      <th>n_pledges</th>\n",
       "      <th>pledge_level_min</th>\n",
       "      <th>pledge_level_max</th>\n",
       "      <th>pledge_level_stddev</th>\n",
       "      <th>funding_goal</th>\n",
       "      <th>duration</th>\n",
       "      <th>Comics</th>\n",
       "      <th>Crafts</th>\n",
       "      <th>Dance</th>\n",
       "      <th>...</th>\n",
       "      <th>Food</th>\n",
       "      <th>Games</th>\n",
       "      <th>Journalism</th>\n",
       "      <th>Music</th>\n",
       "      <th>Photography</th>\n",
       "      <th>Publishing</th>\n",
       "      <th>Sculpture</th>\n",
       "      <th>Technology</th>\n",
       "      <th>Theater</th>\n",
       "      <th>funding_percent</th>\n",
       "    </tr>\n",
       "  </thead>\n",
       "  <tbody>\n",
       "    <tr>\n",
       "      <th>0</th>\n",
       "      <td>93</td>\n",
       "      <td>1</td>\n",
       "      <td>7.886086</td>\n",
       "      <td>7.886086</td>\n",
       "      <td>0.000000</td>\n",
       "      <td>15772.172704</td>\n",
       "      <td>60</td>\n",
       "      <td>0</td>\n",
       "      <td>0</td>\n",
       "      <td>0</td>\n",
       "      <td>...</td>\n",
       "      <td>0</td>\n",
       "      <td>0</td>\n",
       "      <td>0</td>\n",
       "      <td>0</td>\n",
       "      <td>0</td>\n",
       "      <td>0</td>\n",
       "      <td>0</td>\n",
       "      <td>0</td>\n",
       "      <td>0</td>\n",
       "      <td>0.000000</td>\n",
       "    </tr>\n",
       "    <tr>\n",
       "      <th>1</th>\n",
       "      <td>106</td>\n",
       "      <td>3</td>\n",
       "      <td>2.000000</td>\n",
       "      <td>100.000000</td>\n",
       "      <td>45.507020</td>\n",
       "      <td>15000.000000</td>\n",
       "      <td>60</td>\n",
       "      <td>0</td>\n",
       "      <td>0</td>\n",
       "      <td>0</td>\n",
       "      <td>...</td>\n",
       "      <td>0</td>\n",
       "      <td>0</td>\n",
       "      <td>0</td>\n",
       "      <td>0</td>\n",
       "      <td>0</td>\n",
       "      <td>0</td>\n",
       "      <td>0</td>\n",
       "      <td>0</td>\n",
       "      <td>0</td>\n",
       "      <td>0.001133</td>\n",
       "    </tr>\n",
       "    <tr>\n",
       "      <th>2</th>\n",
       "      <td>46</td>\n",
       "      <td>1</td>\n",
       "      <td>8.712913</td>\n",
       "      <td>8.712913</td>\n",
       "      <td>0.000000</td>\n",
       "      <td>43564.564775</td>\n",
       "      <td>60</td>\n",
       "      <td>0</td>\n",
       "      <td>0</td>\n",
       "      <td>0</td>\n",
       "      <td>...</td>\n",
       "      <td>0</td>\n",
       "      <td>0</td>\n",
       "      <td>0</td>\n",
       "      <td>0</td>\n",
       "      <td>0</td>\n",
       "      <td>0</td>\n",
       "      <td>0</td>\n",
       "      <td>1</td>\n",
       "      <td>0</td>\n",
       "      <td>0.000000</td>\n",
       "    </tr>\n",
       "    <tr>\n",
       "      <th>3</th>\n",
       "      <td>160</td>\n",
       "      <td>7</td>\n",
       "      <td>7.837804</td>\n",
       "      <td>783.780404</td>\n",
       "      <td>299.100883</td>\n",
       "      <td>1567.560808</td>\n",
       "      <td>59</td>\n",
       "      <td>0</td>\n",
       "      <td>0</td>\n",
       "      <td>0</td>\n",
       "      <td>...</td>\n",
       "      <td>0</td>\n",
       "      <td>0</td>\n",
       "      <td>0</td>\n",
       "      <td>0</td>\n",
       "      <td>0</td>\n",
       "      <td>0</td>\n",
       "      <td>0</td>\n",
       "      <td>0</td>\n",
       "      <td>0</td>\n",
       "      <td>0.000000</td>\n",
       "    </tr>\n",
       "    <tr>\n",
       "      <th>4</th>\n",
       "      <td>153</td>\n",
       "      <td>10</td>\n",
       "      <td>1.564151</td>\n",
       "      <td>7820.753536</td>\n",
       "      <td>2342.290924</td>\n",
       "      <td>93849.042433</td>\n",
       "      <td>60</td>\n",
       "      <td>0</td>\n",
       "      <td>0</td>\n",
       "      <td>0</td>\n",
       "      <td>...</td>\n",
       "      <td>0</td>\n",
       "      <td>0</td>\n",
       "      <td>0</td>\n",
       "      <td>0</td>\n",
       "      <td>0</td>\n",
       "      <td>0</td>\n",
       "      <td>0</td>\n",
       "      <td>0</td>\n",
       "      <td>0</td>\n",
       "      <td>0.000000</td>\n",
       "    </tr>\n",
       "  </tbody>\n",
       "</table>\n",
       "<p>5 rows × 23 columns</p>\n",
       "</div>"
      ],
      "text/plain": [
       "   description_length  n_pledges  pledge_level_min  pledge_level_max  \\\n",
       "0                  93          1          7.886086          7.886086   \n",
       "1                 106          3          2.000000        100.000000   \n",
       "2                  46          1          8.712913          8.712913   \n",
       "3                 160          7          7.837804        783.780404   \n",
       "4                 153         10          1.564151       7820.753536   \n",
       "\n",
       "   pledge_level_stddev  funding_goal  duration  Comics  Crafts  Dance  \\\n",
       "0             0.000000  15772.172704        60       0       0      0   \n",
       "1            45.507020  15000.000000        60       0       0      0   \n",
       "2             0.000000  43564.564775        60       0       0      0   \n",
       "3           299.100883   1567.560808        59       0       0      0   \n",
       "4          2342.290924  93849.042433        60       0       0      0   \n",
       "\n",
       "        ...         Food  Games  Journalism  Music  Photography  Publishing  \\\n",
       "0       ...            0      0           0      0            0           0   \n",
       "1       ...            0      0           0      0            0           0   \n",
       "2       ...            0      0           0      0            0           0   \n",
       "3       ...            0      0           0      0            0           0   \n",
       "4       ...            0      0           0      0            0           0   \n",
       "\n",
       "   Sculpture  Technology  Theater  funding_percent  \n",
       "0          0           0        0         0.000000  \n",
       "1          0           0        0         0.001133  \n",
       "2          0           1        0         0.000000  \n",
       "3          0           0        0         0.000000  \n",
       "4          0           0        0         0.000000  \n",
       "\n",
       "[5 rows x 23 columns]"
      ]
     },
     "execution_count": 62,
     "metadata": {},
     "output_type": "execute_result"
    }
   ],
   "source": [
    "project_df.head()"
   ]
  },
  {
   "cell_type": "code",
   "execution_count": 63,
   "metadata": {},
   "outputs": [
    {
     "name": "stdout",
     "output_type": "stream",
     "text": [
      "<class 'pandas.core.frame.DataFrame'>\n",
      "Int64Index: 55808 entries, 0 to 55877\n",
      "Data columns (total 23 columns):\n",
      "description_length     55808 non-null int64\n",
      "n_pledges              55808 non-null int64\n",
      "pledge_level_min       55808 non-null float64\n",
      "pledge_level_max       55808 non-null float64\n",
      "pledge_level_stddev    55808 non-null float64\n",
      "funding_goal           55808 non-null float64\n",
      "duration               55808 non-null int64\n",
      "Comics                 55808 non-null uint8\n",
      "Crafts                 55808 non-null uint8\n",
      "Dance                  55808 non-null uint8\n",
      "Design                 55808 non-null uint8\n",
      "Fashion                55808 non-null uint8\n",
      "Film & Video           55808 non-null uint8\n",
      "Food                   55808 non-null uint8\n",
      "Games                  55808 non-null uint8\n",
      "Journalism             55808 non-null uint8\n",
      "Music                  55808 non-null uint8\n",
      "Photography            55808 non-null uint8\n",
      "Publishing             55808 non-null uint8\n",
      "Sculpture              55808 non-null uint8\n",
      "Technology             55808 non-null uint8\n",
      "Theater                55808 non-null uint8\n",
      "funding_percent        55808 non-null float64\n",
      "dtypes: float64(5), int64(3), uint8(15)\n",
      "memory usage: 4.6 MB\n"
     ]
    }
   ],
   "source": [
    "project_df.info()"
   ]
  },
  {
   "cell_type": "code",
   "execution_count": 64,
   "metadata": {},
   "outputs": [
    {
     "data": {
      "text/plain": [
       "0    36917\n",
       "1    18891\n",
       "Name: funding_percent, dtype: int64"
      ]
     },
     "execution_count": 64,
     "metadata": {},
     "output_type": "execute_result"
    }
   ],
   "source": [
    "project_df.funding_percent = project_df.funding_percent.apply(lambda x: 1 if x>=1.0 else 0)\n",
    "project_df.funding_percent.value_counts()"
   ]
  },
  {
   "cell_type": "code",
   "execution_count": 65,
   "metadata": {},
   "outputs": [],
   "source": [
    "X = project_df.drop(columns=['funding_percent'])\n",
    "y = project_df.funding_percent"
   ]
  },
  {
   "cell_type": "code",
   "execution_count": 66,
   "metadata": {},
   "outputs": [],
   "source": [
    "from sklearn.model_selection import train_test_split"
   ]
  },
  {
   "cell_type": "code",
   "execution_count": 67,
   "metadata": {},
   "outputs": [],
   "source": [
    "X_train, X_test, y_train, y_test = train_test_split(X, y, test_size=0.3, random_state=random_state)\n",
    "X_train, X_val, y_train, y_val = train_test_split(X_train, y_train, test_size=0.3, random_state=random_state)"
   ]
  },
  {
   "cell_type": "code",
   "execution_count": 73,
   "metadata": {},
   "outputs": [
    {
     "data": {
      "text/html": [
       "<div>\n",
       "<style scoped>\n",
       "    .dataframe tbody tr th:only-of-type {\n",
       "        vertical-align: middle;\n",
       "    }\n",
       "\n",
       "    .dataframe tbody tr th {\n",
       "        vertical-align: top;\n",
       "    }\n",
       "\n",
       "    .dataframe thead th {\n",
       "        text-align: right;\n",
       "    }\n",
       "</style>\n",
       "<table border=\"1\" class=\"dataframe\">\n",
       "  <thead>\n",
       "    <tr style=\"text-align: right;\">\n",
       "      <th></th>\n",
       "      <th>description_length</th>\n",
       "      <th>n_pledges</th>\n",
       "      <th>pledge_level_min</th>\n",
       "      <th>pledge_level_max</th>\n",
       "      <th>pledge_level_stddev</th>\n",
       "      <th>funding_goal</th>\n",
       "      <th>duration</th>\n",
       "      <th>Comics</th>\n",
       "      <th>Crafts</th>\n",
       "      <th>Dance</th>\n",
       "      <th>...</th>\n",
       "      <th>Film &amp; Video</th>\n",
       "      <th>Food</th>\n",
       "      <th>Games</th>\n",
       "      <th>Journalism</th>\n",
       "      <th>Music</th>\n",
       "      <th>Photography</th>\n",
       "      <th>Publishing</th>\n",
       "      <th>Sculpture</th>\n",
       "      <th>Technology</th>\n",
       "      <th>Theater</th>\n",
       "    </tr>\n",
       "  </thead>\n",
       "  <tbody>\n",
       "    <tr>\n",
       "      <th>25847</th>\n",
       "      <td>274</td>\n",
       "      <td>2</td>\n",
       "      <td>9.306406</td>\n",
       "      <td>93.064061</td>\n",
       "      <td>41.878827</td>\n",
       "      <td>2326.601528</td>\n",
       "      <td>30</td>\n",
       "      <td>0</td>\n",
       "      <td>0</td>\n",
       "      <td>0</td>\n",
       "      <td>...</td>\n",
       "      <td>0</td>\n",
       "      <td>0</td>\n",
       "      <td>0</td>\n",
       "      <td>0</td>\n",
       "      <td>0</td>\n",
       "      <td>0</td>\n",
       "      <td>1</td>\n",
       "      <td>0</td>\n",
       "      <td>0</td>\n",
       "      <td>0</td>\n",
       "    </tr>\n",
       "    <tr>\n",
       "      <th>5123</th>\n",
       "      <td>178</td>\n",
       "      <td>5</td>\n",
       "      <td>10.000000</td>\n",
       "      <td>500.000000</td>\n",
       "      <td>178.594513</td>\n",
       "      <td>2500.000000</td>\n",
       "      <td>51</td>\n",
       "      <td>0</td>\n",
       "      <td>0</td>\n",
       "      <td>0</td>\n",
       "      <td>...</td>\n",
       "      <td>0</td>\n",
       "      <td>0</td>\n",
       "      <td>0</td>\n",
       "      <td>0</td>\n",
       "      <td>0</td>\n",
       "      <td>0</td>\n",
       "      <td>0</td>\n",
       "      <td>0</td>\n",
       "      <td>0</td>\n",
       "      <td>0</td>\n",
       "    </tr>\n",
       "    <tr>\n",
       "      <th>41376</th>\n",
       "      <td>358</td>\n",
       "      <td>8</td>\n",
       "      <td>10.000000</td>\n",
       "      <td>1000.000000</td>\n",
       "      <td>317.400944</td>\n",
       "      <td>12000.000000</td>\n",
       "      <td>32</td>\n",
       "      <td>0</td>\n",
       "      <td>0</td>\n",
       "      <td>0</td>\n",
       "      <td>...</td>\n",
       "      <td>0</td>\n",
       "      <td>1</td>\n",
       "      <td>0</td>\n",
       "      <td>0</td>\n",
       "      <td>0</td>\n",
       "      <td>0</td>\n",
       "      <td>0</td>\n",
       "      <td>0</td>\n",
       "      <td>0</td>\n",
       "      <td>0</td>\n",
       "    </tr>\n",
       "    <tr>\n",
       "      <th>31758</th>\n",
       "      <td>144</td>\n",
       "      <td>3</td>\n",
       "      <td>10.000000</td>\n",
       "      <td>50.000000</td>\n",
       "      <td>16.996732</td>\n",
       "      <td>625.000000</td>\n",
       "      <td>30</td>\n",
       "      <td>0</td>\n",
       "      <td>0</td>\n",
       "      <td>0</td>\n",
       "      <td>...</td>\n",
       "      <td>0</td>\n",
       "      <td>0</td>\n",
       "      <td>0</td>\n",
       "      <td>0</td>\n",
       "      <td>1</td>\n",
       "      <td>0</td>\n",
       "      <td>0</td>\n",
       "      <td>0</td>\n",
       "      <td>0</td>\n",
       "      <td>0</td>\n",
       "    </tr>\n",
       "    <tr>\n",
       "      <th>19561</th>\n",
       "      <td>67</td>\n",
       "      <td>3</td>\n",
       "      <td>20.000000</td>\n",
       "      <td>100.000000</td>\n",
       "      <td>32.998316</td>\n",
       "      <td>1000.000000</td>\n",
       "      <td>60</td>\n",
       "      <td>0</td>\n",
       "      <td>0</td>\n",
       "      <td>0</td>\n",
       "      <td>...</td>\n",
       "      <td>0</td>\n",
       "      <td>1</td>\n",
       "      <td>0</td>\n",
       "      <td>0</td>\n",
       "      <td>0</td>\n",
       "      <td>0</td>\n",
       "      <td>0</td>\n",
       "      <td>0</td>\n",
       "      <td>0</td>\n",
       "      <td>0</td>\n",
       "    </tr>\n",
       "  </tbody>\n",
       "</table>\n",
       "<p>5 rows × 22 columns</p>\n",
       "</div>"
      ],
      "text/plain": [
       "       description_length  n_pledges  pledge_level_min  pledge_level_max  \\\n",
       "25847                 274          2          9.306406         93.064061   \n",
       "5123                  178          5         10.000000        500.000000   \n",
       "41376                 358          8         10.000000       1000.000000   \n",
       "31758                 144          3         10.000000         50.000000   \n",
       "19561                  67          3         20.000000        100.000000   \n",
       "\n",
       "       pledge_level_stddev  funding_goal  duration  Comics  Crafts  Dance  \\\n",
       "25847            41.878827   2326.601528        30       0       0      0   \n",
       "5123            178.594513   2500.000000        51       0       0      0   \n",
       "41376           317.400944  12000.000000        32       0       0      0   \n",
       "31758            16.996732    625.000000        30       0       0      0   \n",
       "19561            32.998316   1000.000000        60       0       0      0   \n",
       "\n",
       "        ...     Film & Video  Food  Games  Journalism  Music  Photography  \\\n",
       "25847   ...                0     0      0           0      0            0   \n",
       "5123    ...                0     0      0           0      0            0   \n",
       "41376   ...                0     1      0           0      0            0   \n",
       "31758   ...                0     0      0           0      1            0   \n",
       "19561   ...                0     1      0           0      0            0   \n",
       "\n",
       "       Publishing  Sculpture  Technology  Theater  \n",
       "25847           1          0           0        0  \n",
       "5123            0          0           0        0  \n",
       "41376           0          0           0        0  \n",
       "31758           0          0           0        0  \n",
       "19561           0          0           0        0  \n",
       "\n",
       "[5 rows x 22 columns]"
      ]
     },
     "execution_count": 73,
     "metadata": {},
     "output_type": "execute_result"
    }
   ],
   "source": [
    "X_train.head()"
   ]
  },
  {
   "cell_type": "code",
   "execution_count": 10,
   "metadata": {},
   "outputs": [
    {
     "data": {
      "text/html": [
       "<div>\n",
       "<style scoped>\n",
       "    .dataframe tbody tr th:only-of-type {\n",
       "        vertical-align: middle;\n",
       "    }\n",
       "\n",
       "    .dataframe tbody tr th {\n",
       "        vertical-align: top;\n",
       "    }\n",
       "\n",
       "    .dataframe thead th {\n",
       "        text-align: right;\n",
       "    }\n",
       "</style>\n",
       "<table border=\"1\" class=\"dataframe\">\n",
       "  <thead>\n",
       "    <tr style=\"text-align: right;\">\n",
       "      <th></th>\n",
       "      <th>description_length</th>\n",
       "      <th>n_pledges</th>\n",
       "      <th>pledge_level_min</th>\n",
       "      <th>pledge_level_max</th>\n",
       "      <th>pledge_level_stddev</th>\n",
       "      <th>funding_goal</th>\n",
       "      <th>duration</th>\n",
       "      <th>Comics</th>\n",
       "      <th>Crafts</th>\n",
       "      <th>Dance</th>\n",
       "      <th>...</th>\n",
       "      <th>Film &amp; Video</th>\n",
       "      <th>Food</th>\n",
       "      <th>Games</th>\n",
       "      <th>Journalism</th>\n",
       "      <th>Music</th>\n",
       "      <th>Photography</th>\n",
       "      <th>Publishing</th>\n",
       "      <th>Sculpture</th>\n",
       "      <th>Technology</th>\n",
       "      <th>Theater</th>\n",
       "    </tr>\n",
       "  </thead>\n",
       "  <tbody>\n",
       "    <tr>\n",
       "      <th>25847</th>\n",
       "      <td>274</td>\n",
       "      <td>2</td>\n",
       "      <td>9.306406</td>\n",
       "      <td>93.064061</td>\n",
       "      <td>41.878827</td>\n",
       "      <td>2326.601528</td>\n",
       "      <td>30</td>\n",
       "      <td>0</td>\n",
       "      <td>0</td>\n",
       "      <td>0</td>\n",
       "      <td>...</td>\n",
       "      <td>0</td>\n",
       "      <td>0</td>\n",
       "      <td>0</td>\n",
       "      <td>0</td>\n",
       "      <td>0</td>\n",
       "      <td>0</td>\n",
       "      <td>1</td>\n",
       "      <td>0</td>\n",
       "      <td>0</td>\n",
       "      <td>0</td>\n",
       "    </tr>\n",
       "    <tr>\n",
       "      <th>5123</th>\n",
       "      <td>178</td>\n",
       "      <td>5</td>\n",
       "      <td>10.000000</td>\n",
       "      <td>500.000000</td>\n",
       "      <td>178.594513</td>\n",
       "      <td>2500.000000</td>\n",
       "      <td>51</td>\n",
       "      <td>0</td>\n",
       "      <td>0</td>\n",
       "      <td>0</td>\n",
       "      <td>...</td>\n",
       "      <td>0</td>\n",
       "      <td>0</td>\n",
       "      <td>0</td>\n",
       "      <td>0</td>\n",
       "      <td>0</td>\n",
       "      <td>0</td>\n",
       "      <td>0</td>\n",
       "      <td>0</td>\n",
       "      <td>0</td>\n",
       "      <td>0</td>\n",
       "    </tr>\n",
       "    <tr>\n",
       "      <th>41376</th>\n",
       "      <td>358</td>\n",
       "      <td>8</td>\n",
       "      <td>10.000000</td>\n",
       "      <td>1000.000000</td>\n",
       "      <td>317.400944</td>\n",
       "      <td>12000.000000</td>\n",
       "      <td>32</td>\n",
       "      <td>0</td>\n",
       "      <td>0</td>\n",
       "      <td>0</td>\n",
       "      <td>...</td>\n",
       "      <td>0</td>\n",
       "      <td>1</td>\n",
       "      <td>0</td>\n",
       "      <td>0</td>\n",
       "      <td>0</td>\n",
       "      <td>0</td>\n",
       "      <td>0</td>\n",
       "      <td>0</td>\n",
       "      <td>0</td>\n",
       "      <td>0</td>\n",
       "    </tr>\n",
       "    <tr>\n",
       "      <th>31758</th>\n",
       "      <td>144</td>\n",
       "      <td>3</td>\n",
       "      <td>10.000000</td>\n",
       "      <td>50.000000</td>\n",
       "      <td>16.996732</td>\n",
       "      <td>625.000000</td>\n",
       "      <td>30</td>\n",
       "      <td>0</td>\n",
       "      <td>0</td>\n",
       "      <td>0</td>\n",
       "      <td>...</td>\n",
       "      <td>0</td>\n",
       "      <td>0</td>\n",
       "      <td>0</td>\n",
       "      <td>0</td>\n",
       "      <td>1</td>\n",
       "      <td>0</td>\n",
       "      <td>0</td>\n",
       "      <td>0</td>\n",
       "      <td>0</td>\n",
       "      <td>0</td>\n",
       "    </tr>\n",
       "    <tr>\n",
       "      <th>19561</th>\n",
       "      <td>67</td>\n",
       "      <td>3</td>\n",
       "      <td>20.000000</td>\n",
       "      <td>100.000000</td>\n",
       "      <td>32.998316</td>\n",
       "      <td>1000.000000</td>\n",
       "      <td>60</td>\n",
       "      <td>0</td>\n",
       "      <td>0</td>\n",
       "      <td>0</td>\n",
       "      <td>...</td>\n",
       "      <td>0</td>\n",
       "      <td>1</td>\n",
       "      <td>0</td>\n",
       "      <td>0</td>\n",
       "      <td>0</td>\n",
       "      <td>0</td>\n",
       "      <td>0</td>\n",
       "      <td>0</td>\n",
       "      <td>0</td>\n",
       "      <td>0</td>\n",
       "    </tr>\n",
       "  </tbody>\n",
       "</table>\n",
       "<p>5 rows × 22 columns</p>\n",
       "</div>"
      ],
      "text/plain": [
       "       description_length  n_pledges  pledge_level_min  pledge_level_max  \\\n",
       "25847                 274          2          9.306406         93.064061   \n",
       "5123                  178          5         10.000000        500.000000   \n",
       "41376                 358          8         10.000000       1000.000000   \n",
       "31758                 144          3         10.000000         50.000000   \n",
       "19561                  67          3         20.000000        100.000000   \n",
       "\n",
       "       pledge_level_stddev  funding_goal  duration  Comics  Crafts  Dance  \\\n",
       "25847            41.878827   2326.601528        30       0       0      0   \n",
       "5123            178.594513   2500.000000        51       0       0      0   \n",
       "41376           317.400944  12000.000000        32       0       0      0   \n",
       "31758            16.996732    625.000000        30       0       0      0   \n",
       "19561            32.998316   1000.000000        60       0       0      0   \n",
       "\n",
       "        ...     Film & Video  Food  Games  Journalism  Music  Photography  \\\n",
       "25847   ...                0     0      0           0      0            0   \n",
       "5123    ...                0     0      0           0      0            0   \n",
       "41376   ...                0     1      0           0      0            0   \n",
       "31758   ...                0     0      0           0      1            0   \n",
       "19561   ...                0     1      0           0      0            0   \n",
       "\n",
       "       Publishing  Sculpture  Technology  Theater  \n",
       "25847           1          0           0        0  \n",
       "5123            0          0           0        0  \n",
       "41376           0          0           0        0  \n",
       "31758           0          0           0        0  \n",
       "19561           0          0           0        0  \n",
       "\n",
       "[5 rows x 22 columns]"
      ]
     },
     "execution_count": 10,
     "metadata": {},
     "output_type": "execute_result"
    }
   ],
   "source": [
    "X_train.head()"
   ]
  },
  {
   "cell_type": "code",
   "execution_count": 11,
   "metadata": {},
   "outputs": [],
   "source": [
    "logreg = LogisticRegression(C=0.1)\n",
    "logreg.fit(X_train, y_train)\n",
    "y_predicted = logreg.predict(X_val)"
   ]
  },
  {
   "cell_type": "markdown",
   "metadata": {},
   "source": [
    "#### Evaluating Performance"
   ]
  },
  {
   "cell_type": "code",
   "execution_count": 12,
   "metadata": {},
   "outputs": [
    {
     "name": "stdout",
     "output_type": "stream",
     "text": [
      "mean accuracy is 0.7022184300341296\n",
      "[[7079  608]\n",
      " [2882 1151]]\n"
     ]
    }
   ],
   "source": [
    "print('mean accuracy is {}'.format(logreg.score(X_val,y_val)))\n",
    "conf_mat = confusion_matrix(y_val, y_predicted)\n",
    "print(conf_mat)"
   ]
  },
  {
   "cell_type": "code",
   "execution_count": 13,
   "metadata": {},
   "outputs": [
    {
     "name": "stdout",
     "output_type": "stream",
     "text": [
      "AUC: mean= 0.7631943622816664, stddev = 0.009188224986707037\n"
     ]
    }
   ],
   "source": [
    "kfold = model_selection.KFold(n_splits=10, random_state=42)\n",
    "model = LogisticRegression(C=0.1)\n",
    "scoring = 'roc_auc'\n",
    "results = model_selection.cross_val_score(model, X_train, y_train, cv=kfold, scoring=scoring)\n",
    "print(\"AUC: mean= {}, stddev = {}\".format(results.mean(), results.std()))"
   ]
  },
  {
   "cell_type": "code",
   "execution_count": 14,
   "metadata": {},
   "outputs": [
    {
     "data": {
      "text/plain": [
       "array([0.76324432, 0.759175  , 0.77375221, 0.77376122, 0.74531277,\n",
       "       0.76806244, 0.76114555, 0.75906836, 0.75329729, 0.77512446])"
      ]
     },
     "execution_count": 14,
     "metadata": {},
     "output_type": "execute_result"
    }
   ],
   "source": [
    "results"
   ]
  },
  {
   "cell_type": "code",
   "execution_count": 15,
   "metadata": {},
   "outputs": [
    {
     "data": {
      "text/plain": [
       "array([[ 7.80729928e-04,  4.02767970e-02, -7.22234559e-03,\n",
       "         5.20851438e-04, -1.58189931e-03, -3.12514537e-05,\n",
       "        -3.03863917e-02,  3.09728355e-04, -4.97738309e-04,\n",
       "         2.81348390e-04,  7.82000684e-05, -7.35495021e-04,\n",
       "         6.92832795e-04, -8.90761309e-04, -4.32815468e-04,\n",
       "        -1.79238397e-04,  2.02401932e-03, -4.66400304e-04,\n",
       "        -1.07727098e-03, -4.05993040e-05, -8.86207368e-04,\n",
       "         6.17608711e-04]])"
      ]
     },
     "execution_count": 15,
     "metadata": {},
     "output_type": "execute_result"
    }
   ],
   "source": [
    "logreg.coef_"
   ]
  },
  {
   "cell_type": "markdown",
   "metadata": {},
   "source": [
    "#### Using standard scalar"
   ]
  },
  {
   "cell_type": "code",
   "execution_count": 68,
   "metadata": {},
   "outputs": [],
   "source": [
    "ssX = StandardScaler()\n",
    "X_train_scaled = ssX.fit_transform(X_train)\n",
    "X_val_scaled = ssX.transform(X_val)"
   ]
  },
  {
   "cell_type": "code",
   "execution_count": 17,
   "metadata": {},
   "outputs": [
    {
     "name": "stdout",
     "output_type": "stream",
     "text": [
      "mean accuracy is 0.725\n",
      "[[7079  608]\n",
      " [2882 1151]]\n"
     ]
    }
   ],
   "source": [
    "logreg_ss = LogisticRegression(C=1)\n",
    "logreg_ss.fit(X_train_scaled, y_train)\n",
    "y_predicted = logreg.predict(X_val)\n",
    "print('mean accuracy is {}'.format(logreg_ss.score(X_val_scaled,y_val)))\n",
    "conf_mat = confusion_matrix(y_val, y_predicted)\n",
    "print(conf_mat)"
   ]
  },
  {
   "cell_type": "code",
   "execution_count": 18,
   "metadata": {},
   "outputs": [
    {
     "name": "stdout",
     "output_type": "stream",
     "text": [
      "AUC: mean= 0.77691509032102, stddev = 0.007820650759704475\n"
     ]
    }
   ],
   "source": [
    "kfold = model_selection.KFold(n_splits=10, random_state=42)\n",
    "model = LogisticRegression()\n",
    "scoring = 'roc_auc'\n",
    "results = model_selection.cross_val_score(model, X_train_scaled, y_train, cv=kfold, scoring=scoring)\n",
    "print(\"AUC: mean= {}, stddev = {}\".format(results.mean(), results.std()))"
   ]
  },
  {
   "cell_type": "code",
   "execution_count": 19,
   "metadata": {},
   "outputs": [
    {
     "data": {
      "text/plain": [
       "array([0.78475917, 0.78383547, 0.77557525, 0.77940983, 0.75977222,\n",
       "       0.77898881, 0.77808315, 0.77149037, 0.76969045, 0.78754617])"
      ]
     },
     "execution_count": 19,
     "metadata": {},
     "output_type": "execute_result"
    }
   ],
   "source": [
    "results"
   ]
  },
  {
   "cell_type": "code",
   "execution_count": 20,
   "metadata": {},
   "outputs": [
    {
     "data": {
      "text/plain": [
       "array([[ 3.00188722e-01,  7.53360196e-01, -9.28753907e-01,\n",
       "         1.24295314e-01, -3.45742199e-01, -1.62359248e+01,\n",
       "        -2.94299687e-01, -2.92016684e-03, -1.42732065e-01,\n",
       "         9.10304575e-02, -7.21839909e-02, -1.75652424e-01,\n",
       "         1.88117152e-02, -1.57263534e-01, -1.41167004e-01,\n",
       "        -8.76774022e-02,  1.61363806e-01, -1.08663681e-01,\n",
       "        -1.44162476e-01, -4.77684121e-02, -2.06093176e-01,\n",
       "         1.24038131e-01]])"
      ]
     },
     "execution_count": 20,
     "metadata": {},
     "output_type": "execute_result"
    }
   ],
   "source": [
    "logreg_ss.coef_"
   ]
  },
  {
   "cell_type": "markdown",
   "metadata": {},
   "source": [
    "#### Using Standard Scalar with Lasso instead of Ridge Regularization"
   ]
  },
  {
   "cell_type": "code",
   "execution_count": 21,
   "metadata": {},
   "outputs": [
    {
     "name": "stdout",
     "output_type": "stream",
     "text": [
      "mean accuracy is 0.725\n",
      "[[7079  608]\n",
      " [2882 1151]]\n"
     ]
    }
   ],
   "source": [
    "logreg_ssl1 = LogisticRegression(penalty='l1', C=0.1)\n",
    "logreg_ssl1.fit(X_train_scaled, y_train)\n",
    "y_predicted = logreg.predict(X_val)\n",
    "print('mean accuracy is {}'.format(logreg_ss.score(X_val_scaled,y_val)))\n",
    "conf_mat = confusion_matrix(y_val, y_predicted)\n",
    "print(conf_mat)"
   ]
  },
  {
   "cell_type": "code",
   "execution_count": 22,
   "metadata": {},
   "outputs": [
    {
     "name": "stdout",
     "output_type": "stream",
     "text": [
      "AUC: mean= 0.7814748218813596, stddev = 0.008093906712930806\n"
     ]
    }
   ],
   "source": [
    "kfold = model_selection.KFold(n_splits=10, random_state=42)\n",
    "model = LogisticRegression(penalty='l1', C=0.1)\n",
    "scoring = 'roc_auc'\n",
    "results = model_selection.cross_val_score(model, X_train_scaled, y_train, cv=kfold, scoring=scoring)\n",
    "print(\"AUC: mean= {}, stddev = {}\".format(results.mean(), results.std()))"
   ]
  },
  {
   "cell_type": "code",
   "execution_count": 23,
   "metadata": {},
   "outputs": [
    {
     "data": {
      "text/plain": [
       "array([0.78921991, 0.78848651, 0.78055231, 0.78345862, 0.76424179,\n",
       "       0.78406602, 0.78177245, 0.77502321, 0.77438811, 0.79353929])"
      ]
     },
     "execution_count": 23,
     "metadata": {},
     "output_type": "execute_result"
    }
   ],
   "source": [
    "results"
   ]
  },
  {
   "cell_type": "code",
   "execution_count": 24,
   "metadata": {},
   "outputs": [
    {
     "data": {
      "text/plain": [
       "array([[  0.31115829,   0.78550799,  -0.54653076,   0.        ,\n",
       "         -0.18598079, -22.90414115,  -0.28165383,   0.        ,\n",
       "         -0.13468471,   0.09256595,  -0.05165888,  -0.16224509,\n",
       "          0.03547679,  -0.1392723 ,  -0.12097691,  -0.07994199,\n",
       "          0.16941641,  -0.10014162,  -0.13252047,  -0.04315147,\n",
       "         -0.17645164,   0.12862318]])"
      ]
     },
     "execution_count": 24,
     "metadata": {},
     "output_type": "execute_result"
    }
   ],
   "source": [
    "logreg_ssl1.coef_"
   ]
  },
  {
   "cell_type": "code",
   "execution_count": 25,
   "metadata": {},
   "outputs": [],
   "source": [
    "# Grid Search for C parameter"
   ]
  },
  {
   "cell_type": "code",
   "execution_count": 69,
   "metadata": {},
   "outputs": [],
   "source": [
    "reg_parameter_values = [50, 100, 150, 250, 500, 1000]\n",
    "#reg_parameter_values = [0.05-.95, 1, 10, 25, 50, 100]\n",
    "parameters = {'penalty': ['l1','l2'], 'C': reg_parameter_values, 'class_weight': [None, 'balanced']}\n",
    "#parameters = {'penalty': ['l2'], 'C': reg_parameter_values, 'class_weight': [None, 'balanced']}\n",
    "grid = model_selection.GridSearchCV(LogisticRegression(),param_grid=parameters, cv=5, scoring='roc_auc', n_jobs=1)\n",
    "grid_search = grid.fit(X_train_scaled, y_train)"
   ]
  },
  {
   "cell_type": "code",
   "execution_count": 70,
   "metadata": {},
   "outputs": [
    {
     "data": {
      "text/plain": [
       "{'C': 1000, 'class_weight': 'balanced', 'penalty': 'l1'}"
      ]
     },
     "execution_count": 70,
     "metadata": {},
     "output_type": "execute_result"
    }
   ],
   "source": [
    "grid_search.best_params_"
   ]
  },
  {
   "cell_type": "code",
   "execution_count": 71,
   "metadata": {},
   "outputs": [
    {
     "data": {
      "text/plain": [
       "0.7873140033613463"
      ]
     },
     "execution_count": 71,
     "metadata": {},
     "output_type": "execute_result"
    }
   ],
   "source": [
    "grid_search.best_score_"
   ]
  },
  {
   "cell_type": "code",
   "execution_count": 72,
   "metadata": {},
   "outputs": [
    {
     "data": {
      "text/plain": [
       "array([[ 3.78299193e-01,  8.56092935e-01, -7.23426073e-01,\n",
       "         2.72243767e-01, -3.93002412e-01, -3.87750973e+01,\n",
       "        -2.66331703e-01, -1.30183591e-02, -1.43908680e-01,\n",
       "         9.33473603e-02, -4.18624016e-02, -1.65346234e-01,\n",
       "         2.78764728e-02, -1.43980427e-01, -1.23412324e-01,\n",
       "        -8.18262480e-02,  1.53981381e-01, -1.07361744e-01,\n",
       "        -1.46013097e-01, -4.72670499e-02, -1.54036950e-01,\n",
       "         1.31324567e-01]])"
      ]
     },
     "execution_count": 72,
     "metadata": {},
     "output_type": "execute_result"
    }
   ],
   "source": [
    "grid_search.best_estimator_.coef_"
   ]
  },
  {
   "cell_type": "code",
   "execution_count": 29,
   "metadata": {},
   "outputs": [
    {
     "data": {
      "text/plain": [
       "array(['description_length', 'n_pledges', 'pledge_level_min',\n",
       "       'pledge_level_max', 'pledge_level_stddev', 'funding_goal',\n",
       "       'duration', 'Comics', 'Crafts', 'Dance', 'Design', 'Fashion',\n",
       "       'Film & Video', 'Food', 'Games', 'Journalism', 'Music',\n",
       "       'Photography', 'Publishing', 'Sculpture', 'Technology', 'Theater'],\n",
       "      dtype=object)"
      ]
     },
     "execution_count": 29,
     "metadata": {},
     "output_type": "execute_result"
    }
   ],
   "source": [
    "grid_search.best_estimator_"
   ]
  },
  {
   "cell_type": "code",
   "execution_count": 30,
   "metadata": {},
   "outputs": [
    {
     "data": {
      "text/plain": [
       "array([[ 3.78126801e-01,  8.55756776e-01, -7.24152998e-01,\n",
       "         2.73528709e-01, -3.94567823e-01, -3.87073411e+01,\n",
       "        -2.66405164e-01, -1.30021475e-02, -1.43910796e-01,\n",
       "         9.33404790e-02, -4.19583813e-02, -1.65385410e-01,\n",
       "         2.78157597e-02, -1.44041863e-01, -1.23473569e-01,\n",
       "        -8.18434311e-02,  1.53970715e-01, -1.07375003e-01,\n",
       "        -1.46018872e-01, -4.72711636e-02, -1.54181362e-01,\n",
       "         1.31299683e-01]])"
      ]
     },
     "execution_count": 30,
     "metadata": {},
     "output_type": "execute_result"
    }
   ],
   "source": [
    "grid_search.best_estimator_.coef_"
   ]
  },
  {
   "cell_type": "code",
   "execution_count": 31,
   "metadata": {},
   "outputs": [
    {
     "data": {
      "text/plain": [
       "description_length       2495.920000\n",
       "n_pledges                  27.000000\n",
       "pledge_level_min          200.000000\n",
       "pledge_level_max        10000.000000\n",
       "pledge_level_stddev      3588.081826\n",
       "funding_goal           350000.000000\n",
       "duration                   60.000000\n",
       "Comics                      1.000000\n",
       "Crafts                      1.000000\n",
       "Dance                       1.000000\n",
       "Design                      1.000000\n",
       "Fashion                     1.000000\n",
       "Film & Video                1.000000\n",
       "Food                        1.000000\n",
       "Games                       1.000000\n",
       "Journalism                  0.000000\n",
       "Music                       1.000000\n",
       "Photography                 1.000000\n",
       "Publishing                  1.000000\n",
       "Sculpture                   0.000000\n",
       "Technology                  1.000000\n",
       "Theater                     1.000000\n",
       "Name: 0.99, dtype: float64"
      ]
     },
     "execution_count": 31,
     "metadata": {},
     "output_type": "execute_result"
    }
   ],
   "source": [
    "X_train.quantile(.99)"
   ]
  },
  {
   "cell_type": "markdown",
   "metadata": {},
   "source": [
    "#### Getting rid of extreme funding_goal outliers"
   ]
  },
  {
   "cell_type": "code",
   "execution_count": 32,
   "metadata": {},
   "outputs": [],
   "source": [
    "X_train_cutoff = X_train[X_train.funding_goal < 350000]"
   ]
  },
  {
   "cell_type": "code",
   "execution_count": 33,
   "metadata": {},
   "outputs": [],
   "source": [
    "X_train_cutoff_scaled = ssX.fit_transform(X_train)"
   ]
  },
  {
   "cell_type": "code",
   "execution_count": 34,
   "metadata": {},
   "outputs": [],
   "source": [
    "reg_parameter_values = [50, 100, 150, 250, 500, 1000]\n",
    "#reg_parameter_values = [0.05-.95, 1, 10, 25, 50, 100]\n",
    "#parameters = {'penalty': ['l1','l2'], 'C': reg_parameter_values, 'class_weight': [None, 'balanced']}\n",
    "parameters = {'penalty': ['l2'], 'C': reg_parameter_values, 'class_weight': [None, 'balanced']}\n",
    "grid = model_selection.GridSearchCV(LogisticRegression(),param_grid=parameters, cv=5, scoring='roc_auc', n_jobs=1)\n",
    "grid_search = grid.fit(X_train_cutoff_scaled, y_train)"
   ]
  },
  {
   "cell_type": "code",
   "execution_count": 35,
   "metadata": {},
   "outputs": [
    {
     "data": {
      "text/plain": [
       "{'C': 1000, 'class_weight': 'balanced', 'penalty': 'l2'}"
      ]
     },
     "execution_count": 35,
     "metadata": {},
     "output_type": "execute_result"
    }
   ],
   "source": [
    "grid_search.best_params_"
   ]
  },
  {
   "cell_type": "code",
   "execution_count": 36,
   "metadata": {},
   "outputs": [
    {
     "data": {
      "text/plain": [
       "0.787290881469816"
      ]
     },
     "execution_count": 36,
     "metadata": {},
     "output_type": "execute_result"
    }
   ],
   "source": [
    "grid_search.best_score_"
   ]
  },
  {
   "cell_type": "code",
   "execution_count": 37,
   "metadata": {},
   "outputs": [
    {
     "data": {
      "text/plain": [
       "array(['description_length', 'n_pledges', 'pledge_level_min',\n",
       "       'pledge_level_max', 'pledge_level_stddev', 'funding_goal',\n",
       "       'duration', 'Comics', 'Crafts', 'Dance', 'Design', 'Fashion',\n",
       "       'Film & Video', 'Food', 'Games', 'Journalism', 'Music',\n",
       "       'Photography', 'Publishing', 'Sculpture', 'Technology', 'Theater'],\n",
       "      dtype=object)"
      ]
     },
     "execution_count": 37,
     "metadata": {},
     "output_type": "execute_result"
    }
   ],
   "source": [
    "X_train.columns.values"
   ]
  },
  {
   "cell_type": "code",
   "execution_count": 38,
   "metadata": {},
   "outputs": [
    {
     "data": {
      "text/plain": [
       "array([[ 3.78126801e-01,  8.55756776e-01, -7.24152998e-01,\n",
       "         2.73528709e-01, -3.94567823e-01, -3.87073411e+01,\n",
       "        -2.66405164e-01, -1.30021475e-02, -1.43910796e-01,\n",
       "         9.33404790e-02, -4.19583813e-02, -1.65385410e-01,\n",
       "         2.78157597e-02, -1.44041863e-01, -1.23473569e-01,\n",
       "        -8.18434311e-02,  1.53970715e-01, -1.07375003e-01,\n",
       "        -1.46018872e-01, -4.72711636e-02, -1.54181362e-01,\n",
       "         1.31299683e-01]])"
      ]
     },
     "execution_count": 38,
     "metadata": {},
     "output_type": "execute_result"
    }
   ],
   "source": [
    "grid_search.best_estimator_.coef_"
   ]
  },
  {
   "cell_type": "code",
   "execution_count": 39,
   "metadata": {},
   "outputs": [
    {
     "data": {
      "text/plain": [
       "0.7233337841692471"
      ]
     },
     "execution_count": 39,
     "metadata": {},
     "output_type": "execute_result"
    }
   ],
   "source": [
    "best_model = grid_search.best_estimator_\n",
    "y_pred = best_model.predict(X_val_scaled)\n",
    "roc_auc_score(y_val, y_pred)"
   ]
  },
  {
   "cell_type": "code",
   "execution_count": null,
   "metadata": {},
   "outputs": [],
   "source": []
  }
 ],
 "metadata": {
  "kernelspec": {
   "display_name": "Python 3",
   "language": "python",
   "name": "python3"
  },
  "language_info": {
   "codemirror_mode": {
    "name": "ipython",
    "version": 3
   },
   "file_extension": ".py",
   "mimetype": "text/x-python",
   "name": "python",
   "nbconvert_exporter": "python",
   "pygments_lexer": "ipython3",
   "version": "3.6.4"
  }
 },
 "nbformat": 4,
 "nbformat_minor": 2
}
