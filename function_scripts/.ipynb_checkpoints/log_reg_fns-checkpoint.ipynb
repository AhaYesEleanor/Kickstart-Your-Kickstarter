{
 "cells": [
  {
   "cell_type": "code",
   "execution_count": null,
   "metadata": {},
   "outputs": [],
   "source": [
    "from pprint import pprint\n",
    "\n",
    "from sklearn.linear_model import LogisticRegression\n",
    "from sklearn.metrics import confusion_matrix, roc_auc_score\n",
    "from sklearn import model_selection"
   ]
  },
  {
   "cell_type": "code",
   "execution_count": null,
   "metadata": {},
   "outputs": [],
   "source": [
    "def perform_grid_search(train_X,train_y,val_X,val_y, \n",
    "                        params_to_check={'penalty': ['l1','l2'], \n",
    "                                         'C': [50, 100, 500, 1000], \n",
    "                                         'class_weight': [None, 'balanced']},):\n",
    "    #reg_parameter_values = [0.05-.95, 1, 10, 25, 50, 100]\n",
    "    #parameters = {'penalty': ['l1','l2'], 'C': reg_parameter_values, 'class_weight': [None, 'balanced']}\n",
    "    grid = model_selection.GridSearchCV(LogisticRegression(),param_grid=params_to_check, cv=5, scoring='roc_auc', n_jobs=1)\n",
    "    grid_search = grid.fit(train_X, train_y)\n",
    "    print('best params ', grid_search.best_params_)\n",
    "    print('best train AUC score: ', grid_search.best_score_)\n",
    "    best_model = grid_search.best_estimator_\n",
    "    y_pred = best_model.predict(val_X)\n",
    "    \n",
    "    conf_mat = confusion_matrix(val_y, y_pred)\n",
    "    print('best confusion matrix: ')\n",
    "    print(conf_mat)\n",
    "    \n",
    "    print('validation AUC score: ', roc_auc_score(y_val, y_pred))\n",
    "    print('best_model_coefs:')\n",
    "    pprint(list(zip(X_train.columns, best_model.coef_[0])))\n",
    "    return best_model, roc_auc_score(y_val, y_pred)"
   ]
  }
 ],
 "metadata": {
  "kernelspec": {
   "display_name": "Python 3",
   "language": "python",
   "name": "python3"
  },
  "language_info": {
   "codemirror_mode": {
    "name": "ipython",
    "version": 3
   },
   "file_extension": ".py",
   "mimetype": "text/x-python",
   "name": "python",
   "nbconvert_exporter": "python",
   "pygments_lexer": "ipython3",
   "version": "3.6.4"
  }
 },
 "nbformat": 4,
 "nbformat_minor": 2
}
