{
 "cells": [
  {
   "cell_type": "code",
   "execution_count": 54,
   "metadata": {},
   "outputs": [],
   "source": [
    "import sys\n",
    "sys.path.append(\"./function_scripts\")\n",
    "from log_reg_fns import perform_grid_search\n",
    "\n",
    "import pandas as pd\n",
    "import pickle\n",
    "import numpy as np\n",
    "import matplotlib.pyplot as plt\n",
    "from pprint import pprint\n",
    "\n",
    "from sklearn.preprocessing import StandardScaler\n",
    "from sklearn.linear_model import LogisticRegression\n",
    "from sklearn.metrics import confusion_matrix, roc_auc_score\n",
    "from sklearn import model_selection\n",
    "from sklearn.model_selection import train_test_split\n",
    "\n",
    "%matplotlib inline\n",
    "\n",
    "plt.rcParams.update({'font.size': 14})\n",
    "\n",
    "from sklearn.metrics import confusion_matrix, roc_auc_score\n",
    "from sklearn import model_selection"
   ]
  },
  {
   "cell_type": "code",
   "execution_count": 2,
   "metadata": {},
   "outputs": [],
   "source": [
    "random_state = 69"
   ]
  },
  {
   "cell_type": "code",
   "execution_count": 3,
   "metadata": {},
   "outputs": [],
   "source": [
    "with open('all_data_to_model.pickle', 'rb') as f:\n",
    "    project_df = pickle.load(f)"
   ]
  },
  {
   "cell_type": "code",
   "execution_count": 4,
   "metadata": {},
   "outputs": [],
   "source": [
    "#project_df.head()"
   ]
  },
  {
   "cell_type": "code",
   "execution_count": 5,
   "metadata": {},
   "outputs": [],
   "source": [
    "#project_df.info()"
   ]
  },
  {
   "cell_type": "code",
   "execution_count": 6,
   "metadata": {},
   "outputs": [
    {
     "data": {
      "text/plain": [
       "0    36917\n",
       "1    18891\n",
       "Name: funding_percent, dtype: int64"
      ]
     },
     "execution_count": 6,
     "metadata": {},
     "output_type": "execute_result"
    }
   ],
   "source": [
    "project_df.funding_percent = project_df.funding_percent.apply(lambda x: 1 if x>=1.0 else 0)\n",
    "project_df.funding_percent.value_counts()"
   ]
  },
  {
   "cell_type": "code",
   "execution_count": 7,
   "metadata": {},
   "outputs": [],
   "source": [
    "X = project_df.drop(columns=['funding_percent'])\n",
    "y = project_df.funding_percent"
   ]
  },
  {
   "cell_type": "markdown",
   "metadata": {},
   "source": [
    "#### Split into train, validation and test sets:"
   ]
  },
  {
   "cell_type": "code",
   "execution_count": 8,
   "metadata": {},
   "outputs": [],
   "source": [
    "X_train, X_test, y_train, y_test = train_test_split(X, y, test_size=0.3, random_state=random_state)\n",
    "X_train, X_val, y_train, y_val = train_test_split(X_train, y_train, test_size=0.3, random_state=random_state)"
   ]
  },
  {
   "cell_type": "code",
   "execution_count": 9,
   "metadata": {},
   "outputs": [
    {
     "data": {
      "text/html": [
       "<div>\n",
       "<style scoped>\n",
       "    .dataframe tbody tr th:only-of-type {\n",
       "        vertical-align: middle;\n",
       "    }\n",
       "\n",
       "    .dataframe tbody tr th {\n",
       "        vertical-align: top;\n",
       "    }\n",
       "\n",
       "    .dataframe thead th {\n",
       "        text-align: right;\n",
       "    }\n",
       "</style>\n",
       "<table border=\"1\" class=\"dataframe\">\n",
       "  <thead>\n",
       "    <tr style=\"text-align: right;\">\n",
       "      <th></th>\n",
       "      <th>description_length</th>\n",
       "      <th>n_pledges</th>\n",
       "      <th>pledge_level_min</th>\n",
       "      <th>pledge_level_max</th>\n",
       "      <th>pledge_level_stddev</th>\n",
       "      <th>funding_goal</th>\n",
       "      <th>duration</th>\n",
       "      <th>Comics</th>\n",
       "      <th>Crafts</th>\n",
       "      <th>Dance</th>\n",
       "      <th>...</th>\n",
       "      <th>Film &amp; Video</th>\n",
       "      <th>Food</th>\n",
       "      <th>Games</th>\n",
       "      <th>Journalism</th>\n",
       "      <th>Music</th>\n",
       "      <th>Photography</th>\n",
       "      <th>Publishing</th>\n",
       "      <th>Sculpture</th>\n",
       "      <th>Technology</th>\n",
       "      <th>Theater</th>\n",
       "    </tr>\n",
       "  </thead>\n",
       "  <tbody>\n",
       "    <tr>\n",
       "      <th>25847</th>\n",
       "      <td>274</td>\n",
       "      <td>2</td>\n",
       "      <td>9.306406</td>\n",
       "      <td>93.064061</td>\n",
       "      <td>41.878827</td>\n",
       "      <td>2326.601528</td>\n",
       "      <td>30</td>\n",
       "      <td>0</td>\n",
       "      <td>0</td>\n",
       "      <td>0</td>\n",
       "      <td>...</td>\n",
       "      <td>0</td>\n",
       "      <td>0</td>\n",
       "      <td>0</td>\n",
       "      <td>0</td>\n",
       "      <td>0</td>\n",
       "      <td>0</td>\n",
       "      <td>1</td>\n",
       "      <td>0</td>\n",
       "      <td>0</td>\n",
       "      <td>0</td>\n",
       "    </tr>\n",
       "    <tr>\n",
       "      <th>5123</th>\n",
       "      <td>178</td>\n",
       "      <td>5</td>\n",
       "      <td>10.000000</td>\n",
       "      <td>500.000000</td>\n",
       "      <td>178.594513</td>\n",
       "      <td>2500.000000</td>\n",
       "      <td>51</td>\n",
       "      <td>0</td>\n",
       "      <td>0</td>\n",
       "      <td>0</td>\n",
       "      <td>...</td>\n",
       "      <td>0</td>\n",
       "      <td>0</td>\n",
       "      <td>0</td>\n",
       "      <td>0</td>\n",
       "      <td>0</td>\n",
       "      <td>0</td>\n",
       "      <td>0</td>\n",
       "      <td>0</td>\n",
       "      <td>0</td>\n",
       "      <td>0</td>\n",
       "    </tr>\n",
       "    <tr>\n",
       "      <th>41376</th>\n",
       "      <td>358</td>\n",
       "      <td>8</td>\n",
       "      <td>10.000000</td>\n",
       "      <td>1000.000000</td>\n",
       "      <td>317.400944</td>\n",
       "      <td>12000.000000</td>\n",
       "      <td>32</td>\n",
       "      <td>0</td>\n",
       "      <td>0</td>\n",
       "      <td>0</td>\n",
       "      <td>...</td>\n",
       "      <td>0</td>\n",
       "      <td>1</td>\n",
       "      <td>0</td>\n",
       "      <td>0</td>\n",
       "      <td>0</td>\n",
       "      <td>0</td>\n",
       "      <td>0</td>\n",
       "      <td>0</td>\n",
       "      <td>0</td>\n",
       "      <td>0</td>\n",
       "    </tr>\n",
       "    <tr>\n",
       "      <th>31758</th>\n",
       "      <td>144</td>\n",
       "      <td>3</td>\n",
       "      <td>10.000000</td>\n",
       "      <td>50.000000</td>\n",
       "      <td>16.996732</td>\n",
       "      <td>625.000000</td>\n",
       "      <td>30</td>\n",
       "      <td>0</td>\n",
       "      <td>0</td>\n",
       "      <td>0</td>\n",
       "      <td>...</td>\n",
       "      <td>0</td>\n",
       "      <td>0</td>\n",
       "      <td>0</td>\n",
       "      <td>0</td>\n",
       "      <td>1</td>\n",
       "      <td>0</td>\n",
       "      <td>0</td>\n",
       "      <td>0</td>\n",
       "      <td>0</td>\n",
       "      <td>0</td>\n",
       "    </tr>\n",
       "    <tr>\n",
       "      <th>19561</th>\n",
       "      <td>67</td>\n",
       "      <td>3</td>\n",
       "      <td>20.000000</td>\n",
       "      <td>100.000000</td>\n",
       "      <td>32.998316</td>\n",
       "      <td>1000.000000</td>\n",
       "      <td>60</td>\n",
       "      <td>0</td>\n",
       "      <td>0</td>\n",
       "      <td>0</td>\n",
       "      <td>...</td>\n",
       "      <td>0</td>\n",
       "      <td>1</td>\n",
       "      <td>0</td>\n",
       "      <td>0</td>\n",
       "      <td>0</td>\n",
       "      <td>0</td>\n",
       "      <td>0</td>\n",
       "      <td>0</td>\n",
       "      <td>0</td>\n",
       "      <td>0</td>\n",
       "    </tr>\n",
       "  </tbody>\n",
       "</table>\n",
       "<p>5 rows × 22 columns</p>\n",
       "</div>"
      ],
      "text/plain": [
       "       description_length  n_pledges  pledge_level_min  pledge_level_max  \\\n",
       "25847                 274          2          9.306406         93.064061   \n",
       "5123                  178          5         10.000000        500.000000   \n",
       "41376                 358          8         10.000000       1000.000000   \n",
       "31758                 144          3         10.000000         50.000000   \n",
       "19561                  67          3         20.000000        100.000000   \n",
       "\n",
       "       pledge_level_stddev  funding_goal  duration  Comics  Crafts  Dance  \\\n",
       "25847            41.878827   2326.601528        30       0       0      0   \n",
       "5123            178.594513   2500.000000        51       0       0      0   \n",
       "41376           317.400944  12000.000000        32       0       0      0   \n",
       "31758            16.996732    625.000000        30       0       0      0   \n",
       "19561            32.998316   1000.000000        60       0       0      0   \n",
       "\n",
       "        ...     Film & Video  Food  Games  Journalism  Music  Photography  \\\n",
       "25847   ...                0     0      0           0      0            0   \n",
       "5123    ...                0     0      0           0      0            0   \n",
       "41376   ...                0     1      0           0      0            0   \n",
       "31758   ...                0     0      0           0      1            0   \n",
       "19561   ...                0     1      0           0      0            0   \n",
       "\n",
       "       Publishing  Sculpture  Technology  Theater  \n",
       "25847           1          0           0        0  \n",
       "5123            0          0           0        0  \n",
       "41376           0          0           0        0  \n",
       "31758           0          0           0        0  \n",
       "19561           0          0           0        0  \n",
       "\n",
       "[5 rows x 22 columns]"
      ]
     },
     "execution_count": 9,
     "metadata": {},
     "output_type": "execute_result"
    }
   ],
   "source": [
    "X_train.head()"
   ]
  },
  {
   "cell_type": "markdown",
   "metadata": {},
   "source": [
    "## Evaluating performance of different Logistic Regression models"
   ]
  },
  {
   "cell_type": "markdown",
   "metadata": {},
   "source": [
    "##### Basic Logistic Regression model (using l2 regularization with reg penalty C=1)"
   ]
  },
  {
   "cell_type": "code",
   "execution_count": 10,
   "metadata": {},
   "outputs": [],
   "source": [
    "logreg = LogisticRegression(C=1)\n",
    "logreg.fit(X_train, y_train)\n",
    "y_predicted = logreg.predict(X_val)"
   ]
  },
  {
   "cell_type": "code",
   "execution_count": 11,
   "metadata": {},
   "outputs": [
    {
     "name": "stdout",
     "output_type": "stream",
     "text": [
      "mean accuracy is 0.7020477815699658\n",
      "[[7079  608]\n",
      " [2884 1149]]\n"
     ]
    }
   ],
   "source": [
    "print('mean accuracy is {}'.format(logreg.score(X_val,y_val)))\n",
    "conf_mat = confusion_matrix(y_val, y_predicted)\n",
    "print(conf_mat)"
   ]
  },
  {
   "cell_type": "code",
   "execution_count": 12,
   "metadata": {},
   "outputs": [
    {
     "name": "stdout",
     "output_type": "stream",
     "text": [
      "AUC: mean= 0.7631943622816664, stddev = 0.009188224986707037\n"
     ]
    }
   ],
   "source": [
    "kfold = model_selection.KFold(n_splits=10, random_state=42)\n",
    "model = LogisticRegression(C=0.1)\n",
    "scoring = 'roc_auc'\n",
    "results = model_selection.cross_val_score(model, X_train, y_train, cv=kfold, scoring=scoring)\n",
    "print(\"AUC: mean= {}, stddev = {}\".format(results.mean(), results.std()))"
   ]
  },
  {
   "cell_type": "code",
   "execution_count": 13,
   "metadata": {},
   "outputs": [
    {
     "data": {
      "text/plain": [
       "array([0.76324432, 0.759175  , 0.77375221, 0.77376122, 0.74531277,\n",
       "       0.76806244, 0.76114555, 0.75906836, 0.75329729, 0.77512446])"
      ]
     },
     "execution_count": 13,
     "metadata": {},
     "output_type": "execute_result"
    }
   ],
   "source": [
    "results"
   ]
  },
  {
   "cell_type": "code",
   "execution_count": 14,
   "metadata": {},
   "outputs": [
    {
     "data": {
      "text/plain": [
       "array([[ 7.80971606e-04,  4.02359200e-02, -7.24249677e-03,\n",
       "         5.20665357e-04, -1.58115837e-03, -3.12473911e-05,\n",
       "        -3.03790830e-02,  3.09399828e-04, -4.97195823e-04,\n",
       "         2.81016895e-04,  7.80913520e-05, -7.34683439e-04,\n",
       "         6.91989055e-04, -8.89811582e-04, -4.32312027e-04,\n",
       "        -1.79043487e-04,  2.02163514e-03, -4.65907832e-04,\n",
       "        -1.07612585e-03, -4.05533879e-05, -8.85261615e-04,\n",
       "         6.16886075e-04]])"
      ]
     },
     "execution_count": 14,
     "metadata": {},
     "output_type": "execute_result"
    }
   ],
   "source": [
    "logreg.coef_"
   ]
  },
  {
   "cell_type": "markdown",
   "metadata": {},
   "source": [
    "### Using Grid Search to select hyperparameters for different model specifications"
   ]
  },
  {
   "cell_type": "markdown",
   "metadata": {},
   "source": [
    "#### Basic Logistic Regression"
   ]
  },
  {
   "cell_type": "code",
   "execution_count": 15,
   "metadata": {},
   "outputs": [
    {
     "name": "stdout",
     "output_type": "stream",
     "text": [
      "best params  {'C': 0.5}\n",
      "best train AUC score:  0.7599623635422789\n",
      "best confusion matrix: \n",
      "[[7079  608]\n",
      " [2882 1151]]\n",
      "validation AUC score:  0.6031504559867111\n",
      "best_model_coefs:\n",
      "[('description_length', 0.000780734772723971),\n",
      " ('n_pledges', 0.040276753089694),\n",
      " ('pledge_level_min', -0.007222638614969774),\n",
      " ('pledge_level_max', 0.0005208420523598949),\n",
      " ('pledge_level_stddev', -0.0015818735455923436),\n",
      " ('funding_goal', -3.125103333912146e-05),\n",
      " ('duration', -0.030386504270301467),\n",
      " ('Comics', 0.000309727667250025),\n",
      " ('Crafts', -0.0004977362558667211),\n",
      " ('Dance', 0.00028134709253850945),\n",
      " ('Design', 7.819981271481384e-05),\n",
      " ('Fashion', -0.0007354917142047236),\n",
      " ('Film & Video', 0.0006928295836765812),\n",
      " ('Food', -0.0008907578440763124),\n",
      " ('Games', -0.0004328132889451658),\n",
      " ('Journalism', -0.00017923769594356957),\n",
      " ('Music', 0.0020240104488954327),\n",
      " ('Photography', -0.0004663985901597823),\n",
      " ('Publishing', -0.0010772669440455708),\n",
      " ('Sculpture', -4.059911544978593e-05),\n",
      " ('Technology', -0.0008862043655050912),\n",
      " ('Theater', 0.0006176059326886672)]\n"
     ]
    }
   ],
   "source": [
    "#Ridge/l2 regularization, checking for best C\n",
    "params = {'C': [0.1, 0.5, 1, 10, 50, 100]}\n",
    "basic_ridge_lr, basic_ridge_AUC = perform_grid_search(X_train,y_train,X_val, y_val, params)"
   ]
  },
  {
   "cell_type": "code",
   "execution_count": 58,
   "metadata": {},
   "outputs": [
    {
     "data": {
      "text/plain": [
       "0.6031504559867111"
      ]
     },
     "execution_count": 58,
     "metadata": {},
     "output_type": "execute_result"
    }
   ],
   "source": [
    "basic_ridge_AUC"
   ]
  },
  {
   "cell_type": "markdown",
   "metadata": {},
   "source": [
    "#### Using standard scalar"
   ]
  },
  {
   "cell_type": "code",
   "execution_count": 18,
   "metadata": {},
   "outputs": [],
   "source": [
    "ssX = StandardScaler()\n",
    "X_train_scaled = pd.DataFrame(ssX.fit_transform(X_train))\n",
    "X_val_scaled = pd.DataFrame(ssX.transform(X_val))\n",
    "X_test_scaled = pd.DataFrame(ssX.transform(X_test))"
   ]
  },
  {
   "cell_type": "code",
   "execution_count": 21,
   "metadata": {},
   "outputs": [
    {
     "name": "stdout",
     "output_type": "stream",
     "text": [
      "best params  {'C': 100}\n",
      "best train AUC score:  0.7869231618206524\n",
      "best confusion matrix: \n",
      "[[6878  809]\n",
      " [2308 1725]]\n",
      "validation AUC score:  0.6612393409374611\n",
      "best_model_coefs:\n",
      "[(0, 0.34858794672020676),\n",
      " (1, 0.798906540667231),\n",
      " (2, -0.7298823213014332),\n",
      " (3, 0.26132243968406915),\n",
      " (4, -0.37807721273269757),\n",
      " (5, -39.47906524725696),\n",
      " (6, -0.26416251292567894),\n",
      " (7, -0.005092485549303414),\n",
      " (8, -0.141244024454858),\n",
      " (9, 0.09402773469575948),\n",
      " (10, -0.03540050985165149),\n",
      " (11, -0.1613709278884092),\n",
      " (12, 0.04151192341687029),\n",
      " (13, -0.1344584068374904),\n",
      " (14, -0.11419244302483163),\n",
      " (15, -0.08096428188755064),\n",
      " (16, 0.16403193692479484),\n",
      " (17, -0.10492792707646079),\n",
      " (18, -0.14257505668126302),\n",
      " (19, -0.045673888538346474),\n",
      " (20, -0.14972150373995102),\n",
      " (21, 0.13133556059527787)]\n"
     ]
    }
   ],
   "source": [
    "#Ridge/l2 regularization, checking for best C\n",
    "params = {'C': [0.1, 0.5, 1, 10, 50, 100]}\n",
    "scaled_ridge_lr, scaled_ridge_AUC = perform_grid_search(X_train_scaled,y_train,X_val_scaled,y_val, params)"
   ]
  },
  {
   "cell_type": "code",
   "execution_count": 22,
   "metadata": {},
   "outputs": [
    {
     "name": "stdout",
     "output_type": "stream",
     "text": [
      "0.6031504559867111 0.6612393409374611\n"
     ]
    }
   ],
   "source": [
    "print(basic_ridge_AUC, scaled_ridge_AUC)"
   ]
  },
  {
   "cell_type": "markdown",
   "metadata": {},
   "source": [
    "###### Standard scaling of independent variables seems to yield much better results. I will keep it for the following models."
   ]
  },
  {
   "cell_type": "markdown",
   "metadata": {},
   "source": [
    "#### Using Standard Scalar with Lasso vs Ridge Regularization"
   ]
  },
  {
   "cell_type": "code",
   "execution_count": 56,
   "metadata": {},
   "outputs": [
    {
     "name": "stdout",
     "output_type": "stream",
     "text": [
      "best params  {'C': 100, 'penalty': 'l1'}\n",
      "best train AUC score:  0.7871621676241439\n",
      "best confusion matrix: \n",
      "[[6875  812]\n",
      " [2303 1730]]\n",
      "validation AUC score:  0.6616640922355443\n",
      "best_model_coefs:\n",
      "[(0, 0.3507144109201599),\n",
      " (1, 0.8010966325663652),\n",
      " (2, -0.7249706867436355),\n",
      " (3, 0.2659481907615808),\n",
      " (4, -0.3784659405738435),\n",
      " (5, -40.55705473021657),\n",
      " (6, -0.2629945102430074),\n",
      " (7, -0.0052092743897612535),\n",
      " (8, -0.1412200407069772),\n",
      " (9, 0.09416288249163905),\n",
      " (10, -0.033944567231598985),\n",
      " (11, -0.1608055669689668),\n",
      " (12, 0.042352648339368394),\n",
      " (13, -0.13356945863305883),\n",
      " (14, -0.11320679969040567),\n",
      " (15, -0.08068640525671532),\n",
      " (16, 0.16415459685730677),\n",
      " (17, -0.10478547194706372),\n",
      " (18, -0.14254778553976452),\n",
      " (19, -0.045602276251372434),\n",
      " (20, -0.14762331808398702),\n",
      " (21, 0.13164769112973718)]\n"
     ]
    }
   ],
   "source": [
    "# using Lasso(l1) regularization, checking for best C\n",
    "params = {'penalty': ['l1'], 'C': [0.1, 0.5, 1, 10, 50, 100]}\n",
    "scaled_lasso_lr, scaled_lasso_AUC = perform_grid_search(X_train_scaled,y_train,X_val_scaled,y_val, params)"
   ]
  },
  {
   "cell_type": "code",
   "execution_count": 57,
   "metadata": {},
   "outputs": [
    {
     "name": "stdout",
     "output_type": "stream",
     "text": [
      "0.6612393409374611 0.6616640922355443\n"
     ]
    }
   ],
   "source": [
    "print(scaled_ridge_AUC, scaled_lasso_AUC)"
   ]
  },
  {
   "cell_type": "markdown",
   "metadata": {},
   "source": [
    "###### Lasso seems to show minor improvement over ridge. but this may change as I modify other hyperparameters. I'll test both for the following models."
   ]
  },
  {
   "cell_type": "markdown",
   "metadata": {},
   "source": [
    "#### Getting rid of extreme funding_goal outliers"
   ]
  },
  {
   "cell_type": "code",
   "execution_count": 24,
   "metadata": {},
   "outputs": [
    {
     "data": {
      "text/plain": [
       "description_length      1479.000000\n",
       "n_pledges                 18.000000\n",
       "pledge_level_min          48.336298\n",
       "pledge_level_max       10000.000000\n",
       "pledge_level_stddev     2761.781820\n",
       "funding_goal           82958.023842\n",
       "duration                  60.000000\n",
       "Comics                     0.000000\n",
       "Crafts                     0.000000\n",
       "Dance                      0.000000\n",
       "Design                     1.000000\n",
       "Fashion                    1.000000\n",
       "Film & Video               1.000000\n",
       "Food                       1.000000\n",
       "Games                      1.000000\n",
       "Journalism                 0.000000\n",
       "Music                      1.000000\n",
       "Photography                0.000000\n",
       "Publishing                 1.000000\n",
       "Sculpture                  0.000000\n",
       "Technology                 1.000000\n",
       "Theater                    0.000000\n",
       "Name: 0.95, dtype: float64"
      ]
     },
     "execution_count": 24,
     "metadata": {},
     "output_type": "execute_result"
    }
   ],
   "source": [
    "X_train.quantile(.95)"
   ]
  },
  {
   "cell_type": "code",
   "execution_count": 25,
   "metadata": {},
   "outputs": [],
   "source": [
    "X_train_cutoff = X_train[X_train.funding_goal <= 100000]"
   ]
  },
  {
   "cell_type": "code",
   "execution_count": 28,
   "metadata": {},
   "outputs": [],
   "source": [
    "X_train_cutoff_scaled = pd.DataFrame(ssX.fit_transform(X_train))"
   ]
  },
  {
   "cell_type": "code",
   "execution_count": 29,
   "metadata": {},
   "outputs": [
    {
     "name": "stdout",
     "output_type": "stream",
     "text": [
      "best params  {'C': 100, 'penalty': 'l1'}\n",
      "best train AUC score:  0.7871616603948077\n",
      "best confusion matrix: \n",
      "[[6875  812]\n",
      " [2303 1730]]\n",
      "validation AUC score:  0.6616640922355443\n",
      "best_model_coefs:\n",
      "[(0, 0.35072488797860646),\n",
      " (1, 0.8011344492288036),\n",
      " (2, -0.724942340675136),\n",
      " (3, 0.2658138464021344),\n",
      " (4, -0.3783449675783009),\n",
      " (5, -40.55673290850325),\n",
      " (6, -0.262995373618215),\n",
      " (7, -0.005213469946754743),\n",
      " (8, -0.14122185077211846),\n",
      " (9, 0.09416318754022),\n",
      " (10, -0.03394631238781149),\n",
      " (11, -0.16080684944832446),\n",
      " (12, 0.04236126250000562),\n",
      " (13, -0.133567457791721),\n",
      " (14, -0.11321072619794688),\n",
      " (15, -0.0806860262834801),\n",
      " (16, 0.16415666759777423),\n",
      " (17, -0.10478565018444286),\n",
      " (18, -0.1425490279307277),\n",
      " (19, -0.04560232695204935),\n",
      " (20, -0.14762318791212103),\n",
      " (21, 0.13164905435592447)]\n"
     ]
    }
   ],
   "source": [
    "# now using X_train with outliers above 99% funding goal removed. Checking l1/l2 regularization, C regularization values.\n",
    "params = {'penalty': ['l1','l2'], 'C': [0.1, 0.5, 1, 10, 50, 100]}\n",
    "outliersrmvd_lr, outliersrmvd_AUC = perform_grid_search(X_train_cutoff_scaled, y_train, X_val_scaled, y_val, params)"
   ]
  },
  {
   "cell_type": "code",
   "execution_count": 30,
   "metadata": {},
   "outputs": [
    {
     "name": "stdout",
     "output_type": "stream",
     "text": [
      "0.6616640922355443 0.6616640922355443\n"
     ]
    }
   ],
   "source": [
    "print(scaled_lasso_AUC, outliersrmvd_AUC)"
   ]
  },
  {
   "cell_type": "markdown",
   "metadata": {},
   "source": [
    "###### Removing projects with super high funding goals does not seem to have improved accuracy at all. I will keep these projects in my data."
   ]
  },
  {
   "cell_type": "markdown",
   "metadata": {},
   "source": [
    "#### Using a weight to help balance classes (which have an approximate 2:1 ratio)"
   ]
  },
  {
   "cell_type": "code",
   "execution_count": 31,
   "metadata": {},
   "outputs": [
    {
     "name": "stdout",
     "output_type": "stream",
     "text": [
      "best params  {'C': 1000, 'class_weight': 'balanced', 'penalty': 'l1'}\n",
      "best train AUC score:  0.7873143913250054\n",
      "best confusion matrix: \n",
      "[[5573 2114]\n",
      " [1123 2910]]\n",
      "validation AUC score:  0.723268739288279\n",
      "best_model_coefs:\n",
      "[(0, 0.37829284595701534),\n",
      " (1, 0.8561122343934259),\n",
      " (2, -0.723347182297394),\n",
      " (3, 0.27212748954983546),\n",
      " (4, -0.3928912606703453),\n",
      " (5, -38.77444540142483),\n",
      " (6, -0.266332493311835),\n",
      " (7, -0.01302008468200962),\n",
      " (8, -0.14390921953625907),\n",
      " (9, 0.09334719057692659),\n",
      " (10, -0.041866237388362273),\n",
      " (11, -0.16534645967536374),\n",
      " (12, 0.02787508036380342),\n",
      " (13, -0.1439810951941036),\n",
      " (14, -0.1234147699175381),\n",
      " (15, -0.08182626197302789),\n",
      " (16, 0.15398110288592573),\n",
      " (17, -0.10736214532641836),\n",
      " (18, -0.14601396932689764),\n",
      " (19, -0.047267300378388076),\n",
      " (20, -0.15404048806276407),\n",
      " (21, 0.13132373999377378)]\n"
     ]
    }
   ],
   "source": [
    "# Using Standard Scaled X values.\n",
    "# Checking class=balanced/unbalanced, l1/l2 regularization, C regularization values.\n",
    "params = {'penalty': ['l1','l2'], 'C': [0.1, 0.5, 1, 10, 50, 100, 150, 300, 500, 1000], 'class_weight': [None, 'balanced']}\n",
    "balanced_lr, balanced_AUC = perform_grid_search(X_train_scaled, y_train, X_val_scaled, y_val, params)"
   ]
  },
  {
   "cell_type": "code",
   "execution_count": 32,
   "metadata": {},
   "outputs": [
    {
     "name": "stdout",
     "output_type": "stream",
     "text": [
      "0.6616640922355443 0.723268739288279\n"
     ]
    }
   ],
   "source": [
    "print(scaled_lasso_AUC, balanced_AUC)"
   ]
  },
  {
   "cell_type": "markdown",
   "metadata": {},
   "source": [
    "###### Wow! Changing our class weights to balance our number of observations improved our AUC massively! Let's keep it"
   ]
  },
  {
   "cell_type": "markdown",
   "metadata": {},
   "source": [
    "#### Converting funding_goal and category variables to interaction terms"
   ]
  },
  {
   "cell_type": "markdown",
   "metadata": {},
   "source": [
    "###### instead of a 1 in the relevant category, insert funding goal into category columns. Drop funding goal column. This might illuminate the different relationships between funding goal and funded/not-funded for different categories. (EG art projects probably don't get funded if they ask for a lot of money, but tech projects may not get funded if they ask for too little). Note: we must add 'Art' category back in."
   ]
  },
  {
   "cell_type": "code",
   "execution_count": 33,
   "metadata": {},
   "outputs": [],
   "source": [
    "with open('all_data_clean_original.pickle', 'rb') as f:\n",
    "    df_full = pickle.load(f)\n",
    "    "
   ]
  },
  {
   "cell_type": "markdown",
   "metadata": {},
   "source": [
    "##### Get dummies from category\n",
    "###### Note that \"Art\" is no longer dropped"
   ]
  },
  {
   "cell_type": "code",
   "execution_count": 34,
   "metadata": {},
   "outputs": [],
   "source": [
    "dummy_columns = pd.get_dummies(df_full.category, drop_first=False)"
   ]
  },
  {
   "cell_type": "code",
   "execution_count": 35,
   "metadata": {},
   "outputs": [],
   "source": [
    "df_full =pd.concat([df_full,dummy_columns], axis=1)\n",
    "df_full.drop(columns=['category'], inplace=True)"
   ]
  },
  {
   "cell_type": "markdown",
   "metadata": {},
   "source": [
    "##### Add in funding % and get rid of columns we will not use in our models"
   ]
  },
  {
   "cell_type": "code",
   "execution_count": 36,
   "metadata": {},
   "outputs": [],
   "source": [
    "df_to_model = df_full\n",
    "df_to_model.drop(columns=['kickstarter_page', 'start_date', 'n_backers'], inplace=True)"
   ]
  },
  {
   "cell_type": "code",
   "execution_count": 37,
   "metadata": {},
   "outputs": [
    {
     "data": {
      "text/plain": [
       "0    36917\n",
       "1    18891\n",
       "Name: funding_percent, dtype: int64"
      ]
     },
     "execution_count": 37,
     "metadata": {},
     "output_type": "execute_result"
    }
   ],
   "source": [
    "df_to_model['funding_percent'] = df_to_model.funding_actual / df_to_model.funding_goal\n",
    "project_df.funding_percent = project_df.funding_percent.apply(lambda x: 1 if x>=1.0 else 0)\n",
    "df_to_model.drop(columns=['funding_actual'], inplace=True)\n",
    "project_df.funding_percent.value_counts()"
   ]
  },
  {
   "cell_type": "code",
   "execution_count": 38,
   "metadata": {},
   "outputs": [],
   "source": [
    "category_cols = ['Art', 'Comics', 'Crafts', 'Dance', 'Design', 'Fashion', 'Film & Video',\n",
    "       'Food', 'Games', 'Journalism', 'Music', 'Photography', 'Publishing',\n",
    "       'Sculpture', 'Technology', 'Theater']\n",
    "for catcol in category_cols:\n",
    "    df_to_model[catcol] = df_to_model['funding_goal'] * df_to_model[catcol]\n",
    "    \n",
    "df_to_model.drop(columns='funding_goal', inplace=True)"
   ]
  },
  {
   "cell_type": "markdown",
   "metadata": {},
   "source": [
    "##### Convert funding percent to boolean"
   ]
  },
  {
   "cell_type": "code",
   "execution_count": 39,
   "metadata": {},
   "outputs": [
    {
     "data": {
      "text/plain": [
       "0    36917\n",
       "1    18891\n",
       "Name: funding_percent, dtype: int64"
      ]
     },
     "execution_count": 39,
     "metadata": {},
     "output_type": "execute_result"
    }
   ],
   "source": [
    "df_to_model.funding_percent = df_to_model.funding_percent.apply(lambda x: 1 if x>=1.0 else 0)\n",
    "df_to_model.funding_percent.value_counts()"
   ]
  },
  {
   "cell_type": "code",
   "execution_count": 40,
   "metadata": {},
   "outputs": [],
   "source": [
    "X2 = df_to_model.drop(columns=['funding_percent'])\n",
    "y2 = df_to_model.funding_percent"
   ]
  },
  {
   "cell_type": "markdown",
   "metadata": {},
   "source": [
    "##### Split into train, validation and test sets:"
   ]
  },
  {
   "cell_type": "code",
   "execution_count": 41,
   "metadata": {},
   "outputs": [],
   "source": [
    "X2_train, X2_test, y2_train, y2_test = train_test_split(X2, y2, test_size=0.3, random_state=random_state)\n",
    "X2_train, X2_val, y2_train, y2_val = train_test_split(X2_train, y2_train, test_size=0.3, random_state=random_state)"
   ]
  },
  {
   "cell_type": "markdown",
   "metadata": {},
   "source": [
    "##### Standardize independent variables\n",
    "###### Note: now each category's funding goals will be normalized separately, reflecting distribution of funding goals for that category specifically"
   ]
  },
  {
   "cell_type": "code",
   "execution_count": 44,
   "metadata": {},
   "outputs": [],
   "source": [
    "ssX = StandardScaler()\n",
    "X2_train_scaled = pd.DataFrame(ssX.fit_transform(X2_train))\n",
    "X2_val_scaled = pd.DataFrame(ssX.transform(X2_val))"
   ]
  },
  {
   "cell_type": "markdown",
   "metadata": {},
   "source": [
    "##### Reestimating best model using grid search on data with funding_goal/category interactions"
   ]
  },
  {
   "cell_type": "code",
   "execution_count": 45,
   "metadata": {},
   "outputs": [
    {
     "name": "stdout",
     "output_type": "stream",
     "text": [
      "best params  {'C': 1000, 'class_weight': None, 'penalty': 'l1'}\n",
      "best train AUC score:  0.7791349184123177\n",
      "best confusion matrix: \n",
      "[[6947  740]\n",
      " [2556 1477]]\n",
      "validation AUC score:  0.6349810950512957\n",
      "best_model_coefs:\n",
      "[(0, 0.31922926036090704),\n",
      " (1, 0.8518999492372028),\n",
      " (2, -0.6696565143989045),\n",
      " (3, 0.2864011667281268),\n",
      " (4, -0.3578247711787779),\n",
      " (5, -0.26202692863518423),\n",
      " (6, -1.0065791022028168),\n",
      " (7, -35.36160786433617),\n",
      " (8, -2.9672224634166344),\n",
      " (9, -0.6655362163739479),\n",
      " (10, -0.89204736644104),\n",
      " (11, -2.0350665835495407),\n",
      " (12, -22.615012355958786),\n",
      " (13, -2.9375562654409633),\n",
      " (14, -3.2011869581862746),\n",
      " (15, -2.176689090662124),\n",
      " (16, -0.5216470042188133),\n",
      " (17, -0.18218030024221119),\n",
      " (18, -10.411358988775348),\n",
      " (19, -0.14480908781929358),\n",
      " (20, -23.05976280883593),\n",
      " (21, -0.10644074432131424)]\n"
     ]
    }
   ],
   "source": [
    "# Using Standard Scaled X values.\n",
    "# Checking class=balanced/unbalanced, l1/l2 regularization, C regularization values.\n",
    "balanced_interaction_lr, balanced_interaction_AUC = perform_grid_search(X2_train_scaled, y2_train, X2_val_scaled, y2_val)"
   ]
  },
  {
   "cell_type": "code",
   "execution_count": 46,
   "metadata": {},
   "outputs": [
    {
     "name": "stdout",
     "output_type": "stream",
     "text": [
      "0.723268739288279 0.6349810950512957\n"
     ]
    }
   ],
   "source": [
    "print(balanced_AUC, balanced_interaction_AUC)"
   ]
  },
  {
   "cell_type": "markdown",
   "metadata": {},
   "source": [
    "###### No luck! adding interactions did not improve my model."
   ]
  },
  {
   "cell_type": "markdown",
   "metadata": {},
   "source": [
    "### Best Model: Lasso Regularized Logistic Regression with low penalty weight (high C)\n",
    "###### Evaluating model based on test set:"
   ]
  },
  {
   "cell_type": "code",
   "execution_count": 47,
   "metadata": {},
   "outputs": [
    {
     "data": {
      "text/plain": [
       "array([[ 3.78288065e-01,  8.56074255e-01, -7.23444772e-01,\n",
       "         2.72439990e-01, -3.93225519e-01, -3.87756862e+01,\n",
       "        -2.66333637e-01, -1.30153432e-02, -1.43909694e-01,\n",
       "         9.33469295e-02, -4.18623646e-02, -1.65345611e-01,\n",
       "         2.78698535e-02, -1.43982035e-01, -1.23409154e-01,\n",
       "        -8.18263112e-02,  1.53979424e-01, -1.07363179e-01,\n",
       "        -1.46014487e-01, -4.72670159e-02, -1.54037401e-01,\n",
       "         1.31323325e-01]])"
      ]
     },
     "execution_count": 47,
     "metadata": {},
     "output_type": "execute_result"
    }
   ],
   "source": [
    "params = {'penalty': 'l1', 'C': 1000, 'class_weight': 'balanced'}\n",
    "best_logreg = LogisticRegression(penalty='l1', C = 1000, class_weight = 'balanced')\n",
    "best_logreg.fit(X_train_scaled, y_train)\n",
    "best_logreg.coef_"
   ]
  },
  {
   "cell_type": "code",
   "execution_count": 55,
   "metadata": {},
   "outputs": [
    {
     "name": "stdout",
     "output_type": "stream",
     "text": [
      "best confusion matrix: \n",
      "[[7970 3189]\n",
      " [1578 4006]]\n",
      "ROC-AUC score on test set:  0.7158142906223176\n",
      "best_model_coefs:\n",
      "[('description_length', 0.3782880649637784),\n",
      " ('n_pledges', 0.8560742546096921),\n",
      " ('pledge_level_min', -0.72344477197342),\n",
      " ('pledge_level_max', 0.27243998963092253),\n",
      " ('pledge_level_stddev', -0.3932255191602238),\n",
      " ('funding_goal', -38.775686203353814),\n",
      " ('duration', -0.2663336370391366),\n",
      " ('Comics', -0.01301534316845161),\n",
      " ('Crafts', -0.14390969373502863),\n",
      " ('Dance', 0.09334692945394596),\n",
      " ('Design', -0.041862364578285904),\n",
      " ('Fashion', -0.16534561071879833),\n",
      " ('Film & Video', 0.02786985349344509),\n",
      " ('Food', -0.14398203522747616),\n",
      " ('Games', -0.12340915440123502),\n",
      " ('Journalism', -0.0818263112365227),\n",
      " ('Music', 0.15397942391525501),\n",
      " ('Photography', -0.10736317857150676),\n",
      " ('Publishing', -0.14601448714704102),\n",
      " ('Sculpture', -0.04726701593310973),\n",
      " ('Technology', -0.15403740107733582),\n",
      " ('Theater', 0.1313233247973564)]\n"
     ]
    }
   ],
   "source": [
    "\n",
    "y_pred = best_logreg.predict(X_test_scaled)\n",
    "    \n",
    "conf_mat = confusion_matrix(y_test, y_pred)\n",
    "print('best confusion matrix: ')\n",
    "print(conf_mat)\n",
    "print('ROC-AUC score on test set: ', roc_auc_score(y_test, y_pred))\n",
    "\n",
    "coefficients = list(zip(X_train.columns, best_logreg.coef_[0]))\n",
    "print('best_model_coefs:')\n",
    "\n",
    "pprint(coefficients)\n"
   ]
  },
  {
   "cell_type": "code",
   "execution_count": 49,
   "metadata": {},
   "outputs": [],
   "source": [
    "coefficients.sort(key=lambda x: abs(x[1]), reverse=True)"
   ]
  },
  {
   "cell_type": "code",
   "execution_count": 50,
   "metadata": {},
   "outputs": [
    {
     "data": {
      "text/plain": [
       "[('funding_goal', -38.775686203353814),\n",
       " ('n_pledges', 0.8560742546096921),\n",
       " ('pledge_level_min', -0.72344477197342),\n",
       " ('pledge_level_stddev', -0.3932255191602238),\n",
       " ('description_length', 0.3782880649637784),\n",
       " ('pledge_level_max', 0.27243998963092253),\n",
       " ('duration', -0.2663336370391366),\n",
       " ('Fashion', -0.16534561071879833),\n",
       " ('Technology', -0.15403740107733582),\n",
       " ('Music', 0.15397942391525501),\n",
       " ('Publishing', -0.14601448714704102),\n",
       " ('Food', -0.14398203522747616),\n",
       " ('Crafts', -0.14390969373502863),\n",
       " ('Theater', 0.1313233247973564),\n",
       " ('Games', -0.12340915440123502),\n",
       " ('Photography', -0.10736317857150676),\n",
       " ('Dance', 0.09334692945394596),\n",
       " ('Journalism', -0.0818263112365227),\n",
       " ('Sculpture', -0.04726701593310973),\n",
       " ('Design', -0.041862364578285904),\n",
       " ('Film & Video', 0.02786985349344509),\n",
       " ('Comics', -0.01301534316845161)]"
      ]
     },
     "execution_count": 50,
     "metadata": {},
     "output_type": "execute_result"
    }
   ],
   "source": [
    "coefficients"
   ]
  },
  {
   "cell_type": "code",
   "execution_count": 51,
   "metadata": {},
   "outputs": [
    {
     "data": {
      "text/plain": [
       "<matplotlib.collections.PathCollection at 0x7f0607ad3320>"
      ]
     },
     "execution_count": 51,
     "metadata": {},
     "output_type": "execute_result"
    },
    {
     "data": {
      "image/png": "[encoded data removed]",
      "text/plain": [
       "<matplotlib.figure.Figure at 0x7f061cee4fd0>"
      ]
     },
     "metadata": {},
     "output_type": "display_data"
    }
   ],
   "source": [
    "plt.scatter(X_test.funding_goal,y_test)"
   ]
  },
  {
   "cell_type": "code",
   "execution_count": null,
   "metadata": {},
   "outputs": [],
   "source": [
    "with open('all_data_to_model.pickle', 'rb') as f:\n",
    "    plot_df = pickle.load(f)\n",
    "X_plt = plot_df.drop(columns=['funding_percent'])\n",
    "y_plt = plot_df.funding_percent\n",
    "X_plt_train, X_plt_test, y_plt_train, y_plt_test = train_test_split(X_plt, y_plt, test_size=0.3, random_state=random_state)\n",
    "X_plt_train, X_plt_val, y_plt_train, y_plt_val = train_test_split(X_plt_train, y_plt_train, test_size=0.3, random_state=random_state)"
   ]
  },
  {
   "cell_type": "code",
   "execution_count": null,
   "metadata": {},
   "outputs": [],
   "source": [
    "plot_x = X_plt_test.funding_goal.reset_index()\n",
    "plot_y = y_plt_test.reset_index()\n",
    "plot_points = pd.concat([plot_x, plot_y], axis=1).drop(columns=['index'])\n",
    "#plot_points.sort_values(by='funding_percent', ascending=False, inplace=True)\n",
    "plot_x = plot_points.funding_goal\n",
    "plot_y = plot_points.funding_percent\n",
    "color_key = pd.Series(y_pred)\n",
    "colorization = color_key.apply(lambda x: 'xkcd:blue green' if x == 1 else 'xkcd:dark peach')\n",
    "\n",
    "fig = plt.figure(figsize=(8,5))\n",
    "ax = fig.add_subplot(1, 1, 1)\n",
    "plt.scatter(plot_x, plot_y, alpha=0.3, c=colorization)\n",
    "plt.ylim((0,2.5))\n",
    "plt.xlim((0,3e5))\n",
    "plt.xlabel('Funding Goal (USD)')\n",
    "plt.ylabel('% Funded')\n",
    "ax.set_yticklabels(['0%','50%','100%', '150%','200%', '250%'])\n",
    "plt.tight_layout()\n",
    "\n",
    "plt.savefig('fund_goal_vs_percent_test.png')"
   ]
  },
  {
   "cell_type": "code",
   "execution_count": null,
   "metadata": {},
   "outputs": [],
   "source": [
    "plt.scatter(X.funding_goal,y_plt, alpha=0.2)\n",
    "plt.ylim((0,2.5))\n",
    "plt.xlim((0,1e5))\n",
    "plt.xlabel('Funding Goal (USD)')\n",
    "plt.ylabel('% Funded')\n",
    "plt.savefig('fund_goal_vs_percent_all_data.png')"
   ]
  },
  {
   "cell_type": "code",
   "execution_count": null,
   "metadata": {},
   "outputs": [],
   "source": [
    "pred_probs = pd.DataFrame(best_logreg.predict_proba(X_test)[:,1], columns=['prob_funded'])\n",
    "X_test_reset = X_test.reset_index()\n",
    "to_plot=pd.concat([X_test_reset.funding_goal,pred_probs], axis=1)"
   ]
  },
  {
   "cell_type": "code",
   "execution_count": null,
   "metadata": {},
   "outputs": [],
   "source": [
    "to_plot.sort_values(by='funding_goal',inplace=True)\n",
    "jitter_y = to_plot.prob_funded + np.random.normal(0, 0.02, len(to_plot.prob_funded))\n",
    "fig = plt.figure(figsize=(6,2))\n",
    "ax = fig.add_subplot(1, 1, 1)\n",
    "ax.scatter(to_plot.funding_goal.values, jitter_y, alpha=0.3, c='xkcd:blue green')\n",
    "ax.set_xscale('log')\n",
    "plt.yticks([0,1])\n",
    "plt.ylabel('Prediction')\n",
    "plt.xlabel('Funding Goal (USD)')\n",
    "#plt.xlim(0,1e3)\n",
    "plt.xticks([10,1000,10**5,10**7])\n",
    "ax.set_xticklabels(['10', '1000', '100,000', '10,000,000']);\n",
    "plt.tight_layout()\n",
    "plt.savefig('funding_goal_vs_prediction.png')"
   ]
  },
  {
   "cell_type": "code",
   "execution_count": null,
   "metadata": {},
   "outputs": [],
   "source": []
  },
  {
   "cell_type": "code",
   "execution_count": null,
   "metadata": {},
   "outputs": [],
   "source": []
  },
  {
   "cell_type": "code",
   "execution_count": null,
   "metadata": {},
   "outputs": [],
   "source": []
  },
  {
   "cell_type": "code",
   "execution_count": null,
   "metadata": {},
   "outputs": [],
   "source": []
  }
 ],
 "metadata": {
  "kernelspec": {
   "display_name": "Python 3",
   "language": "python",
   "name": "python3"
  },
  "language_info": {
   "codemirror_mode": {
    "name": "ipython",
    "version": 3
   },
   "file_extension": ".py",
   "mimetype": "text/x-python",
   "name": "python",
   "nbconvert_exporter": "python",
   "pygments_lexer": "ipython3",
   "version": "3.6.4"
  }
 },
 "nbformat": 4,
 "nbformat_minor": 2
}
