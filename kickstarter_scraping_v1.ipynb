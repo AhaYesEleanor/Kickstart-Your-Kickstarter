{
 "cells": [
  {
   "cell_type": "code",
   "execution_count": 1,
   "metadata": {},
   "outputs": [],
   "source": [
    "import requests\n",
    "import time\n",
    "import re\n",
    "import pandas as pd\n",
    "import numpy as np\n",
    "import random\n",
    "from bs4 import BeautifulSoup"
   ]
  },
  {
   "cell_type": "code",
   "execution_count": 2,
   "metadata": {},
   "outputs": [],
   "source": [
    "url = 'https://www.kicktraq.com/archive/'\n",
    "\n",
    "response = requests.get(url)"
   ]
  },
  {
   "cell_type": "code",
   "execution_count": 3,
   "metadata": {},
   "outputs": [
    {
     "data": {
      "text/plain": [
       "200"
      ]
     },
     "execution_count": 3,
     "metadata": {},
     "output_type": "execute_result"
    }
   ],
   "source": [
    "response.status_code"
   ]
  },
  {
   "cell_type": "code",
   "execution_count": 4,
   "metadata": {},
   "outputs": [],
   "source": [
    "page = response.text"
   ]
  },
  {
   "cell_type": "code",
   "execution_count": 5,
   "metadata": {},
   "outputs": [],
   "source": [
    "soup = BeautifulSoup(page,'lxml')"
   ]
  },
  {
   "cell_type": "code",
   "execution_count": 7,
   "metadata": {},
   "outputs": [
    {
     "name": "stdout",
     "output_type": "stream",
     "text": [
      "dates: \n",
      "\t\t\t\t\tCampaign Dates: November 26th -> January 25th (2015)\n",
      "dates: \n",
      "\t\t\t\t\tCampaign Dates: November 24th -> January 23rd (2015)\n",
      "dates: \n",
      "\t\t\t\t\tCampaign Dates: November 21st -> January 20th (2015)\n",
      "dates: \n",
      "\t\t\t\t\tCampaign Dates: November 19th -> January 17th (2015)\n",
      "dates: \n",
      "\t\t\t\t\tCampaign Dates: November 17th -> January 16th (2015)\n",
      "dates: \n",
      "\t\t\t\t\tCampaign Dates: November 17th -> January 16th (2015)\n",
      "dates: \n",
      "\t\t\t\t\tCampaign Dates: November 16th -> January 15th (2015)\n",
      "dates: \n",
      "\t\t\t\t\tCampaign Dates: November 27th -> January 14th (2015)\n",
      "dates: \n",
      "\t\t\t\t\tCampaign Dates: November 25th -> January 24th (2015)\n",
      "dates: \n",
      "\t\t\t\t\tCampaign Dates: December 2nd -> January 21st (2015)\n",
      "dates: \n",
      "\t\t\t\t\tCampaign Dates: November 19th -> January 18th (2015)\n",
      "dates: \n",
      "\t\t\t\t\tCampaign Dates: November 19th -> January 16th (2015)\n",
      "dates: \n",
      "\t\t\t\t\tCampaign Dates: November 17th -> January 16th (2015)\n",
      "dates: \n",
      "\t\t\t\t\tCampaign Dates: November 17th -> January 16th (2015)\n",
      "dates: \n",
      "\t\t\t\t\tCampaign Dates: November 15th -> January 14th (2015)\n"
     ]
    }
   ],
   "source": [
    "kickstarter_page = []\n",
    "funding = []\n",
    "campaign_dates = []\n",
    "backers = []\n",
    "categories = []\n",
    "\n",
    "all_projects_on_page = soup.find_all(class_=\"project first odd closed\")\n",
    "all_projects_on_page = all_projects_on_page + soup.find_all(class_=\"project odd closed\")\n",
    "all_projects_on_page = all_projects_on_page + soup.find_all(class_=\"project closed\")\n",
    "\n",
    "for project in all_projects_on_page: \n",
    "    #projects.append(project)\n",
    "    kickstarter_page.append(project.find('h2').find('a')['href'])\n",
    "    funding.append(project.find(class_='project-details').find(text=re.compile('Funding: .\\d* of .\\d*.\\d*')))\n",
    "    campaign_dates.append(project.find(class_='project-details').find(text=re.compile('Dates: \\w* \\d*\\w* \\-\\> \\w* \\d*\\w* \\(\\d*\\)')))\n",
    "    print('dates: ' + str(project.find(class_='project-details').find(text=re.compile('Dates: \\w* \\d*\\w* \\-\\> \\w* \\d*\\w* \\(\\d*\\)'))))\n",
    "    backers.append(project.find(class_='project-details').find(text=re.compile('Backers: \\d*')))\n",
    "    categories.append(project.find(class_='project-cat').find('a').text)"
   ]
  },
  {
   "cell_type": "code",
   "execution_count": 31,
   "metadata": {},
   "outputs": [
    {
     "data": {
      "text/plain": [
       "'\\n\\t\\t\\t\\t\\tFunding: £0 of £10,000 ('"
      ]
     },
     "execution_count": 31,
     "metadata": {},
     "output_type": "execute_result"
    }
   ],
   "source": [
    "funding[0].replace('$','')"
   ]
  },
  {
   "cell_type": "code",
   "execution_count": null,
   "metadata": {},
   "outputs": [],
   "source": []
  },
  {
   "cell_type": "code",
   "execution_count": 60,
   "metadata": {},
   "outputs": [],
   "source": [
    "projects=pd.DataFrame(columns=['kickstarter_page','funding', 'campaign dates', 'backers', 'category'])"
   ]
  },
  {
   "cell_type": "code",
   "execution_count": 62,
   "metadata": {},
   "outputs": [
    {
     "name": "stdout",
     "output_type": "stream",
     "text": [
      "url is https://www.kicktraq.com/archive/?page=4957\n",
      "url is https://www.kicktraq.com/archive/?page=3689\n",
      "url is https://www.kicktraq.com/archive/?page=7800\n",
      "url is https://www.kicktraq.com/archive/?page=3489\n",
      "url is https://www.kicktraq.com/archive/?page=2162\n",
      "url is https://www.kicktraq.com/archive/?page=6814\n",
      "url is https://www.kicktraq.com/archive/?page=4287\n",
      "url is https://www.kicktraq.com/archive/?page=5160\n",
      "url is https://www.kicktraq.com/archive/?page=3988\n",
      "url is https://www.kicktraq.com/archive/?page=1407\n",
      "url is https://www.kicktraq.com/archive/?page=7433\n",
      "url is https://www.kicktraq.com/archive/?page=4816\n",
      "url is https://www.kicktraq.com/archive/?page=5328\n",
      "url is https://www.kicktraq.com/archive/?page=7186\n",
      "url is https://www.kicktraq.com/archive/?page=4400\n",
      "url is https://www.kicktraq.com/archive/?page=6664\n",
      "url is https://www.kicktraq.com/archive/?page=1416\n",
      "url is https://www.kicktraq.com/archive/?page=1923\n",
      "url is https://www.kicktraq.com/archive/?page=4051\n",
      "url is https://www.kicktraq.com/archive/?page=3389\n"
     ]
    }
   ],
   "source": [
    "#1-8000 are available\n",
    "page_numbers = np.random.randint(1,high=8000,size=20)\n",
    "for page_num in page_numbers:\n",
    "    url = 'https://www.kicktraq.com/archive/?page='+str(page_num)\n",
    "    print('url is ' + url)\n",
    "    kickstarter_page = []\n",
    "    funding = []\n",
    "    campaign_dates = []\n",
    "    backers = []\n",
    "    categories = []\n",
    "    \n",
    "    response = requests.get(url)\n",
    "    \n",
    "    while True:\n",
    "        try:\n",
    "            response.status_code == 200\n",
    "            break\n",
    "        except:\n",
    "            response = requests.get(url)\n",
    "    \n",
    "    page = response.text\n",
    "    soup = BeautifulSoup(page,'lxml')\n",
    "    \n",
    "    \n",
    "    all_projects_on_page = soup.find_all(class_=\"project first odd closed\")\n",
    "    all_projects_on_page = all_projects_on_page + soup.find_all(class_=\"project odd closed\")\n",
    "    all_projects_on_page = all_projects_on_page + soup.find_all(class_=\"project closed\")\n",
    "\n",
    "    for project in all_projects_on_page: \n",
    "        #if statement tests to see if funding info is available. If it is, we include the project. If not, we don't!\n",
    "        funding_info = project.find(class_='project-details').find(text=re.compile('Funding: .\\d*.\\d* of .\\d*.\\d*'))\n",
    "        if funding_info != None:\n",
    "            funding.append(str(funding_info).replace('$',''))\n",
    "\n",
    "            kickstarter_page.append(str(project.find('h2').find('a')['href']))\n",
    "            campaign_dates.append(str(project.find(class_='project-details').find(text=re.compile('Dates: \\w* \\d*\\w* \\-\\> \\w* \\d*\\w* \\(\\d*\\)'))))\n",
    "            backers.append(str(project.find(class_='project-details').find(text=re.compile('Backers: \\d*'))))\n",
    "            categories.append(str(project.find(class_='project-cat').find('a').text))\n",
    "\n",
    "            page_df = pd.DataFrame(np.column_stack([kickstarter_page,funding,campaign_dates,backers,categories]), \n",
    "                                   columns=['kickstarter_page','funding', 'campaign dates', 'backers', 'category'])\n",
    "            projects = pd.concat([projects, page_df])\n",
    "\n",
    "\n",
    "    time.sleep(10+random.uniform(0,2))\n"
   ]
  },
  {
   "cell_type": "code",
   "execution_count": 64,
   "metadata": {},
   "outputs": [
    {
     "data": {
      "text/html": [
       "<div>\n",
       "<style scoped>\n",
       "    .dataframe tbody tr th:only-of-type {\n",
       "        vertical-align: middle;\n",
       "    }\n",
       "\n",
       "    .dataframe tbody tr th {\n",
       "        vertical-align: top;\n",
       "    }\n",
       "\n",
       "    .dataframe thead th {\n",
       "        text-align: right;\n",
       "    }\n",
       "</style>\n",
       "<table border=\"1\" class=\"dataframe\">\n",
       "  <thead>\n",
       "    <tr style=\"text-align: right;\">\n",
       "      <th></th>\n",
       "      <th>kickstarter_page</th>\n",
       "      <th>funding</th>\n",
       "      <th>campaign dates</th>\n",
       "      <th>backers</th>\n",
       "      <th>category</th>\n",
       "    </tr>\n",
       "  </thead>\n",
       "  <tbody>\n",
       "    <tr>\n",
       "      <th>0</th>\n",
       "      <td>/projects/1063028485/good-art-guide/</td>\n",
       "      <td>\\n\\t\\t\\t\\t\\tFunding: £0 of £10,000 (</td>\n",
       "      <td>\\n\\t\\t\\t\\t\\tCampaign Dates: November 26th -&gt; J...</td>\n",
       "      <td>\\n\\t\\t\\t\\t\\tBackers: 0</td>\n",
       "      <td>Art</td>\n",
       "    </tr>\n",
       "    <tr>\n",
       "      <th>0</th>\n",
       "      <td>/projects/1063028485/good-art-guide/</td>\n",
       "      <td>\\n\\t\\t\\t\\t\\tFunding: £0 of £10,000 (</td>\n",
       "      <td>\\n\\t\\t\\t\\t\\tCampaign Dates: November 26th -&gt; J...</td>\n",
       "      <td>\\n\\t\\t\\t\\t\\tBackers: 0</td>\n",
       "      <td>Art</td>\n",
       "    </tr>\n",
       "    <tr>\n",
       "      <th>1</th>\n",
       "      <td>/projects/spiderwebcitytx/katlynn-maries-horro...</td>\n",
       "      <td>\\n\\t\\t\\t\\t\\tFunding: 17 of 15,000 (</td>\n",
       "      <td>\\n\\t\\t\\t\\t\\tCampaign Dates: November 24th -&gt; J...</td>\n",
       "      <td>\\n\\t\\t\\t\\t\\tBackers: 3</td>\n",
       "      <td>Art</td>\n",
       "    </tr>\n",
       "    <tr>\n",
       "      <th>0</th>\n",
       "      <td>/projects/1063028485/good-art-guide/</td>\n",
       "      <td>\\n\\t\\t\\t\\t\\tFunding: £0 of £10,000 (</td>\n",
       "      <td>\\n\\t\\t\\t\\t\\tCampaign Dates: November 26th -&gt; J...</td>\n",
       "      <td>\\n\\t\\t\\t\\t\\tBackers: 0</td>\n",
       "      <td>Art</td>\n",
       "    </tr>\n",
       "    <tr>\n",
       "      <th>1</th>\n",
       "      <td>/projects/spiderwebcitytx/katlynn-maries-horro...</td>\n",
       "      <td>\\n\\t\\t\\t\\t\\tFunding: 17 of 15,000 (</td>\n",
       "      <td>\\n\\t\\t\\t\\t\\tCampaign Dates: November 24th -&gt; J...</td>\n",
       "      <td>\\n\\t\\t\\t\\t\\tBackers: 3</td>\n",
       "      <td>Art</td>\n",
       "    </tr>\n",
       "  </tbody>\n",
       "</table>\n",
       "</div>"
      ],
      "text/plain": [
       "                                    kickstarter_page  \\\n",
       "0               /projects/1063028485/good-art-guide/   \n",
       "0               /projects/1063028485/good-art-guide/   \n",
       "1  /projects/spiderwebcitytx/katlynn-maries-horro...   \n",
       "0               /projects/1063028485/good-art-guide/   \n",
       "1  /projects/spiderwebcitytx/katlynn-maries-horro...   \n",
       "\n",
       "                                funding  \\\n",
       "0  \\n\\t\\t\\t\\t\\tFunding: £0 of £10,000 (   \n",
       "0  \\n\\t\\t\\t\\t\\tFunding: £0 of £10,000 (   \n",
       "1   \\n\\t\\t\\t\\t\\tFunding: 17 of 15,000 (   \n",
       "0  \\n\\t\\t\\t\\t\\tFunding: £0 of £10,000 (   \n",
       "1   \\n\\t\\t\\t\\t\\tFunding: 17 of 15,000 (   \n",
       "\n",
       "                                      campaign dates                 backers  \\\n",
       "0  \\n\\t\\t\\t\\t\\tCampaign Dates: November 26th -> J...  \\n\\t\\t\\t\\t\\tBackers: 0   \n",
       "0  \\n\\t\\t\\t\\t\\tCampaign Dates: November 26th -> J...  \\n\\t\\t\\t\\t\\tBackers: 0   \n",
       "1  \\n\\t\\t\\t\\t\\tCampaign Dates: November 24th -> J...  \\n\\t\\t\\t\\t\\tBackers: 3   \n",
       "0  \\n\\t\\t\\t\\t\\tCampaign Dates: November 26th -> J...  \\n\\t\\t\\t\\t\\tBackers: 0   \n",
       "1  \\n\\t\\t\\t\\t\\tCampaign Dates: November 24th -> J...  \\n\\t\\t\\t\\t\\tBackers: 3   \n",
       "\n",
       "  category  \n",
       "0      Art  \n",
       "0      Art  \n",
       "1      Art  \n",
       "0      Art  \n",
       "1      Art  "
      ]
     },
     "execution_count": 64,
     "metadata": {},
     "output_type": "execute_result"
    }
   ],
   "source": [
    "projects.head()"
   ]
  },
  {
   "cell_type": "code",
   "execution_count": 23,
   "metadata": {},
   "outputs": [],
   "source": [
    "projects['description_length'] = 0\n",
    "projects['n_pledges'] = 0\n",
    "projects['pledge_level_min'] = 0\n",
    "projects['pledge_level_max'] = 0\n",
    "projects['pledge_level_stddev'] = 0\n",
    "projects['currency'] = '$'"
   ]
  },
  {
   "cell_type": "code",
   "execution_count": 53,
   "metadata": {},
   "outputs": [],
   "source": [
    "def get_kickstarter_data(proj_series):\n",
    "    url = 'https://www.kickstarter.com/' + proj_series.kickstarter_page\n",
    "        \n",
    "    response = requests.get(url)\n",
    "    page = response.text\n",
    "    soup = BeautifulSoup(page,'lxml')\n",
    "\n",
    "    pledges = soup.find_all(class_='pledge__info')\n",
    "    \n",
    "    n_pledges = len(pledges)\n",
    "    \n",
    "    pledge_amounts=[]\n",
    "    for pledge in pledges:\n",
    "        pledge_amount = str(pledge.find(class_='money').text.replace('$',''))\n",
    "        if re.match('\\d',pledge_amount[0]):\n",
    "            pledge_amounts.append(int(pledge_amount))\n",
    "        else:\n",
    "            proj_series['currency'] = pledge_amount[0]\n",
    "            pledge_amounts.append(int(pledge_amount[1:]))\n",
    "\n",
    "    descript_paragraphs = soup.find(class_=\"full-description js-full-description responsive-media formatted-lists\").find_all('p')\n",
    "    description_words = 0\n",
    "    for par in descript_paragraphs:\n",
    "        description_words += len(str(par.text).split())\n",
    "        \n",
    "    proj_series.description_length = description_words\n",
    "    proj_series.n_pledges = n_pledges\n",
    "    proj_series.pledge_level_min = min(pledge_amounts)\n",
    "    proj_series.pledge_level_max = max(pledge_amounts)\n",
    "    proj_series.pledge_level_stddev = np.std(pledge_amounts)\n",
    "    \n",
    "    return proj_series\n",
    "        \n",
    "    time.sleep(2+random.uniform(0,2))"
   ]
  },
  {
   "cell_type": "code",
   "execution_count": 54,
   "metadata": {},
   "outputs": [
    {
     "name": "stdout",
     "output_type": "stream",
     "text": [
      "pledge_amount is £5\n",
      "pledge_amount is £5\n",
      "pledge_amount is £5\n",
      "pledge_amount is 2\n",
      "pledge_amount is 5\n",
      "pledge_amount is 100\n",
      "pledge_amount is £5\n",
      "pledge_amount is 2\n",
      "pledge_amount is 5\n",
      "pledge_amount is 100\n"
     ]
    }
   ],
   "source": [
    "projects_subset = projects.head(5)\n",
    "projects_subset = projects_subset.apply(get_kickstarter_data, axis=1)"
   ]
  },
  {
   "cell_type": "code",
   "execution_count": 55,
   "metadata": {},
   "outputs": [
    {
     "data": {
      "text/html": [
       "<div>\n",
       "<style scoped>\n",
       "    .dataframe tbody tr th:only-of-type {\n",
       "        vertical-align: middle;\n",
       "    }\n",
       "\n",
       "    .dataframe tbody tr th {\n",
       "        vertical-align: top;\n",
       "    }\n",
       "\n",
       "    .dataframe thead th {\n",
       "        text-align: right;\n",
       "    }\n",
       "</style>\n",
       "<table border=\"1\" class=\"dataframe\">\n",
       "  <thead>\n",
       "    <tr style=\"text-align: right;\">\n",
       "      <th></th>\n",
       "      <th>kickstarter_page</th>\n",
       "      <th>funding</th>\n",
       "      <th>campaign dates</th>\n",
       "      <th>backers</th>\n",
       "      <th>category</th>\n",
       "      <th>description_length</th>\n",
       "      <th>n_pledges</th>\n",
       "      <th>pledge_level_min</th>\n",
       "      <th>pledge_level_max</th>\n",
       "      <th>pledge_level_stddev</th>\n",
       "      <th>currency</th>\n",
       "    </tr>\n",
       "  </thead>\n",
       "  <tbody>\n",
       "    <tr>\n",
       "      <th>0</th>\n",
       "      <td>/projects/1063028485/good-art-guide/</td>\n",
       "      <td>\\n\\t\\t\\t\\t\\tFunding: £0 of £10,000 (</td>\n",
       "      <td>\\n\\t\\t\\t\\t\\tCampaign Dates: November 26th -&gt; J...</td>\n",
       "      <td>\\n\\t\\t\\t\\t\\tBackers: 0</td>\n",
       "      <td>Art</td>\n",
       "      <td>93</td>\n",
       "      <td>1</td>\n",
       "      <td>5</td>\n",
       "      <td>5</td>\n",
       "      <td>0.00000</td>\n",
       "      <td>£</td>\n",
       "    </tr>\n",
       "    <tr>\n",
       "      <th>0</th>\n",
       "      <td>/projects/1063028485/good-art-guide/</td>\n",
       "      <td>\\n\\t\\t\\t\\t\\tFunding: £0 of £10,000 (</td>\n",
       "      <td>\\n\\t\\t\\t\\t\\tCampaign Dates: November 26th -&gt; J...</td>\n",
       "      <td>\\n\\t\\t\\t\\t\\tBackers: 0</td>\n",
       "      <td>Art</td>\n",
       "      <td>93</td>\n",
       "      <td>1</td>\n",
       "      <td>5</td>\n",
       "      <td>5</td>\n",
       "      <td>0.00000</td>\n",
       "      <td>£</td>\n",
       "    </tr>\n",
       "    <tr>\n",
       "      <th>1</th>\n",
       "      <td>/projects/spiderwebcitytx/katlynn-maries-horro...</td>\n",
       "      <td>\\n\\t\\t\\t\\t\\tFunding: 17 of 15,000 (</td>\n",
       "      <td>\\n\\t\\t\\t\\t\\tCampaign Dates: November 24th -&gt; J...</td>\n",
       "      <td>\\n\\t\\t\\t\\t\\tBackers: 3</td>\n",
       "      <td>Art</td>\n",
       "      <td>106</td>\n",
       "      <td>3</td>\n",
       "      <td>2</td>\n",
       "      <td>100</td>\n",
       "      <td>45.50702</td>\n",
       "      <td>$</td>\n",
       "    </tr>\n",
       "    <tr>\n",
       "      <th>0</th>\n",
       "      <td>/projects/1063028485/good-art-guide/</td>\n",
       "      <td>\\n\\t\\t\\t\\t\\tFunding: £0 of £10,000 (</td>\n",
       "      <td>\\n\\t\\t\\t\\t\\tCampaign Dates: November 26th -&gt; J...</td>\n",
       "      <td>\\n\\t\\t\\t\\t\\tBackers: 0</td>\n",
       "      <td>Art</td>\n",
       "      <td>93</td>\n",
       "      <td>1</td>\n",
       "      <td>5</td>\n",
       "      <td>5</td>\n",
       "      <td>0.00000</td>\n",
       "      <td>£</td>\n",
       "    </tr>\n",
       "    <tr>\n",
       "      <th>1</th>\n",
       "      <td>/projects/spiderwebcitytx/katlynn-maries-horro...</td>\n",
       "      <td>\\n\\t\\t\\t\\t\\tFunding: 17 of 15,000 (</td>\n",
       "      <td>\\n\\t\\t\\t\\t\\tCampaign Dates: November 24th -&gt; J...</td>\n",
       "      <td>\\n\\t\\t\\t\\t\\tBackers: 3</td>\n",
       "      <td>Art</td>\n",
       "      <td>106</td>\n",
       "      <td>3</td>\n",
       "      <td>2</td>\n",
       "      <td>100</td>\n",
       "      <td>45.50702</td>\n",
       "      <td>$</td>\n",
       "    </tr>\n",
       "  </tbody>\n",
       "</table>\n",
       "</div>"
      ],
      "text/plain": [
       "                                    kickstarter_page  \\\n",
       "0               /projects/1063028485/good-art-guide/   \n",
       "0               /projects/1063028485/good-art-guide/   \n",
       "1  /projects/spiderwebcitytx/katlynn-maries-horro...   \n",
       "0               /projects/1063028485/good-art-guide/   \n",
       "1  /projects/spiderwebcitytx/katlynn-maries-horro...   \n",
       "\n",
       "                                funding  \\\n",
       "0  \\n\\t\\t\\t\\t\\tFunding: £0 of £10,000 (   \n",
       "0  \\n\\t\\t\\t\\t\\tFunding: £0 of £10,000 (   \n",
       "1   \\n\\t\\t\\t\\t\\tFunding: 17 of 15,000 (   \n",
       "0  \\n\\t\\t\\t\\t\\tFunding: £0 of £10,000 (   \n",
       "1   \\n\\t\\t\\t\\t\\tFunding: 17 of 15,000 (   \n",
       "\n",
       "                                      campaign dates                 backers  \\\n",
       "0  \\n\\t\\t\\t\\t\\tCampaign Dates: November 26th -> J...  \\n\\t\\t\\t\\t\\tBackers: 0   \n",
       "0  \\n\\t\\t\\t\\t\\tCampaign Dates: November 26th -> J...  \\n\\t\\t\\t\\t\\tBackers: 0   \n",
       "1  \\n\\t\\t\\t\\t\\tCampaign Dates: November 24th -> J...  \\n\\t\\t\\t\\t\\tBackers: 3   \n",
       "0  \\n\\t\\t\\t\\t\\tCampaign Dates: November 26th -> J...  \\n\\t\\t\\t\\t\\tBackers: 0   \n",
       "1  \\n\\t\\t\\t\\t\\tCampaign Dates: November 24th -> J...  \\n\\t\\t\\t\\t\\tBackers: 3   \n",
       "\n",
       "  category  description_length  n_pledges  pledge_level_min  pledge_level_max  \\\n",
       "0      Art                  93          1                 5                 5   \n",
       "0      Art                  93          1                 5                 5   \n",
       "1      Art                 106          3                 2               100   \n",
       "0      Art                  93          1                 5                 5   \n",
       "1      Art                 106          3                 2               100   \n",
       "\n",
       "   pledge_level_stddev currency  \n",
       "0              0.00000        £  \n",
       "0              0.00000        £  \n",
       "1             45.50702        $  \n",
       "0              0.00000        £  \n",
       "1             45.50702        $  "
      ]
     },
     "execution_count": 55,
     "metadata": {},
     "output_type": "execute_result"
    }
   ],
   "source": [
    "projects_subset"
   ]
  },
  {
   "cell_type": "code",
   "execution_count": 63,
   "metadata": {},
   "outputs": [
    {
     "data": {
      "text/plain": [
       "array(['\\n\\t\\t\\t\\t\\tBackers: 0', '\\n\\t\\t\\t\\t\\tBackers: 3'], dtype=object)"
      ]
     },
     "execution_count": 63,
     "metadata": {},
     "output_type": "execute_result"
    }
   ],
   "source": [
    "projects_subset.backers.unique()"
   ]
  },
  {
   "cell_type": "code",
   "execution_count": null,
   "metadata": {},
   "outputs": [],
   "source": []
  },
  {
   "cell_type": "code",
   "execution_count": null,
   "metadata": {},
   "outputs": [],
   "source": []
  },
  {
   "cell_type": "code",
   "execution_count": null,
   "metadata": {},
   "outputs": [],
   "source": []
  },
  {
   "cell_type": "code",
   "execution_count": null,
   "metadata": {},
   "outputs": [],
   "source": []
  },
  {
   "cell_type": "code",
   "execution_count": 24,
   "metadata": {},
   "outputs": [
    {
     "ename": "AttributeError",
     "evalue": "'str' object has no attribute 'kickstarter_page'",
     "output_type": "error",
     "traceback": [
      "\u001b[0;31m---------------------------------------------------------------------------\u001b[0m",
      "\u001b[0;31mAttributeError\u001b[0m                            Traceback (most recent call last)",
      "\u001b[0;32m<ipython-input-24-d3d5bd97888b>\u001b[0m in \u001b[0;36m<module>\u001b[0;34m()\u001b[0m\n\u001b[1;32m      1\u001b[0m \u001b[0;32mfor\u001b[0m \u001b[0mproject\u001b[0m \u001b[0;32min\u001b[0m \u001b[0mprojects\u001b[0m\u001b[0;34m[\u001b[0m\u001b[0;36m0\u001b[0m\u001b[0;34m:\u001b[0m\u001b[0;36m5\u001b[0m\u001b[0;34m]\u001b[0m\u001b[0;34m:\u001b[0m\u001b[0;34m\u001b[0m\u001b[0m\n\u001b[0;32m----> 2\u001b[0;31m     \u001b[0murl\u001b[0m \u001b[0;34m=\u001b[0m \u001b[0;34m'https://www.kickstarter.com/'\u001b[0m \u001b[0;34m+\u001b[0m \u001b[0mproject\u001b[0m\u001b[0;34m.\u001b[0m\u001b[0mkickstarter_page\u001b[0m\u001b[0;34m\u001b[0m\u001b[0m\n\u001b[0m\u001b[1;32m      3\u001b[0m \u001b[0;34m\u001b[0m\u001b[0m\n\u001b[1;32m      4\u001b[0m     \u001b[0mresponse\u001b[0m \u001b[0;34m=\u001b[0m \u001b[0mrequests\u001b[0m\u001b[0;34m.\u001b[0m\u001b[0mget\u001b[0m\u001b[0;34m(\u001b[0m\u001b[0murl\u001b[0m\u001b[0;34m)\u001b[0m\u001b[0;34m\u001b[0m\u001b[0m\n\u001b[1;32m      5\u001b[0m     \u001b[0mpage\u001b[0m \u001b[0;34m=\u001b[0m \u001b[0mresponse\u001b[0m\u001b[0;34m.\u001b[0m\u001b[0mtext\u001b[0m\u001b[0;34m\u001b[0m\u001b[0m\n",
      "\u001b[0;31mAttributeError\u001b[0m: 'str' object has no attribute 'kickstarter_page'"
     ]
    }
   ],
   "source": [
    "for project in projects[0:5]:\n",
    "    url = 'https://www.kickstarter.com/' + project.kickstarter_page\n",
    "        \n",
    "    response = requests.get(url)\n",
    "    page = response.text\n",
    "    soup = BeautifulSoup(page,'lxml')\n",
    "\n",
    "    pledges = soup.find_all(class_='pledge__info')\n",
    "    \n",
    "    n_pledges = len(pledges)\n",
    "    \n",
    "    pledge_amounts=[]\n",
    "    for pledge in pledges:\n",
    "        pledge_amount = pledge.find(class_='money').text.replace('$','')\n",
    "        if pledge[0] == re.compile('\\d'):\n",
    "            pledge_amounts.append(int(pledge))\n",
    "        else:\n",
    "            projects['currency'] = pledge[0]\n",
    "            pledge_amounts.append(int(pledge[1:]))\n",
    "\n",
    "    descript_paragraphs = soup.find(class_=\"full-description js-full-description responsive-media formatted-lists\").find_all('p')\n",
    "    description_words = 0\n",
    "    for par in descript_paragraphs:\n",
    "        description_words += len(str(par.text).split())\n",
    "        \n",
    "    project.description_length = description_words\n",
    "    project.n_pledges = n_pledges\n",
    "    project.pledge_level_min = min(pledge_amounts)\n",
    "    project.pledge_level_max = max(pledge_amounts)\n",
    "    project.pledge_level_stddev = np.std(pledge_amounts)\n",
    "        \n",
    "    time.sleep(2+random.uniform(0,2))"
   ]
  },
  {
   "cell_type": "code",
   "execution_count": 74,
   "metadata": {},
   "outputs": [
    {
     "name": "stdout",
     "output_type": "stream",
     "text": [
      "0 a\n",
      "1 b\n",
      "2 c\n"
     ]
    }
   ],
   "source": [
    "for i, j in enumerate(['a','b','c']):\n",
    "    print(i,j)"
   ]
  },
  {
   "cell_type": "code",
   "execution_count": 68,
   "metadata": {},
   "outputs": [],
   "source": [
    "url = 'https://www.kickstarter.com//projects/1934089488/not-enough-fish/'\n",
    "\n",
    "response = requests.get(url)\n",
    "page = response.text\n",
    "soup = BeautifulSoup(page,'lxml')\n",
    "\n",
    "pledges = soup.find_all(class_='pledge__info')\n",
    "n_pledges = len(pledges)\n",
    "pledge_amounts=[]\n",
    "for pledge in pledges:\n",
    "    pledge_amounts.append(pledge.find(class_='money').text.replace('$',''))\n",
    "\n",
    "descript_paragraphs = soup.find(class_=\"full-description js-full-description responsive-media formatted-lists\").find_all('p')\n",
    "description_words = 0\n",
    "for par in descript_paragraphs:\n",
    "    description_words += len(str(par.text).split())"
   ]
  },
  {
   "cell_type": "code",
   "execution_count": null,
   "metadata": {},
   "outputs": [],
   "source": []
  }
 ],
 "metadata": {
  "kernelspec": {
   "display_name": "Python 3",
   "language": "python",
   "name": "python3"
  },
  "language_info": {
   "codemirror_mode": {
    "name": "ipython",
    "version": 3
   },
   "file_extension": ".py",
   "mimetype": "text/x-python",
   "name": "python",
   "nbconvert_exporter": "python",
   "pygments_lexer": "ipython3",
   "version": "3.6.4"
  }
 },
 "nbformat": 4,
 "nbformat_minor": 2
}
