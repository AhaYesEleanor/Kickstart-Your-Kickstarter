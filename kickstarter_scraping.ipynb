{
 "cells": [
  {
   "cell_type": "code",
   "execution_count": 1,
   "metadata": {},
   "outputs": [],
   "source": [
    "import requests\n",
    "import time\n",
    "import re\n",
    "import pandas as pd\n",
    "import numpy as np\n",
    "import random\n",
    "from bs4 import BeautifulSoup"
   ]
  },
  {
   "cell_type": "code",
   "execution_count": 2,
   "metadata": {},
   "outputs": [],
   "source": [
    "projects=pd.DataFrame(columns=['kickstarter_page','funding', 'campaign_dates', 'backers', 'category'])"
   ]
  },
  {
   "cell_type": "code",
   "execution_count": 3,
   "metadata": {},
   "outputs": [
    {
     "name": "stdout",
     "output_type": "stream",
     "text": [
      "url is https://www.kicktraq.com/archive/?page=234\n",
      "url is https://www.kicktraq.com/archive/?page=2636\n",
      "url is https://www.kicktraq.com/archive/?page=7178\n",
      "url is https://www.kicktraq.com/archive/?page=7664\n",
      "url is https://www.kicktraq.com/archive/?page=1958\n"
     ]
    }
   ],
   "source": [
    "#1-8000 are available\n",
    "page_numbers = np.random.randint(1,high=8000,size=5)\n",
    "for page_num in page_numbers:\n",
    "    url = 'https://www.kicktraq.com/archive/?page='+str(page_num)\n",
    "    print('url is ' + url)\n",
    "    kickstarter_page = []\n",
    "    funding = []\n",
    "    campaign_dates = []\n",
    "    backers = []\n",
    "    categories = []\n",
    "    \n",
    "    response = requests.get(url)\n",
    "    \n",
    "    while True:\n",
    "        if response.status_code == 200:\n",
    "                break\n",
    "        else:\n",
    "            response = requests.get(url)\n",
    "    \n",
    "    page = response.text\n",
    "    soup = BeautifulSoup(page,'lxml')\n",
    "    \n",
    "    \n",
    "    all_projects_on_page = soup.find_all(class_=\"project first odd closed\")\n",
    "    all_projects_on_page = all_projects_on_page + soup.find_all(class_=\"project odd closed\")\n",
    "    all_projects_on_page = all_projects_on_page + soup.find_all(class_=\"project closed\")\n",
    "\n",
    "    for project in all_projects_on_page: \n",
    "        #if statement tests to see if funding info is available. If it is, we include the project. If not, we don't!\n",
    "        funding_info = project.find(class_='project-details').find(text=re.compile('Funding: .\\d*.\\d* of .\\d*.\\d*'))\n",
    "        if funding_info != None:\n",
    "            funding.append(str(funding_info).replace('$',''))\n",
    "\n",
    "            kickstarter_page.append(str(project.find('h2').find('a')['href']))\n",
    "            campaign_dates.append(str(project.find(class_='project-details').find(text=re.compile('Dates: \\w* \\d*\\w* \\-\\> \\w* \\d*\\w* \\(\\d*\\)'))))\n",
    "            backers.append(str(project.find(class_='project-details').find(text=re.compile('Backers: \\d*'))))\n",
    "            categories.append(str(project.find(class_='project-cat').find('a').text))\n",
    "            d = {'kickstarter_page': kickstarter_page,'funding': funding, 'campaign_dates': campaign_dates, 'backers': backers,'category': categories}\n",
    "            page_df = pd.DataFrame(d)\n",
    "\n",
    "    projects = pd.concat([projects, page_df])\n",
    "\n",
    "\n",
    "    time.sleep(10+random.uniform(0,2))\n"
   ]
  },
  {
   "cell_type": "code",
   "execution_count": 8,
   "metadata": {},
   "outputs": [
    {
     "data": {
      "text/plain": [
       "(60,)"
      ]
     },
     "execution_count": 8,
     "metadata": {},
     "output_type": "execute_result"
    }
   ],
   "source": [
    "projects.kickstarter_page.unique().shape"
   ]
  },
  {
   "cell_type": "code",
   "execution_count": null,
   "metadata": {},
   "outputs": [],
   "source": [
    "projects = projects.drop_duplicates"
   ]
  },
  {
   "cell_type": "code",
   "execution_count": null,
   "metadata": {},
   "outputs": [],
   "source": [
    "projects['description_length'] = 0\n",
    "projects['n_pledges'] = 0\n",
    "projects['pledge_level_min'] = 0\n",
    "projects['pledge_level_max'] = 0\n",
    "projects['pledge_level_stddev'] = 0\n",
    "projects['currency'] = '$'"
   ]
  },
  {
   "cell_type": "code",
   "execution_count": null,
   "metadata": {},
   "outputs": [],
   "source": [
    "def get_kickstarter_data(proj_series):\n",
    "    url = 'https://www.kickstarter.com/' + proj_series.kickstarter_page\n",
    "    print(url)    \n",
    "    response = requests.get(url)\n",
    "    while True:\n",
    "        if response.status_code == 200:\n",
    "                break\n",
    "        else:\n",
    "            response = requests.get(url)\n",
    "    page = response.text\n",
    "    soup = BeautifulSoup(page,'lxml')\n",
    "\n",
    "    pledges = soup.find_all(class_='pledge__info')\n",
    "    \n",
    "    n_pledges = len(pledges)\n",
    "    \n",
    "    pledge_amounts=[]\n",
    "    for pledge in pledges:\n",
    "        pledge_amount = str(pledge.find(class_='money').text.replace('$',''))\n",
    "        currency = ''\n",
    "        #while the first character in pledge_amount is not an integer\n",
    "        while not (re.match('\\d',pledge_amount[0])):\n",
    "            currency = currency + (pledge_amount[0])\n",
    "            pledge_amount = pledge_amount[1:]\n",
    "        if currency == '':\n",
    "            currency = '$'\n",
    "        proj_series['currency'] = currency\n",
    "        pledge_amounts.append(int(pledge_amount.replace(',','')))\n",
    "\n",
    "    descript_paragraphs = soup.find(class_=\"full-description js-full-description responsive-media formatted-lists\").find_all('p')\n",
    "    description_words = 0\n",
    "    for par in descript_paragraphs:\n",
    "        description_words += len(str(par.text).split())\n",
    "        \n",
    "    proj_series.description_length = description_words\n",
    "    proj_series.n_pledges = n_pledges\n",
    "    proj_series.pledge_level_min = min(pledge_amounts)\n",
    "    proj_series.pledge_level_max = max(pledge_amounts)\n",
    "    proj_series.pledge_level_stddev = np.std(pledge_amounts)\n",
    "    \n",
    "    return proj_series\n",
    "        \n",
    "    time.sleep(2+random.uniform(0,2))"
   ]
  },
  {
   "cell_type": "code",
   "execution_count": null,
   "metadata": {},
   "outputs": [],
   "source": [
    "projects = projects.apply(get_kickstarter_data, axis=1)"
   ]
  },
  {
   "cell_type": "code",
   "execution_count": null,
   "metadata": {},
   "outputs": [],
   "source": [
    "projects.head()"
   ]
  },
  {
   "cell_type": "code",
   "execution_count": null,
   "metadata": {},
   "outputs": [],
   "source": [
    "import pickle\n",
    "with open('kickstarter_data_raw.pickle', 'wb') as f:\n",
    "    pickle.dump(projects,f)"
   ]
  },
  {
   "cell_type": "code",
   "execution_count": null,
   "metadata": {},
   "outputs": [],
   "source": [
    "#selenium"
   ]
  },
  {
   "cell_type": "code",
   "execution_count": 9,
   "metadata": {},
   "outputs": [],
   "source": [
    "from selenium import webdriver\n",
    "from selenium.webdriver.common.keys import Keys\n",
    "import time\n",
    "\n",
    "import os\n",
    "\n",
    "chrome_options = webdriver.ChromeOptions()\n",
    "chrome_options.add_argument('--no-sandbox')\n",
    "chrome_options.binary_location = '/usr/bin/google-chrome'\n",
    "\n",
    "chromedriver = \"/bin/chromedriver\"\n",
    "os.environ[\"webdriver.chrome.driver\"] = chromedriver\n",
    "\n",
    "\n",
    "driver = webdriver.Chrome(\"/usr/lib/chromium-browser/chromedriver\")\n"
   ]
  },
  {
   "cell_type": "code",
   "execution_count": 10,
   "metadata": {},
   "outputs": [],
   "source": [
    "for page_num in page_numbers:\n",
    "    url = 'https://www.kicktraq.com/archive/?page='+str(page_num)\n",
    "    driver.get(url)\n",
    "    time.sleep(10)"
   ]
  },
  {
   "cell_type": "code",
   "execution_count": null,
   "metadata": {},
   "outputs": [],
   "source": []
  },
  {
   "cell_type": "code",
   "execution_count": null,
   "metadata": {},
   "outputs": [],
   "source": []
  },
  {
   "cell_type": "code",
   "execution_count": null,
   "metadata": {},
   "outputs": [],
   "source": []
  }
 ],
 "metadata": {
  "kernelspec": {
   "display_name": "Python 3",
   "language": "python",
   "name": "python3"
  },
  "language_info": {
   "codemirror_mode": {
    "name": "ipython",
    "version": 3
   },
   "file_extension": ".py",
   "mimetype": "text/x-python",
   "name": "python",
   "nbconvert_exporter": "python",
   "pygments_lexer": "ipython3",
   "version": "3.6.4"
  }
 },
 "nbformat": 4,
 "nbformat_minor": 2
}
