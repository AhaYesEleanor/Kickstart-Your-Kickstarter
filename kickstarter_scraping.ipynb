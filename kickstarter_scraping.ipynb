{
 "cells": [
  {
   "cell_type": "code",
   "execution_count": 4,
   "metadata": {},
   "outputs": [],
   "source": [
    "import requests\n",
    "import time\n",
    "import re\n",
    "import pandas as pd\n",
    "from bs4 import BeautifulSoup"
   ]
  },
  {
   "cell_type": "code",
   "execution_count": 5,
   "metadata": {},
   "outputs": [],
   "source": [
    "url = 'https://www.kicktraq.com/archive/'\n",
    "\n",
    "response = requests.get(url)"
   ]
  },
  {
   "cell_type": "code",
   "execution_count": 6,
   "metadata": {},
   "outputs": [
    {
     "data": {
      "text/plain": [
       "200"
      ]
     },
     "execution_count": 6,
     "metadata": {},
     "output_type": "execute_result"
    }
   ],
   "source": [
    "response.status_code"
   ]
  },
  {
   "cell_type": "code",
   "execution_count": 7,
   "metadata": {},
   "outputs": [],
   "source": [
    "page = response.text"
   ]
  },
  {
   "cell_type": "code",
   "execution_count": 8,
   "metadata": {},
   "outputs": [],
   "source": [
    "soup = BeautifulSoup(page,'lxml')"
   ]
  },
  {
   "cell_type": "code",
   "execution_count": 25,
   "metadata": {},
   "outputs": [],
   "source": [
    "kickstarter_page = []\n",
    "funding = []\n",
    "campaign_dates = []\n",
    "\n",
    "all_projects_on_page = soup.find_all(class_=\"project first odd closed\")\n",
    "all_projects_on_page = all_projects_on_page + soup.find_all(class_=\"project odd closed\")\n",
    "all_projects_on_page = all_projects_on_page + soup.find_all(class_=\"project closed\")\n",
    "\n",
    "for project in all_projects_on_page: \n",
    "    #projects.append(project)\n",
    "    kickstarter_page.append(project.find('h2').find('a')['href'])\n",
    "    funding.append(project.find(class_='project-details').find(text=re.compile('Funding: .\\d* of .\\d*.\\d*')))\n",
    "    campaign_dates.append(project.find(class_='project-details').find(text=re.compile('Dates: \\w* \\d*\\w* \\-\\> \\w* \\d*\\w* \\(\\d*\\)')))"
   ]
  },
  {
   "cell_type": "code",
   "execution_count": 28,
   "metadata": {},
   "outputs": [
    {
     "data": {
      "text/plain": [
       "['\\n\\t\\t\\t\\t\\tCampaign Dates: November 26th -> January 25th (2015)',\n",
       " '\\n\\t\\t\\t\\t\\tCampaign Dates: November 24th -> January 23rd (2015)',\n",
       " '\\n\\t\\t\\t\\t\\tCampaign Dates: November 21st -> January 20th (2015)',\n",
       " '\\n\\t\\t\\t\\t\\tCampaign Dates: November 19th -> January 17th (2015)',\n",
       " '\\n\\t\\t\\t\\t\\tCampaign Dates: November 17th -> January 16th (2015)']"
      ]
     },
     "execution_count": 28,
     "metadata": {},
     "output_type": "execute_result"
    }
   ],
   "source": [
    "campaign_dates[0:5]"
   ]
  },
  {
   "cell_type": "code",
   "execution_count": 11,
   "metadata": {},
   "outputs": [
    {
     "name": "stdout",
     "output_type": "stream",
     "text": [
      "[<h2><a href=\"/projects/1063028485/good-art-guide/\">Good art guide (Canceled)</a></h2>, <h2><a href=\"/projects/2ucid/i-want-to-be-welcomed/\">I Want To Be Welcomed...</a></h2>, <h2><a href=\"/projects/spiderwebcitytx/katlynn-maries-horror-and-other-makeup/\">Katlynn Marie's Horror &amp; Other Makeup</a></h2>, <h2><a href=\"/projects/655647929/the-life-of-an-avid-gambler/\">The Life Of An Avid Gambler (Canceled)</a></h2>, <h2><a href=\"/projects/mnassar/wwwparkinglocatorcomau/\">www.Parkinglocator.com.au</a></h2>, <h2><a href=\"/projects/576040839/my-dead-friends-web-series/\">My Dead Friends Web Series</a></h2>, <h2><a href=\"/projects/1934089488/not-enough-fish/\">Not Enough Fish</a></h2>, <h2><a href=\"/projects/458506913/gift-of-designs/\">Gift Of Designs</a></h2>, <h2><a href=\"/projects/timodwyer/hurt-fate-feature-film/\">Hurt Fate Feature Film</a></h2>, <h2><a href=\"/projects/1988967617/the-riders-perspective/\">The Rider's Perspective</a></h2>, <h2><a href=\"/projects/1110787116/jules-writes-a-book-about-her-infertility-journey/\">Jules Writes a Book About Her Infertility Journey</a></h2>, <h2><a href=\"/projects/92276356/music-equipment-0/\">Music Equipment</a></h2>, <h2><a href=\"/projects/1796210874/1st-interchangeable-in-function-parts-of-smart-sho/\">1'st interchangeable in function parts of smart shoes</a></h2>, <h2><a href=\"/projects/2010231985/3-girls-1-mexico-trip/\">3 Girls 1 Mexico Trip</a></h2>, <h2><a href=\"/projects/210541927/carbon-fiber-jewelry-rings-multiple-widths/\">Carbon Fiber Jewelry Rings (Multiple Widths!)</a></h2>]\n"
     ]
    }
   ],
   "source": [
    "#projects[1]\n"
   ]
  },
  {
   "cell_type": "code",
   "execution_count": null,
   "metadata": {},
   "outputs": [],
   "source": [
    "projects=pd.DataFrame(columns=['kickstarter_page','funding','funding_goal', 'campaign dates'])"
   ]
  },
  {
   "cell_type": "code",
   "execution_count": null,
   "metadata": {},
   "outputs": [],
   "source": [
    "\n",
    "for page_num in range(1,8000):\n",
    "    url = 'https://www.kicktraq.com/archive/?page='+str(page_num)\n",
    "    \n",
    "    response = requests.get(url)\n",
    "    page = response.text\n",
    "    soup = BeautifulSoup(page,'lxml')\n",
    "    \n",
    "    \n",
    "    \n",
    "    \n",
    "    \n",
    "    time.sleep(11)\n"
   ]
  },
  {
   "cell_type": "code",
   "execution_count": null,
   "metadata": {},
   "outputs": [],
   "source": []
  }
 ],
 "metadata": {
  "kernelspec": {
   "display_name": "Python 3",
   "language": "python",
   "name": "python3"
  },
  "language_info": {
   "codemirror_mode": {
    "name": "ipython",
    "version": 3
   },
   "file_extension": ".py",
   "mimetype": "text/x-python",
   "name": "python",
   "nbconvert_exporter": "python",
   "pygments_lexer": "ipython3",
   "version": "3.6.4"
  }
 },
 "nbformat": 4,
 "nbformat_minor": 2
}
