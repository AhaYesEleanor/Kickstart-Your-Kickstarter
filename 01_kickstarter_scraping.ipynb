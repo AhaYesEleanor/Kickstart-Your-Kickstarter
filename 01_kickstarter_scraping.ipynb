{
 "cells": [
  {
   "cell_type": "code",
   "execution_count": 16,
   "metadata": {},
   "outputs": [],
   "source": [
    "import sys\n",
    "sys.path.append(\"./function_scripts\")\n",
    "from kickstarter_scraping_fns import get_kickstarter_data\n",
    "\n",
    "import pandas as pd\n",
    "import numpy as np\n",
    "import pickle\n",
    "#import glob\n",
    "\n",
    "from bs4 import BeautifulSoup"
   ]
  },
  {
   "cell_type": "code",
   "execution_count": 17,
   "metadata": {},
   "outputs": [],
   "source": [
    "# uncomment this cell and comment out the next one if starting with a pickle file of all scraped pages\n",
    "\n",
    "#with open('kicktraq_data.pickle', 'rb') as f:\n",
    "#    projects = pickle.load(f)"
   ]
  },
  {
   "cell_type": "code",
   "execution_count": null,
   "metadata": {},
   "outputs": [],
   "source": [
    "# where to save final pickled dataframe of kickstarter data:\n",
    "filename_to_save = 'all_data_dirty_2000_4000.pickle'"
   ]
  },
  {
   "cell_type": "markdown",
   "metadata": {},
   "source": [
    "##### Build projects dataframe from kicktraq page CSVs"
   ]
  },
  {
   "cell_type": "code",
   "execution_count": 20,
   "metadata": {},
   "outputs": [],
   "source": [
    "kicktraq_page_numbers = range(2000,4000)\n",
    "projects=pd.DataFrame(columns=['kickstarter_page','funding', 'campaign_dates', 'backers', 'category'])\n",
    "col_types = {'kickstarter_page': 'str','funding': 'str', 'campaign_dates': 'str', 'backers': 'str', 'category': 'str'}\n",
    "\n",
    "for page_num in kicktraq_page_numbers:\n",
    "    filename = 'kicktraq_files/kicktraq_page_num' + str(page_num)\n",
    "# for filename in glob('kicktraq_files/*'):\n",
    "    page_df = pd.read_csv(filename, dtype=col_types)\n",
    "    projects = pd.concat([projects, page_df])"
   ]
  },
  {
   "cell_type": "markdown",
   "metadata": {},
   "source": [
    "##### Check for duplicate rows in projects dataframe"
   ]
  },
  {
   "cell_type": "code",
   "execution_count": 21,
   "metadata": {},
   "outputs": [
    {
     "name": "stdout",
     "output_type": "stream",
     "text": [
      "(29873,)\n",
      "(29873,)\n"
     ]
    }
   ],
   "source": [
    "#check for duplicates\n",
    "print(projects.kickstarter_page.shape)\n",
    "print(projects.kickstarter_page.unique().shape)\n",
    "shape1 = projects.kickstarter_page.shape\n",
    "shape2 = projects.kickstarter_page.unique().shape\n",
    "if shape1 != shape2:\n",
    "    projects.drop_duplicates(subset='kickstarter_page', inplace=True)"
   ]
  },
  {
   "cell_type": "markdown",
   "metadata": {},
   "source": [
    "##### Initialize columns for kickstarter data with base values"
   ]
  },
  {
   "cell_type": "code",
   "execution_count": 22,
   "metadata": {},
   "outputs": [],
   "source": [
    "projects['description_length'] = 0\n",
    "projects['n_pledges'] = 0\n",
    "projects['pledge_level_min'] = 0\n",
    "projects['pledge_level_max'] = 0\n",
    "projects['pledge_level_stddev'] = 0\n",
    "projects['currency'] = '$'"
   ]
  },
  {
   "cell_type": "markdown",
   "metadata": {},
   "source": [
    "##### Scrape data from kickstarter pages and insert it into each row"
   ]
  },
  {
   "cell_type": "code",
   "execution_count": null,
   "metadata": {},
   "outputs": [
    {
     "name": "stdout",
     "output_type": "stream",
     "text": [
      "something went wrong withkickstarter_files/adjustable-candle-holder.txt\n",
      "something went wrong withkickstarter_files/particule-a-2-3d-mobile-survival-game-with-multipl.txt\n",
      "something went wrong withkickstarter_files/my-girlfriend-likes-hot-cheetos.txt\n",
      "something went wrong withkickstarter_files/we-are-shylight-a-creative-agency-built-on-passion.txt\n",
      "something went wrong withkickstarter_files/asmr-gaming-channel.txt\n",
      "something went wrong withkickstarter_files/pac-man-pen-holder.txt\n",
      "something went wrong withkickstarter_files/steven-alexander-golf.txt\n",
      "something went wrong withkickstarter_files/tassnata-before-morning-ep.txt\n",
      "something went wrong withkickstarter_files/official-catan-collectors-series.txt\n",
      "something went wrong withkickstarter_files/the-sons-of-jihad-part-1-shocking-horror-film.txt\n",
      "something went wrong withkickstarter_files/the-great-kingdom.txt\n",
      "something went wrong withkickstarter_files/the-gloaming-a-tale-of-ghosts-quantum-theory-and-l.txt\n",
      "something went wrong withkickstarter_files/operation-transparent-borders.txt\n",
      "something went wrong withkickstarter_files/lucky-sunday-ep.txt\n"
     ]
    }
   ],
   "source": [
    "projects = projects.apply(get_kickstarter_data, axis=1)"
   ]
  },
  {
   "cell_type": "code",
   "execution_count": null,
   "metadata": {},
   "outputs": [],
   "source": [
    "#col_types = {'kickstarter_page': 'str','funding': 'str', 'campaign_dates': 'str', 'backers': 'str', 'category': 'str', \n",
    "#             'description_length': 'int', 'n_pledges': 'int', 'pledge_level_min': 'int', 'pledge_level_max': 'int', \n",
    "#             'pledge_level_stddev': 'int', 'currency': 'str'}\n",
    "#projects.astype(col_types, copy=False, errors='raise', encoding='utf-8')"
   ]
  },
  {
   "cell_type": "code",
   "execution_count": null,
   "metadata": {},
   "outputs": [],
   "source": [
    "projects.shape"
   ]
  },
  {
   "cell_type": "code",
   "execution_count": null,
   "metadata": {},
   "outputs": [],
   "source": [
    "with open(filename_to_save, 'wb') as f:\n",
    "    pickle.dump(projects, f)"
   ]
  }
 ],
 "metadata": {
  "kernelspec": {
   "display_name": "Python 3",
   "language": "python",
   "name": "python3"
  },
  "language_info": {
   "codemirror_mode": {
    "name": "ipython",
    "version": 3
   },
   "file_extension": ".py",
   "mimetype": "text/x-python",
   "name": "python",
   "nbconvert_exporter": "python",
   "pygments_lexer": "ipython3",
   "version": "3.6.4"
  }
 },
 "nbformat": 4,
 "nbformat_minor": 2
}
